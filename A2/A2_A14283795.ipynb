{
 "cells": [
  {
   "cell_type": "markdown",
   "metadata": {
    "collapsed": true,
    "deletable": false,
    "editable": false,
    "nbgrader": {
     "checksum": "69dc79a98716b6e1164c70b1e4e20d44",
     "grade": false,
     "grade_id": "title",
     "locked": true,
     "schema_version": 1,
     "solution": false
    }
   },
   "source": [
    "# COGS 108 - Assignment 2: Data Exploration"
   ]
  },
  {
   "cell_type": "markdown",
   "metadata": {
    "deletable": false,
    "editable": false,
    "nbgrader": {
     "checksum": "62f82507a52cfbe43178db9021ce907f",
     "grade": false,
     "grade_id": "submission",
     "locked": true,
     "schema_version": 1,
     "solution": false
    }
   },
   "source": [
    "# Important\n",
    "\n",
    "- Rename this file to 'A2_A########.ipynb' (filled in with your student ID) before you submit it. Submit it to TritonED.\n",
    "- This assignment has hidden tests: tests that are not visible here, but that will be run on your submitted. \n",
    "    - This means passing all the tests you can see in the notebook here does not guarantee you have the right answer!"
   ]
  },
  {
   "cell_type": "markdown",
   "metadata": {
    "deletable": false,
    "editable": false,
    "nbgrader": {
     "checksum": "6821f001b3dc5fe9e33600ff076f4328",
     "grade": false,
     "grade_id": "part1",
     "locked": true,
     "schema_version": 1,
     "solution": false
    }
   },
   "source": [
    "## Part 1 - Data Wrangling\n",
    "\n",
    "You are provided with two data files:\n",
    "- age_steps.csv\n",
    "- name_income_id.json"
   ]
  },
  {
   "cell_type": "code",
   "execution_count": 2,
   "metadata": {
    "collapsed": true,
    "deletable": false,
    "editable": false,
    "nbgrader": {
     "checksum": "22fb31f5f77851d56e705ff72fa95b40",
     "grade": false,
     "grade_id": "import",
     "locked": true,
     "schema_version": 1,
     "solution": false
    }
   },
   "outputs": [],
   "source": [
    "# Imports\n",
    "#  Note: these are all the imports you need! Do not import any other functions / packages\n",
    "%matplotlib inline\n",
    "\n",
    "import numpy as np\n",
    "import pandas as pd\n",
    "import matplotlib.pyplot as plt"
   ]
  },
  {
   "cell_type": "code",
   "execution_count": 3,
   "metadata": {
    "deletable": false,
    "nbgrader": {
     "checksum": "3c02621d463b7c1eaecac2f0bbd60b66",
     "grade": false,
     "grade_id": "load_steps",
     "locked": false,
     "schema_version": 1,
     "solution": true
    }
   },
   "outputs": [
    {
     "name": "stdout",
     "output_type": "stream",
     "text": [
      "        id  age  steps\n",
      "0      215   54   6276\n",
      "1      237   48  18999\n",
      "2      335   63  13102\n",
      "3      398   54  16028\n",
      "4      439   45  18621\n",
      "5      528   63  22166\n",
      "6      533   39  15258\n",
      "7      639   55  15891\n",
      "8      670   52  17403\n",
      "9     1079   36  15888\n",
      "10    1331   50  20127\n",
      "11    1589   52  17297\n",
      "12    1649   53  19800\n",
      "13    1774   37     -1\n",
      "14    1865   33  23668\n",
      "15    2490   53  20459\n",
      "16    2542   69  11251\n",
      "17    2790   42  17258\n",
      "18    2983   45  11084\n",
      "19    3080   62  23138\n",
      "20    3148   70  14950\n",
      "21    3220   46  17461\n",
      "22    3259   68  14606\n",
      "23    3537   37  14785\n",
      "24    3740   49  17122\n",
      "25    3899   75  13485\n",
      "26    4236   47  21689\n",
      "27    4381   63  17906\n",
      "28    4383   53  22152\n",
      "29    4456   27  17759\n",
      "..     ...  ...    ...\n",
      "970  96279   45  17569\n",
      "971  96350   63   9539\n",
      "972  96974   40  17111\n",
      "973  97285   39  11400\n",
      "974  97584   56  25164\n",
      "975  97602   34  17282\n",
      "976  97709   55   5426\n",
      "977  97781   53  19630\n",
      "978  97911   51  21522\n",
      "979  97923   52  15095\n",
      "980  98063   24  24456\n",
      "981  98087   54  17647\n",
      "982  98165   74     -1\n",
      "983  98301   39  21737\n",
      "984  98327   41  13615\n",
      "985  98343   39  18542\n",
      "986  98562   54  14340\n",
      "987  98569   67  13820\n",
      "988  98602   54  15848\n",
      "989  98994   35  18918\n",
      "990  99081   53  23041\n",
      "991  99165   62  14790\n",
      "992  99178   47  28772\n",
      "993  99339   52  26568\n",
      "994  99485   41  23966\n",
      "995  99515   52  15809\n",
      "996  99562   40  22948\n",
      "997  99684   39  21940\n",
      "998  99843   50  11547\n",
      "999  99868   56  16953\n",
      "\n",
      "[1000 rows x 3 columns]\n"
     ]
    }
   ],
   "source": [
    "# 1a) Load the csv file into a pandas dataframe. Call it 'df_steps'.\n",
    "df_steps = pd.read_csv(\"age_steps.csv\")\n",
    "#print(df_steps)\n",
    "#raise NotImplementedError()"
   ]
  },
  {
   "cell_type": "code",
   "execution_count": 4,
   "metadata": {
    "collapsed": true,
    "deletable": false,
    "editable": false,
    "nbgrader": {
     "checksum": "e0667cfe5a07dd1e7d56f13ad6fbfc66",
     "grade": true,
     "grade_id": "test_load_steps",
     "locked": true,
     "points": 0.5,
     "schema_version": 1,
     "solution": false
    }
   },
   "outputs": [],
   "source": [
    "assert isinstance(df_steps, pd.DataFrame)\n"
   ]
  },
  {
   "cell_type": "code",
   "execution_count": 5,
   "metadata": {
    "deletable": false,
    "nbgrader": {
     "checksum": "2b8a21496519a2ad879cd3093f45bdb0",
     "grade": false,
     "grade_id": "load_income",
     "locked": false,
     "schema_version": 1,
     "solution": true
    }
   },
   "outputs": [
    {
     "name": "stdout",
     "output_type": "stream",
     "text": [
      "     first_name     id     income   last_name\n",
      "0         Jason  22453   13024.21       Adams\n",
      "1         Paula  49241   61877.51       Adams\n",
      "2        Louise  39570   48288.61   Alexander\n",
      "3         Brian  29963   47622.14   Alexander\n",
      "4        Willie  94698   55014.69   Alexander\n",
      "5          Jane  83527    7294.28   Alexander\n",
      "6        Ashley  77974       0.00   Alexander\n",
      "7        Albert  81933   10307.08       Allen\n",
      "8       Matthew  41611   50897.85       Allen\n",
      "9        Brenda  58809        NaN       Allen\n",
      "10       Evelyn  60011   18448.03    Anderson\n",
      "11        Kathy  87667        NaN    Anderson\n",
      "12        Joyce   7866   11703.75    Anderson\n",
      "13        Kathy  81361   10970.04     Andrews\n",
      "14      Douglas  94925   30739.79     Andrews\n",
      "15        Billy  81747   15899.88     Andrews\n",
      "16       Nicole  81711   15081.68     Andrews\n",
      "17        Alice  13363    7414.03   Armstrong\n",
      "18        Carol  44397   18987.49   Armstrong\n",
      "19      Patrick  76828   31143.18   Armstrong\n",
      "20     Lawrence  48125       0.00   Armstrong\n",
      "21      Russell  13537   15074.09   Armstrong\n",
      "22     Lawrence  91585   36909.95      Arnold\n",
      "23      Anthony  25406    5118.70      Arnold\n",
      "24         Sara  97602    2892.22      Arnold\n",
      "25       Johnny   9562   10475.73      Arnold\n",
      "26    Katherine  87816       0.00      Arnold\n",
      "27         Jose   4236   40202.35      Arnold\n",
      "28         Joan  28332  302218.17      Arnold\n",
      "29   Jacqueline  94304       0.00      Austin\n",
      "..          ...    ...        ...         ...\n",
      "970        Juan  64583    9911.56       White\n",
      "971        Anna  92844   16827.67       White\n",
      "972       Wanda  20531   16060.76    Williams\n",
      "973     Cynthia  29106   14678.51    Williams\n",
      "974       Randy  79145   24436.14  Williamson\n",
      "975       Julia  66683    7192.58  Williamson\n",
      "976         Ann  74040   19558.21      Willis\n",
      "977      Pamela  73994   11151.34      Willis\n",
      "978     Barbara  83221   60267.83      Willis\n",
      "979     Beverly  32158   23775.18      Willis\n",
      "980      Martin  83413   18629.95      Willis\n",
      "981     Michael  23999   11890.84      Wilson\n",
      "982       Steve  84514    5680.28      Wilson\n",
      "983      Pamela  80710    1913.89      Wilson\n",
      "984      Steven  16500  111624.91      Wilson\n",
      "985       Julie  67228   40273.23        Wood\n",
      "986        Lisa  12104    6166.81        Wood\n",
      "987      Nicole  90263   16536.79        Wood\n",
      "988      Joseph  27186   19902.62        Wood\n",
      "989      George  19277    6796.63       Woods\n",
      "990      Carlos  56433   89147.40       Woods\n",
      "991      Teresa  18934    8335.46       Woods\n",
      "992     Stephen  81512   19081.89       Woods\n",
      "993   Katherine   3220    6682.61       Woods\n",
      "994       Diana  34224   50546.98      Wright\n",
      "995    Margaret  81061    4970.75      Wright\n",
      "996      Dennis  52372   20187.22       Young\n",
      "997      Albert  87161   33883.83       Young\n",
      "998   Stephanie  73229   25830.63       Young\n",
      "999     Brandon  72566       0.00       Young\n",
      "\n",
      "[1000 rows x 4 columns]\n"
     ]
    }
   ],
   "source": [
    "# 1b) Load the json file into a (different) pandas dataframe. Call it 'df_income'.\n",
    "df_income = pd.read_json(\"name_income_id.json\")\n",
    "#print(df_income)\n",
    "#raise NotImplementedError()"
   ]
  },
  {
   "cell_type": "code",
   "execution_count": 6,
   "metadata": {
    "collapsed": true,
    "deletable": false,
    "editable": false,
    "nbgrader": {
     "checksum": "c4e04f60c0f9949f38f1fcd07c89411b",
     "grade": true,
     "grade_id": "test_load_income",
     "locked": true,
     "points": 0.5,
     "schema_version": 1,
     "solution": false
    }
   },
   "outputs": [],
   "source": [
    "assert isinstance(df_income, pd.DataFrame)\n"
   ]
  },
  {
   "cell_type": "code",
   "execution_count": 7,
   "metadata": {
    "deletable": false,
    "nbgrader": {
     "checksum": "86475ff829c987f05e15f9f16b8012d6",
     "grade": false,
     "grade_id": "drop_extra_cols",
     "locked": false,
     "schema_version": 1,
     "solution": true
    }
   },
   "outputs": [
    {
     "name": "stdout",
     "output_type": "stream",
     "text": [
      "        id     income\n",
      "0    22453   13024.21\n",
      "1    49241   61877.51\n",
      "2    39570   48288.61\n",
      "3    29963   47622.14\n",
      "4    94698   55014.69\n",
      "5    83527    7294.28\n",
      "6    77974       0.00\n",
      "7    81933   10307.08\n",
      "8    41611   50897.85\n",
      "9    58809        NaN\n",
      "10   60011   18448.03\n",
      "11   87667        NaN\n",
      "12    7866   11703.75\n",
      "13   81361   10970.04\n",
      "14   94925   30739.79\n",
      "15   81747   15899.88\n",
      "16   81711   15081.68\n",
      "17   13363    7414.03\n",
      "18   44397   18987.49\n",
      "19   76828   31143.18\n",
      "20   48125       0.00\n",
      "21   13537   15074.09\n",
      "22   91585   36909.95\n",
      "23   25406    5118.70\n",
      "24   97602    2892.22\n",
      "25    9562   10475.73\n",
      "26   87816       0.00\n",
      "27    4236   40202.35\n",
      "28   28332  302218.17\n",
      "29   94304       0.00\n",
      "..     ...        ...\n",
      "970  64583    9911.56\n",
      "971  92844   16827.67\n",
      "972  20531   16060.76\n",
      "973  29106   14678.51\n",
      "974  79145   24436.14\n",
      "975  66683    7192.58\n",
      "976  74040   19558.21\n",
      "977  73994   11151.34\n",
      "978  83221   60267.83\n",
      "979  32158   23775.18\n",
      "980  83413   18629.95\n",
      "981  23999   11890.84\n",
      "982  84514    5680.28\n",
      "983  80710    1913.89\n",
      "984  16500  111624.91\n",
      "985  67228   40273.23\n",
      "986  12104    6166.81\n",
      "987  90263   16536.79\n",
      "988  27186   19902.62\n",
      "989  19277    6796.63\n",
      "990  56433   89147.40\n",
      "991  18934    8335.46\n",
      "992  81512   19081.89\n",
      "993   3220    6682.61\n",
      "994  34224   50546.98\n",
      "995  81061    4970.75\n",
      "996  52372   20187.22\n",
      "997  87161   33883.83\n",
      "998  73229   25830.63\n",
      "999  72566       0.00\n",
      "\n",
      "[1000 rows x 2 columns]\n"
     ]
    }
   ],
   "source": [
    "# 1c) Drop the 'first_name' and 'last_name' columns from the df_income data frame.\n",
    "# YOUR CODE HERE\n",
    "del df_income['first_name']\n",
    "del df_income['last_name']\n",
    "#print(df_income)\n",
    "#raise NotImplementedError()"
   ]
  },
  {
   "cell_type": "code",
   "execution_count": 8,
   "metadata": {
    "collapsed": true,
    "deletable": false,
    "editable": false,
    "nbgrader": {
     "checksum": "5a2c4056ad20122d1292cb9e2f4d690c",
     "grade": true,
     "grade_id": "test_drop_ext_cols",
     "locked": true,
     "points": 0.25,
     "schema_version": 1,
     "solution": false
    }
   },
   "outputs": [],
   "source": [
    "assert 'first_name' not in df_income.columns\n",
    "assert 'last_name' not in df_income.columns"
   ]
  },
  {
   "cell_type": "code",
   "execution_count": 9,
   "metadata": {
    "deletable": false,
    "nbgrader": {
     "checksum": "61c26518399260896624fa0bb746c73b",
     "grade": false,
     "grade_id": "merge_dat",
     "locked": false,
     "schema_version": 1,
     "solution": true
    }
   },
   "outputs": [
    {
     "name": "stdout",
     "output_type": "stream",
     "text": [
      "        id     income\n",
      "0    22453   13024.21\n",
      "1    49241   61877.51\n",
      "2    39570   48288.61\n",
      "3    29963   47622.14\n",
      "4    94698   55014.69\n",
      "5    83527    7294.28\n",
      "6    77974       0.00\n",
      "7    81933   10307.08\n",
      "8    41611   50897.85\n",
      "9    58809        NaN\n",
      "10   60011   18448.03\n",
      "11   87667        NaN\n",
      "12    7866   11703.75\n",
      "13   81361   10970.04\n",
      "14   94925   30739.79\n",
      "15   81747   15899.88\n",
      "16   81711   15081.68\n",
      "17   13363    7414.03\n",
      "18   44397   18987.49\n",
      "19   76828   31143.18\n",
      "20   48125       0.00\n",
      "21   13537   15074.09\n",
      "22   91585   36909.95\n",
      "23   25406    5118.70\n",
      "24   97602    2892.22\n",
      "25    9562   10475.73\n",
      "26   87816       0.00\n",
      "27    4236   40202.35\n",
      "28   28332  302218.17\n",
      "29   94304       0.00\n",
      "..     ...        ...\n",
      "970  64583    9911.56\n",
      "971  92844   16827.67\n",
      "972  20531   16060.76\n",
      "973  29106   14678.51\n",
      "974  79145   24436.14\n",
      "975  66683    7192.58\n",
      "976  74040   19558.21\n",
      "977  73994   11151.34\n",
      "978  83221   60267.83\n",
      "979  32158   23775.18\n",
      "980  83413   18629.95\n",
      "981  23999   11890.84\n",
      "982  84514    5680.28\n",
      "983  80710    1913.89\n",
      "984  16500  111624.91\n",
      "985  67228   40273.23\n",
      "986  12104    6166.81\n",
      "987  90263   16536.79\n",
      "988  27186   19902.62\n",
      "989  19277    6796.63\n",
      "990  56433   89147.40\n",
      "991  18934    8335.46\n",
      "992  81512   19081.89\n",
      "993   3220    6682.61\n",
      "994  34224   50546.98\n",
      "995  81061    4970.75\n",
      "996  52372   20187.22\n",
      "997  87161   33883.83\n",
      "998  73229   25830.63\n",
      "999  72566       0.00\n",
      "\n",
      "[1000 rows x 2 columns]\n",
      "        id     income  age  steps\n",
      "0    22453   13024.21   47  15436\n",
      "1    49241   61877.51   55  21385\n",
      "2    39570   48288.61   39  12303\n",
      "3    29963   47622.14   44  20565\n",
      "4    94698   55014.69   62  17405\n",
      "5    83527    7294.28   60   7521\n",
      "6    77974       0.00   55  17369\n",
      "7    81933   10307.08   54  20557\n",
      "8    41611   50897.85   77  13831\n",
      "9    58809        NaN   63  12866\n",
      "10   60011   18448.03   39  19785\n",
      "11   87667        NaN   43  15957\n",
      "12    7866   11703.75   30  28311\n",
      "13   81361   10970.04   49  18601\n",
      "14   94925   30739.79   61   9792\n",
      "15   81747   15899.88   49   9589\n",
      "16   81711   15081.68   56   8931\n",
      "17   13363    7414.03   45  23065\n",
      "18   44397   18987.49   39  19097\n",
      "19   76828   31143.18   52  20063\n",
      "20   48125       0.00   63  10968\n",
      "21   13537   15074.09   36  22110\n",
      "22   91585   36909.95   56  13081\n",
      "23   25406    5118.70   27  21714\n",
      "24   97602    2892.22   34  17282\n",
      "25    9562   10475.73   42  20664\n",
      "26   87816       0.00   51  14857\n",
      "27    4236   40202.35   47  21689\n",
      "28   28332  302218.17   66  17211\n",
      "29   94304       0.00   71  20358\n",
      "..     ...        ...  ...    ...\n",
      "970  64583    9911.56   23  12551\n",
      "971  92844   16827.67   26  20841\n",
      "972  20531   16060.76   58  18368\n",
      "973  29106   14678.51   54  12011\n",
      "974  79145   24436.14   43  16933\n",
      "975  66683    7192.58   32  11879\n",
      "976  74040   19558.21   65   9298\n",
      "977  73994   11151.34   50   8367\n",
      "978  83221   60267.83   57  20288\n",
      "979  32158   23775.18   52  14489\n",
      "980  83413   18629.95   44  18680\n",
      "981  23999   11890.84   54  17820\n",
      "982  84514    5680.28   52   6056\n",
      "983  80710    1913.89   28  19488\n",
      "984  16500  111624.91   58  17085\n",
      "985  67228   40273.23   54  22089\n",
      "986  12104    6166.81   41  16440\n",
      "987  90263   16536.79   62  19669\n",
      "988  27186   19902.62   42  16190\n",
      "989  19277    6796.63   43  18570\n",
      "990  56433   89147.40   70  22082\n",
      "991  18934    8335.46   40  20634\n",
      "992  81512   19081.89   51  15388\n",
      "993   3220    6682.61   46  17461\n",
      "994  34224   50546.98   54  12877\n",
      "995  81061    4970.75   55  17181\n",
      "996  52372   20187.22   34  12585\n",
      "997  87161   33883.83   66  19193\n",
      "998  73229   25830.63   67  11524\n",
      "999  72566       0.00   50  21383\n",
      "\n",
      "[1000 rows x 4 columns]\n"
     ]
    }
   ],
   "source": [
    "# 1d) Combine the two dataframes into one combined, new dataframe. Call it 'df'.\n",
    "#  Note: For this part, it doesn't in which order you merge the dataframes.\n",
    "\n",
    "# YOUR CODE HERE\n",
    "#df = pd.concat([df_income, df_steps], axis=1)\n",
    "#print(df_income)\n",
    "df = pd.merge(df_income, df_steps)\n",
    "#print(df)\n",
    "#raise NotImplementedError()"
   ]
  },
  {
   "cell_type": "code",
   "execution_count": 10,
   "metadata": {
    "collapsed": true,
    "deletable": false,
    "editable": false,
    "nbgrader": {
     "checksum": "55d4d756b58eb2e111cc731356c07560",
     "grade": true,
     "grade_id": "test_merge_dat",
     "locked": true,
     "points": 0.5,
     "schema_version": 1,
     "solution": false
    }
   },
   "outputs": [],
   "source": [
    "assert isinstance(df, pd.DataFrame)\n",
    "assert set(df.columns) == set(['id', 'income', 'age', 'steps'])"
   ]
  },
  {
   "cell_type": "code",
   "execution_count": 11,
   "metadata": {
    "deletable": false,
    "nbgrader": {
     "checksum": "ccdaa01a42d04e6723ea6b7100e545c1",
     "grade": false,
     "grade_id": "reorder_cols",
     "locked": false,
     "schema_version": 1,
     "solution": true
    }
   },
   "outputs": [
    {
     "name": "stdout",
     "output_type": "stream",
     "text": [
      "        id  age  steps     income\n",
      "0    22453   47  15436   13024.21\n",
      "1    49241   55  21385   61877.51\n",
      "2    39570   39  12303   48288.61\n",
      "3    29963   44  20565   47622.14\n",
      "4    94698   62  17405   55014.69\n",
      "5    83527   60   7521    7294.28\n",
      "6    77974   55  17369       0.00\n",
      "7    81933   54  20557   10307.08\n",
      "8    41611   77  13831   50897.85\n",
      "9    58809   63  12866        NaN\n",
      "10   60011   39  19785   18448.03\n",
      "11   87667   43  15957        NaN\n",
      "12    7866   30  28311   11703.75\n",
      "13   81361   49  18601   10970.04\n",
      "14   94925   61   9792   30739.79\n",
      "15   81747   49   9589   15899.88\n",
      "16   81711   56   8931   15081.68\n",
      "17   13363   45  23065    7414.03\n",
      "18   44397   39  19097   18987.49\n",
      "19   76828   52  20063   31143.18\n",
      "20   48125   63  10968       0.00\n",
      "21   13537   36  22110   15074.09\n",
      "22   91585   56  13081   36909.95\n",
      "23   25406   27  21714    5118.70\n",
      "24   97602   34  17282    2892.22\n",
      "25    9562   42  20664   10475.73\n",
      "26   87816   51  14857       0.00\n",
      "27    4236   47  21689   40202.35\n",
      "28   28332   66  17211  302218.17\n",
      "29   94304   71  20358       0.00\n",
      "..     ...  ...    ...        ...\n",
      "970  64583   23  12551    9911.56\n",
      "971  92844   26  20841   16827.67\n",
      "972  20531   58  18368   16060.76\n",
      "973  29106   54  12011   14678.51\n",
      "974  79145   43  16933   24436.14\n",
      "975  66683   32  11879    7192.58\n",
      "976  74040   65   9298   19558.21\n",
      "977  73994   50   8367   11151.34\n",
      "978  83221   57  20288   60267.83\n",
      "979  32158   52  14489   23775.18\n",
      "980  83413   44  18680   18629.95\n",
      "981  23999   54  17820   11890.84\n",
      "982  84514   52   6056    5680.28\n",
      "983  80710   28  19488    1913.89\n",
      "984  16500   58  17085  111624.91\n",
      "985  67228   54  22089   40273.23\n",
      "986  12104   41  16440    6166.81\n",
      "987  90263   62  19669   16536.79\n",
      "988  27186   42  16190   19902.62\n",
      "989  19277   43  18570    6796.63\n",
      "990  56433   70  22082   89147.40\n",
      "991  18934   40  20634    8335.46\n",
      "992  81512   51  15388   19081.89\n",
      "993   3220   46  17461    6682.61\n",
      "994  34224   54  12877   50546.98\n",
      "995  81061   55  17181    4970.75\n",
      "996  52372   34  12585   20187.22\n",
      "997  87161   66  19193   33883.83\n",
      "998  73229   67  11524   25830.63\n",
      "999  72566   50  21383       0.00\n",
      "\n",
      "[1000 rows x 4 columns]\n"
     ]
    }
   ],
   "source": [
    "# 1e) Re-Order the Column ID's to be [id, age, steps, income]\n",
    "# YOUR CODE HERE\n",
    "df = df[['id', 'age', 'steps', 'income']]\n",
    "#print(df)\n",
    "#raise NotImplementedError()"
   ]
  },
  {
   "cell_type": "code",
   "execution_count": 12,
   "metadata": {
    "collapsed": true,
    "deletable": false,
    "editable": false,
    "nbgrader": {
     "checksum": "13d0a7341bc145a56fa7926d52d4fb10",
     "grade": true,
     "grade_id": "test_reorder_cols",
     "locked": true,
     "points": 0.25,
     "schema_version": 1,
     "solution": false
    }
   },
   "outputs": [],
   "source": [
    "assert list(df.columns) == ['id', 'age', 'steps', 'income']"
   ]
  },
  {
   "cell_type": "markdown",
   "metadata": {
    "deletable": false,
    "editable": false,
    "nbgrader": {
     "checksum": "2b6ad12e701bd9af0fd51d5e264ad5b7",
     "grade": false,
     "grade_id": "part2",
     "locked": true,
     "schema_version": 1,
     "solution": false
    }
   },
   "source": [
    "## Part 2 - Data Cleaning"
   ]
  },
  {
   "cell_type": "code",
   "execution_count": 13,
   "metadata": {
    "deletable": false,
    "nbgrader": {
     "checksum": "496e20908b156bc4d51251fb9327508e",
     "grade": false,
     "grade_id": "check_n_nan",
     "locked": false,
     "schema_version": 1,
     "solution": true
    }
   },
   "outputs": [
    {
     "name": "stdout",
     "output_type": "stream",
     "text": [
      "12\n"
     ]
    }
   ],
   "source": [
    "# 2a) First check how many missing data (NaNs) there are in the income data.\n",
    "#  Save this number into a variable called 'n_nan'\n",
    "\n",
    "# YOUR CODE HERE\n",
    "#print(df['income'].isnull().sum())\n",
    "n_nan = df['income'].isnull().sum()\n",
    "#raise NotImplementedError()"
   ]
  },
  {
   "cell_type": "code",
   "execution_count": 14,
   "metadata": {
    "collapsed": true,
    "deletable": false,
    "editable": false,
    "nbgrader": {
     "checksum": "dbd6dc51139aca8c6414c1be0d4e5623",
     "grade": true,
     "grade_id": "test_check_n_nan",
     "locked": true,
     "points": 0.25,
     "schema_version": 1,
     "solution": false
    }
   },
   "outputs": [],
   "source": [
    "assert(n_nan)\n"
   ]
  },
  {
   "cell_type": "code",
   "execution_count": 15,
   "metadata": {
    "deletable": false,
    "nbgrader": {
     "checksum": "e64a0479a7e1ec066b316960bd93aeb4",
     "grade": false,
     "grade_id": "rm_nans",
     "locked": false,
     "schema_version": 1,
     "solution": true
    }
   },
   "outputs": [
    {
     "name": "stdout",
     "output_type": "stream",
     "text": [
      "        id  age  steps     income\n",
      "0    22453   47  15436   13024.21\n",
      "1    49241   55  21385   61877.51\n",
      "2    39570   39  12303   48288.61\n",
      "3    29963   44  20565   47622.14\n",
      "4    94698   62  17405   55014.69\n",
      "5    83527   60   7521    7294.28\n",
      "6    77974   55  17369       0.00\n",
      "7    81933   54  20557   10307.08\n",
      "8    41611   77  13831   50897.85\n",
      "10   60011   39  19785   18448.03\n",
      "12    7866   30  28311   11703.75\n",
      "13   81361   49  18601   10970.04\n",
      "14   94925   61   9792   30739.79\n",
      "15   81747   49   9589   15899.88\n",
      "16   81711   56   8931   15081.68\n",
      "17   13363   45  23065    7414.03\n",
      "18   44397   39  19097   18987.49\n",
      "19   76828   52  20063   31143.18\n",
      "20   48125   63  10968       0.00\n",
      "21   13537   36  22110   15074.09\n",
      "22   91585   56  13081   36909.95\n",
      "23   25406   27  21714    5118.70\n",
      "24   97602   34  17282    2892.22\n",
      "25    9562   42  20664   10475.73\n",
      "26   87816   51  14857       0.00\n",
      "27    4236   47  21689   40202.35\n",
      "28   28332   66  17211  302218.17\n",
      "29   94304   71  20358       0.00\n",
      "30   87237   62  12385   85059.16\n",
      "31   49222   34  21075   18744.44\n",
      "..     ...  ...    ...        ...\n",
      "970  64583   23  12551    9911.56\n",
      "971  92844   26  20841   16827.67\n",
      "972  20531   58  18368   16060.76\n",
      "973  29106   54  12011   14678.51\n",
      "974  79145   43  16933   24436.14\n",
      "975  66683   32  11879    7192.58\n",
      "976  74040   65   9298   19558.21\n",
      "977  73994   50   8367   11151.34\n",
      "978  83221   57  20288   60267.83\n",
      "979  32158   52  14489   23775.18\n",
      "980  83413   44  18680   18629.95\n",
      "981  23999   54  17820   11890.84\n",
      "982  84514   52   6056    5680.28\n",
      "983  80710   28  19488    1913.89\n",
      "984  16500   58  17085  111624.91\n",
      "985  67228   54  22089   40273.23\n",
      "986  12104   41  16440    6166.81\n",
      "987  90263   62  19669   16536.79\n",
      "988  27186   42  16190   19902.62\n",
      "989  19277   43  18570    6796.63\n",
      "990  56433   70  22082   89147.40\n",
      "991  18934   40  20634    8335.46\n",
      "992  81512   51  15388   19081.89\n",
      "993   3220   46  17461    6682.61\n",
      "994  34224   54  12877   50546.98\n",
      "995  81061   55  17181    4970.75\n",
      "996  52372   34  12585   20187.22\n",
      "997  87161   66  19193   33883.83\n",
      "998  73229   67  11524   25830.63\n",
      "999  72566   50  21383       0.00\n",
      "\n",
      "[988 rows x 4 columns]\n"
     ]
    }
   ],
   "source": [
    "# 2b) Remove all rows from df that have missing data (that have NaN values)\n",
    "\n",
    "# YOUR CODE HERE\n",
    "  \n",
    "\n",
    "df = df[df['income'].notnull()]\n",
    "\n",
    "#df = df.dropna(how='all')\n",
    "#print(df)\n",
    "#raise NotImplementedError()"
   ]
  },
  {
   "cell_type": "code",
   "execution_count": 16,
   "metadata": {
    "collapsed": true,
    "deletable": false,
    "editable": false,
    "nbgrader": {
     "checksum": "a694ed587d1b4a2a057fc22b9f14e0df",
     "grade": true,
     "grade_id": "test_rm_nans",
     "locked": true,
     "points": 0.5,
     "schema_version": 1,
     "solution": false
    }
   },
   "outputs": [],
   "source": [
    "assert(sum(np.isnan(df['income'])) == 0)"
   ]
  },
  {
   "cell_type": "markdown",
   "metadata": {},
   "source": [
    "## Data Visualization\n",
    "\n",
    "- You will be making histograms, check out this example on how to do that.\n",
    "    - http://matplotlib.org/1.2.1/examples/pylab_examples/histogram_demo.html\n",
    "    - This example has more than you need: \n",
    "        - Titles, axis labels, etc are optional (but recommended)\n",
    "        - You do no need to add a 'best fit' line.\n",
    "- Everywhere that we ask you to create a plot, make sure to leave the 'plt.gcf()' line at the end of the cell. \n",
    "    - This is used to get a figure handle in order to programmatically evaluate your plots.\n",
    "- For all your histograms, use 25 bins"
   ]
  },
  {
   "cell_type": "code",
   "execution_count": 17,
   "metadata": {
    "deletable": false,
    "nbgrader": {
     "checksum": "eb6e639307e07a66ace19325eaa9a32c",
     "grade": false,
     "grade_id": "hist_age",
     "locked": false,
     "schema_version": 1,
     "solution": true
    }
   },
   "outputs": [
    {
     "data": {
      "image/png": "[encoded data removed]",
      "text/plain": [
       "<matplotlib.figure.Figure at 0x7f86b6089ac8>"
      ]
     },
     "metadata": {},
     "output_type": "display_data"
    }
   ],
   "source": [
    "# 2c) Plot the histogram of the age variable\n",
    "# YOUR CODE \n",
    "\n",
    "fig = plt.figure()\n",
    "df['age'].plot.hist(stacked=True, bins=25)\n",
    "plt.xlabel('Steps')\n",
    "\n",
    "#plot_url = py.plot_mpl(numpy_hist, filename='numpy-bins')\n",
    "f1 = plt.gcf()"
   ]
  },
  {
   "cell_type": "code",
   "execution_count": 18,
   "metadata": {
    "collapsed": true,
    "deletable": false,
    "editable": false,
    "nbgrader": {
     "checksum": "4e9cf6d87d402c46c2d5e1fa91eb037f",
     "grade": true,
     "grade_id": "test_hist_age",
     "locked": true,
     "points": 0.25,
     "schema_version": 1,
     "solution": false
    }
   },
   "outputs": [],
   "source": [
    "assert f1.gca().has_data()"
   ]
  },
  {
   "cell_type": "code",
   "execution_count": 19,
   "metadata": {
    "deletable": false,
    "nbgrader": {
     "checksum": "2d79d3520e514ef73352560a42a07337",
     "grade": false,
     "grade_id": "hist_steps",
     "locked": false,
     "schema_version": 1,
     "solution": true
    }
   },
   "outputs": [
    {
     "data": {
      "image/png": "[encoded data removed]",
      "text/plain": [
       "<matplotlib.figure.Figure at 0x7f86b6033470>"
      ]
     },
     "metadata": {},
     "output_type": "display_data"
    }
   ],
   "source": [
    "# 2d) Plot the histogram of the steps variable\n",
    "# YOUR CODE HERE\n",
    "fig = plt.figure()\n",
    "\n",
    "\n",
    "df['steps'].plot.hist(stacked=True, bins=25, alpha=0.5)\n",
    "plt.xlabel('Steps')\n",
    "#plot_url = py.plot_mpl(numpy_hist, filename='numpy-bins')\n",
    "#raise NotImplementedError()\n",
    "f2 = plt.gcf()"
   ]
  },
  {
   "cell_type": "code",
   "execution_count": 20,
   "metadata": {
    "collapsed": true,
    "deletable": false,
    "editable": false,
    "nbgrader": {
     "checksum": "cb0db2db09c74dfd6840559d557f1162",
     "grade": true,
     "grade_id": "test_hist_steps",
     "locked": true,
     "points": 0.25,
     "schema_version": 1,
     "solution": false
    }
   },
   "outputs": [],
   "source": [
    "assert f2.gca().has_data()"
   ]
  },
  {
   "cell_type": "markdown",
   "metadata": {
    "deletable": false,
    "editable": false,
    "nbgrader": {
     "checksum": "358a75710083e3886058c9692056c6ac",
     "grade": false,
     "grade_id": "notice_2",
     "locked": true,
     "schema_version": 1,
     "solution": false
    }
   },
   "source": [
    "### M1 - What do you notice about steps data from the plot?"
   ]
  },
  {
   "cell_type": "markdown",
   "metadata": {
    "deletable": false,
    "nbgrader": {
     "checksum": "16f2ab17d6df8fbde51523dc36b498a1",
     "grade": true,
     "grade_id": "notice_steps",
     "locked": false,
     "points": 0,
     "schema_version": 1,
     "solution": true
    }
   },
   "source": [
    "It has a gaussian distribution and there is a peak at 0-1"
   ]
  },
  {
   "cell_type": "code",
   "execution_count": 21,
   "metadata": {
    "deletable": false,
    "nbgrader": {
     "checksum": "65ab8802318288216e18449f9c212a18",
     "grade": false,
     "grade_id": "check_n_neg",
     "locked": false,
     "schema_version": 1,
     "solution": true
    }
   },
   "outputs": [
    {
     "name": "stdout",
     "output_type": "stream",
     "text": [
      "33\n"
     ]
    }
   ],
   "source": [
    "# 2e) Check how many -1 values there are in steps. Save the number into a variable called 'n_neg'\n",
    "\n",
    "# YOUR CODE HERE\n",
    "#df = df[df['steps']>=0]\n",
    "\n",
    "n_neg = df[df['steps']<0].count()[2]\n",
    "#print(n_neg)\n",
    "#raise NotImplementedError()"
   ]
  },
  {
   "cell_type": "code",
   "execution_count": 22,
   "metadata": {
    "collapsed": true,
    "deletable": false,
    "editable": false,
    "nbgrader": {
     "checksum": "3e386afe90eac8c1f14b6faa910016bf",
     "grade": true,
     "grade_id": "test_check_n_neg",
     "locked": true,
     "points": 0.25,
     "schema_version": 1,
     "solution": false
    }
   },
   "outputs": [],
   "source": [
    "assert(n_neg)\n"
   ]
  },
  {
   "cell_type": "code",
   "execution_count": 23,
   "metadata": {
    "deletable": false,
    "nbgrader": {
     "checksum": "85a1bf09a647b4ba037da86d68c21c5c",
     "grade": false,
     "grade_id": "rm_neg",
     "locked": false,
     "schema_version": 1,
     "solution": true
    }
   },
   "outputs": [
    {
     "name": "stdout",
     "output_type": "stream",
     "text": [
      "955\n"
     ]
    }
   ],
   "source": [
    "# 2f) Remove all rows where steps is equal to -1\n",
    "# YOUR CODE HERE\n",
    "df = df[df['steps']>=0]\n",
    "#print(df[df['steps']>=0].count()[0])\n",
    "#raise NotImplementedError()"
   ]
  },
  {
   "cell_type": "code",
   "execution_count": 24,
   "metadata": {
    "collapsed": true,
    "deletable": false,
    "editable": false,
    "nbgrader": {
     "checksum": "d8473272460bc2d35c683d9df56e96e0",
     "grade": true,
     "grade_id": "test_rm_neg",
     "locked": true,
     "points": 0.5,
     "schema_version": 1,
     "solution": false
    }
   },
   "outputs": [],
   "source": [
    "assert -1 not in df['steps']"
   ]
  },
  {
   "cell_type": "code",
   "execution_count": 25,
   "metadata": {
    "deletable": false,
    "nbgrader": {
     "checksum": "b5d0c38316f6b2563dd1de965b94591c",
     "grade": false,
     "grade_id": "hist_income",
     "locked": false,
     "schema_version": 1,
     "solution": true
    }
   },
   "outputs": [
    {
     "data": {
      "image/png": "[encoded data removed]",
      "text/plain": [
       "<matplotlib.figure.Figure at 0x7f86b3e919e8>"
      ]
     },
     "metadata": {},
     "output_type": "display_data"
    }
   ],
   "source": [
    "# 2g) Plot the histogram of the income variable\n",
    "# YOUR CODE HERE\n",
    "fig = plt.figure()\n",
    "df['income'].plot.hist(stacked=True, bins=25, alpha=0.5)\n",
    "plt.xlabel('Income')\n",
    "#raise NotImplementedError()\n",
    "f3 = plt.gcf()"
   ]
  },
  {
   "cell_type": "code",
   "execution_count": 26,
   "metadata": {
    "collapsed": true,
    "deletable": false,
    "editable": false,
    "nbgrader": {
     "checksum": "2c439df6b9ae96ed2b6bebdf4d72f4de",
     "grade": true,
     "grade_id": "test_hist_income",
     "locked": true,
     "points": 0.25,
     "schema_version": 1,
     "solution": false
    }
   },
   "outputs": [],
   "source": [
    "assert f3.gca().has_data()"
   ]
  },
  {
   "cell_type": "markdown",
   "metadata": {
    "deletable": false,
    "editable": false,
    "nbgrader": {
     "checksum": "5a123ee818ecc8cdd06be1e0ca4c7a58",
     "grade": false,
     "grade_id": "notice_3",
     "locked": true,
     "schema_version": 1,
     "solution": false
    }
   },
   "source": [
    "### M2 - What do you notice about the income data from the plot?"
   ]
  },
  {
   "cell_type": "markdown",
   "metadata": {
    "deletable": false,
    "nbgrader": {
     "checksum": "151df39a2329241c02a59a6eb3a33ef4",
     "grade": true,
     "grade_id": "notice_income",
     "locked": false,
     "points": 0,
     "schema_version": 1,
     "solution": true
    }
   },
   "source": [
    "A lot of people have an income between 0-50000 then above 50k it tends to converge to 0"
   ]
  },
  {
   "cell_type": "code",
   "execution_count": 27,
   "metadata": {
    "collapsed": true,
    "deletable": false,
    "nbgrader": {
     "checksum": "098db8ea03ad735ec4fae840e5f1015a",
     "grade": false,
     "grade_id": "recoded_zero",
     "locked": false,
     "schema_version": 1,
     "solution": true
    }
   },
   "outputs": [],
   "source": [
    "# 2h) For all rows in which income is equal to zero, recode income to be equal to 1\n",
    "# YOUR CODE HERE\n",
    "df['income'].replace(0, 1,inplace=True)\n",
    "#raise NotImplementedError()"
   ]
  },
  {
   "cell_type": "code",
   "execution_count": 28,
   "metadata": {
    "collapsed": true,
    "deletable": false,
    "editable": false,
    "nbgrader": {
     "checksum": "2e1ddcf23bf7dd12312c751d809e888b",
     "grade": true,
     "grade_id": "test_recoded_zero",
     "locked": true,
     "points": 0.5,
     "schema_version": 1,
     "solution": false
    }
   },
   "outputs": [],
   "source": [
    "assert sum(df['income'] == 0.) == 0"
   ]
  },
  {
   "cell_type": "code",
   "execution_count": 29,
   "metadata": {
    "deletable": false,
    "nbgrader": {
     "checksum": "be9963c6f2eeb679c62008227490b904",
     "grade": false,
     "grade_id": "log",
     "locked": false,
     "schema_version": 1,
     "solution": true
    }
   },
   "outputs": [
    {
     "name": "stdout",
     "output_type": "stream",
     "text": [
      "0       13024.21\n",
      "1       61877.51\n",
      "2       48288.61\n",
      "3       47622.14\n",
      "4       55014.69\n",
      "5        7294.28\n",
      "6           1.00\n",
      "7       10307.08\n",
      "8       50897.85\n",
      "10      18448.03\n",
      "12      11703.75\n",
      "13      10970.04\n",
      "14      30739.79\n",
      "15      15899.88\n",
      "16      15081.68\n",
      "17       7414.03\n",
      "18      18987.49\n",
      "19      31143.18\n",
      "20          1.00\n",
      "21      15074.09\n",
      "22      36909.95\n",
      "23       5118.70\n",
      "24       2892.22\n",
      "25      10475.73\n",
      "26          1.00\n",
      "27      40202.35\n",
      "28     302218.17\n",
      "29          1.00\n",
      "30      85059.16\n",
      "31      18744.44\n",
      "         ...    \n",
      "970      9911.56\n",
      "971     16827.67\n",
      "972     16060.76\n",
      "973     14678.51\n",
      "974     24436.14\n",
      "975      7192.58\n",
      "976     19558.21\n",
      "977     11151.34\n",
      "978     60267.83\n",
      "979     23775.18\n",
      "980     18629.95\n",
      "981     11890.84\n",
      "982      5680.28\n",
      "983      1913.89\n",
      "984    111624.91\n",
      "985     40273.23\n",
      "986      6166.81\n",
      "987     16536.79\n",
      "988     19902.62\n",
      "989      6796.63\n",
      "990     89147.40\n",
      "991      8335.46\n",
      "992     19081.89\n",
      "993      6682.61\n",
      "994     50546.98\n",
      "995      4970.75\n",
      "996     20187.22\n",
      "997     33883.83\n",
      "998     25830.63\n",
      "999         1.00\n",
      "Name: income, dtype: float64\n",
      "0      4.114751\n",
      "1      4.791533\n",
      "2      4.683845\n",
      "3      4.677809\n",
      "4      4.740479\n",
      "5      3.862982\n",
      "6      0.000000\n",
      "7      4.013136\n",
      "8      4.706699\n",
      "10     4.265950\n",
      "12     4.068325\n",
      "13     4.040208\n",
      "14     4.487701\n",
      "15     4.201394\n",
      "16     4.178450\n",
      "17     3.870054\n",
      "18     4.278468\n",
      "19     4.493363\n",
      "20     0.000000\n",
      "21     4.178231\n",
      "22     4.567143\n",
      "23     3.709160\n",
      "24     3.461231\n",
      "25     4.020184\n",
      "26     0.000000\n",
      "27     4.604251\n",
      "28     5.480321\n",
      "29     0.000000\n",
      "30     4.929721\n",
      "31     4.272872\n",
      "         ...   \n",
      "970    3.996142\n",
      "971    4.226024\n",
      "972    4.205766\n",
      "973    4.166682\n",
      "974    4.388033\n",
      "975    3.856885\n",
      "976    4.291329\n",
      "977    4.047327\n",
      "978    4.780086\n",
      "979    4.376124\n",
      "980    4.270212\n",
      "981    4.075213\n",
      "982    3.754370\n",
      "983    3.281917\n",
      "984    5.047761\n",
      "985    4.605016\n",
      "986    3.790061\n",
      "987    4.218451\n",
      "988    4.298910\n",
      "989    3.832294\n",
      "990    4.950109\n",
      "991    3.920930\n",
      "992    4.280621\n",
      "993    3.824946\n",
      "994    4.703695\n",
      "995    3.696422\n",
      "996    4.305077\n",
      "997    4.529992\n",
      "998    4.412135\n",
      "999    0.000000\n",
      "Name: income, dtype: float64\n"
     ]
    }
   ],
   "source": [
    "# 2i) Transform income using a log10 transform\n",
    "# YOUR CODE HERE\n",
    "#print(df['income'])\n",
    "df['income'] = df['income'].apply(np.log10)\n",
    "#print(df['income'])\n",
    "#df['income'].replace(, 1,inplace=True)\n",
    "#raise NotImplementedError()"
   ]
  },
  {
   "cell_type": "code",
   "execution_count": 30,
   "metadata": {
    "collapsed": true,
    "deletable": false,
    "editable": false,
    "nbgrader": {
     "checksum": "1cdff56e093e2e1531cc5cbcfee6cb29",
     "grade": true,
     "grade_id": "test_log",
     "locked": true,
     "points": 0.5,
     "schema_version": 1,
     "solution": false
    }
   },
   "outputs": [],
   "source": [
    "assert np.isclose(min(df['income']), 0.0, 0.1)\n",
    "assert np.isclose(max(df['income']), 5.69, 0.1)"
   ]
  },
  {
   "cell_type": "code",
   "execution_count": 31,
   "metadata": {
    "deletable": false,
    "nbgrader": {
     "checksum": "28e716026931524df03b0a00ae518da5",
     "grade": false,
     "grade_id": "replot_log",
     "locked": false,
     "schema_version": 1,
     "solution": true
    }
   },
   "outputs": [
    {
     "data": {
      "image/png": "[encoded data removed]",
      "text/plain": [
       "<matplotlib.figure.Figure at 0x7f86b3e7fcc0>"
      ]
     },
     "metadata": {},
     "output_type": "display_data"
    }
   ],
   "source": [
    "# 2j) Replot the histogram for income data after the data transformation\n",
    "# YOUR CODE HERE\n",
    "fig = plt.figure()\n",
    "df['income'].plot.hist(stacked=True, bins=25, alpha=0.5)\n",
    "plt.xlabel('Income')\n",
    "#raise NotImplementedError()\n",
    "f4 = plt.gcf()\n",
    "df = df[df['income'] > 0]"
   ]
  },
  {
   "cell_type": "code",
   "execution_count": 32,
   "metadata": {
    "collapsed": true,
    "deletable": false,
    "editable": false,
    "nbgrader": {
     "checksum": "57be9958e8c66577dfe33634c1d9957b",
     "grade": true,
     "grade_id": "test_replot_hist",
     "locked": true,
     "points": 0.25,
     "schema_version": 1,
     "solution": false
    }
   },
   "outputs": [],
   "source": [
    "assert f4.gca().has_data()"
   ]
  },
  {
   "cell_type": "markdown",
   "metadata": {
    "deletable": false,
    "editable": false,
    "nbgrader": {
     "checksum": "a38cf49858e45af523c31197603913c2",
     "grade": false,
     "grade_id": "notice_4",
     "locked": true,
     "schema_version": 1,
     "solution": false
    }
   },
   "source": [
    "### M3 - What do you notice about the income data after you replot it?"
   ]
  },
  {
   "cell_type": "markdown",
   "metadata": {
    "deletable": false,
    "nbgrader": {
     "checksum": "ca16717691e5afd8ce66bd10ad6ac316",
     "grade": true,
     "grade_id": "notice_log2",
     "locked": false,
     "points": 0,
     "schema_version": 1,
     "solution": true
    }
   },
   "source": [
    "The data now have a gaussian shape but we see a peak at 0, it might be people that do not have any incomes. Most people have an income around 10^4. This vizualisation makes us distinguish people that do not have income and those who have."
   ]
  },
  {
   "cell_type": "code",
   "execution_count": 33,
   "metadata": {
    "collapsed": true,
    "deletable": false,
    "nbgrader": {
     "checksum": "3021cb2a86ff4a940121ad3cb69f96e6",
     "grade": false,
     "grade_id": "rm_young",
     "locked": false,
     "schema_version": 1,
     "solution": true
    }
   },
   "outputs": [],
   "source": [
    "# 2k) Remove all rows where age is less than 18\n",
    "# YOUR CODE HERE\n",
    "df = df[df['age']>=18]\n",
    "#raise NotImplementedError()"
   ]
  },
  {
   "cell_type": "code",
   "execution_count": 34,
   "metadata": {
    "collapsed": true,
    "deletable": false,
    "editable": false,
    "nbgrader": {
     "checksum": "add9236903fdd871d6f54a713ab7a854",
     "grade": true,
     "grade_id": "test_rm_young",
     "locked": true,
     "points": 0.5,
     "schema_version": 1,
     "solution": false
    }
   },
   "outputs": [],
   "source": [
    "assert min(df['age']) >= 18"
   ]
  },
  {
   "cell_type": "markdown",
   "metadata": {},
   "source": [
    "### Removing outliers\n",
    "Next, we're going to remove all rows where the data for the steps column exceeds +/- 3 standard deviations above or below the mean."
   ]
  },
  {
   "cell_type": "code",
   "execution_count": 47,
   "metadata": {
    "deletable": false,
    "nbgrader": {
     "checksum": "324d846b598cb12b62ba01fa542fa5c9",
     "grade": false,
     "grade_id": "rm_outliers_setup",
     "locked": false,
     "schema_version": 1,
     "solution": true
    }
   },
   "outputs": [
    {
     "name": "stdout",
     "output_type": "stream",
     "text": [
      "4473.49551664\n",
      "13420.4865499\n",
      "17018.7883959\n"
     ]
    }
   ],
   "source": [
    "# 2l) For the steps data: \n",
    "# - Calculate what three times the standard deviation is, and save it to variables called 'std3'. \n",
    "# - Using 'std3', create new variables, called std_max' and 'std_min'.\n",
    "#    These will store our cut-off values: 3 std above and below the mean respectively. \n",
    "\n",
    "# YOUR CODE HERE\n",
    "#std = np.std(df['steps'])\n",
    "std = df['steps'].std()\n",
    "print(std)\n",
    "std3 = 3*std\n",
    "print(std3)\n",
    "mean = np.mean(df['steps'])\n",
    "std_min = mean - std3\n",
    "std_max = mean + std3\n",
    "print(mean)\n",
    "\n",
    "#raise NotImplementedError()"
   ]
  },
  {
   "cell_type": "code",
   "execution_count": 36,
   "metadata": {
    "collapsed": true,
    "deletable": false,
    "editable": false,
    "nbgrader": {
     "checksum": "e031cc7600a395e6b65698b8588f48f8",
     "grade": true,
     "grade_id": "test_rm_outliers_setup",
     "locked": true,
     "points": 0.5,
     "schema_version": 1,
     "solution": false
    }
   },
   "outputs": [],
   "source": [
    "assert(std3)\n",
    "assert(std_min)\n",
    "assert(std_max)\n"
   ]
  },
  {
   "cell_type": "code",
   "execution_count": 50,
   "metadata": {
    "deletable": false,
    "nbgrader": {
     "checksum": "6ec133f1c5492b744dea37ddd80a1948",
     "grade": false,
     "grade_id": "rm_outliers",
     "locked": false,
     "schema_version": 1,
     "solution": true
    }
   },
   "outputs": [
    {
     "name": "stdout",
     "output_type": "stream",
     "text": [
      "        id  age  steps    income\n",
      "0    22453   47  15436  4.114751\n",
      "1    49241   55  21385  4.791533\n",
      "2    39570   39  12303  4.683845\n",
      "3    29963   44  20565  4.677809\n",
      "4    94698   62  17405  4.740479\n",
      "5    83527   60   7521  3.862982\n",
      "7    81933   54  20557  4.013136\n",
      "8    41611   77  13831  4.706699\n",
      "10   60011   39  19785  4.265950\n",
      "12    7866   30  28311  4.068325\n",
      "13   81361   49  18601  4.040208\n",
      "14   94925   61   9792  4.487701\n",
      "15   81747   49   9589  4.201394\n",
      "16   81711   56   8931  4.178450\n",
      "17   13363   45  23065  3.870054\n",
      "18   44397   39  19097  4.278468\n",
      "19   76828   52  20063  4.493363\n",
      "21   13537   36  22110  4.178231\n",
      "22   91585   56  13081  4.567143\n",
      "23   25406   27  21714  3.709160\n",
      "24   97602   34  17282  3.461231\n",
      "25    9562   42  20664  4.020184\n",
      "27    4236   47  21689  4.604251\n",
      "28   28332   66  17211  5.480321\n",
      "30   87237   62  12385  4.929721\n",
      "31   49222   34  21075  4.272872\n",
      "32   47299   55  20708  4.644487\n",
      "33   75418   59  18930  4.516890\n",
      "34   72062   62  13740  4.681310\n",
      "36   18883   34  19644  4.146339\n",
      "..     ...  ...    ...       ...\n",
      "969  76232   39  15416  4.087182\n",
      "970  64583   23  12551  3.996142\n",
      "971  92844   26  20841  4.226024\n",
      "972  20531   58  18368  4.205766\n",
      "973  29106   54  12011  4.166682\n",
      "974  79145   43  16933  4.388033\n",
      "975  66683   32  11879  3.856885\n",
      "976  74040   65   9298  4.291329\n",
      "977  73994   50   8367  4.047327\n",
      "978  83221   57  20288  4.780086\n",
      "979  32158   52  14489  4.376124\n",
      "980  83413   44  18680  4.270212\n",
      "981  23999   54  17820  4.075213\n",
      "982  84514   52   6056  3.754370\n",
      "983  80710   28  19488  3.281917\n",
      "984  16500   58  17085  5.047761\n",
      "985  67228   54  22089  4.605016\n",
      "986  12104   41  16440  3.790061\n",
      "987  90263   62  19669  4.218451\n",
      "988  27186   42  16190  4.298910\n",
      "989  19277   43  18570  3.832294\n",
      "990  56433   70  22082  4.950109\n",
      "991  18934   40  20634  3.920930\n",
      "992  81512   51  15388  4.280621\n",
      "993   3220   46  17461  3.824946\n",
      "994  34224   54  12877  4.703695\n",
      "995  81061   55  17181  3.696422\n",
      "996  52372   34  12585  4.305077\n",
      "997  87161   66  19193  4.529992\n",
      "998  73229   67  11524  4.412135\n",
      "\n",
      "[879 rows x 4 columns]\n"
     ]
    }
   ],
   "source": [
    "# 2m) Now use these values to remove any rows with steps data above or below these thresholds\n",
    "\n",
    "# YOUR CODE HERE\n",
    "df = df[df['steps']>std_min]\n",
    "df = df[df['steps']<std_max]\n",
    "print(df)\n",
    "\n",
    "#raise NotImplementedError()"
   ]
  },
  {
   "cell_type": "code",
   "execution_count": 38,
   "metadata": {
    "collapsed": true,
    "deletable": false,
    "editable": false,
    "nbgrader": {
     "checksum": "5877a0800b89db45a718ecd9c14753bf",
     "grade": true,
     "grade_id": "tests_rm_outliers",
     "locked": true,
     "points": 0.5,
     "schema_version": 1,
     "solution": false
    }
   },
   "outputs": [],
   "source": [
    "assert min(df['steps']) > 3446\n",
    "assert max(df['steps']) < 30594"
   ]
  },
  {
   "cell_type": "code",
   "execution_count": 39,
   "metadata": {
    "collapsed": true,
    "deletable": false,
    "editable": false,
    "nbgrader": {
     "checksum": "c180a770166c291ea1fe915e62154f23",
     "grade": false,
     "grade_id": "check_data_shape",
     "locked": true,
     "schema_version": 1,
     "solution": false
    }
   },
   "outputs": [],
   "source": [
    "# Check that the following test passes - if it fails, you have the wrong amount of data left. \n",
    "#  If so, go back and try to fix your cleaning steps, else your analysis answers will be wrong.\n",
    "assert df.shape == (879, 4)"
   ]
  },
  {
   "cell_type": "markdown",
   "metadata": {
    "deletable": false,
    "editable": false,
    "nbgrader": {
     "checksum": "39dca5562c6a258097f024d21f167389",
     "grade": false,
     "grade_id": "part3",
     "locked": true,
     "schema_version": 1,
     "solution": false
    }
   },
   "source": [
    "## Part 3 - Basic Analyses"
   ]
  },
  {
   "cell_type": "code",
   "execution_count": 40,
   "metadata": {
    "deletable": false,
    "nbgrader": {
     "checksum": "cda272ddd508c88f19ca54e7ccdff052",
     "grade": false,
     "grade_id": "calc_corrs",
     "locked": false,
     "schema_version": 1,
     "solution": true
    }
   },
   "outputs": [
    {
     "name": "stdout",
     "output_type": "stream",
     "text": [
      "              id       age     steps    income\n",
      "id      1.000000 -0.036557  0.016550  0.019364\n",
      "age    -0.036557  1.000000 -0.258334  0.401482\n",
      "steps   0.016550 -0.258334  1.000000  0.064981\n",
      "income  0.019364  0.401482  0.064981  1.000000\n"
     ]
    }
   ],
   "source": [
    "# 3a) Calculate the pairwise correlations between all variables. \n",
    "#  Notes: do this with a pandas function. Keep all columns (including ID).\n",
    "\n",
    "# YOUR CODE HERE\n",
    "corrs = df.corr()\n",
    "print(corrs)\n",
    "#raise NotImplementedError()"
   ]
  },
  {
   "cell_type": "code",
   "execution_count": 41,
   "metadata": {
    "collapsed": true,
    "deletable": false,
    "editable": false,
    "nbgrader": {
     "checksum": "7aba32ac0930cbff5420c92746f23d5f",
     "grade": true,
     "grade_id": "test_calc_corrs",
     "locked": true,
     "points": 0.5,
     "schema_version": 1,
     "solution": false
    }
   },
   "outputs": [],
   "source": [
    "assert isinstance(corrs, pd.DataFrame)\n",
    "assert corrs.shape == (4, 4)"
   ]
  },
  {
   "cell_type": "code",
   "execution_count": 42,
   "metadata": {
    "deletable": false,
    "nbgrader": {
     "checksum": "2c8c745496ca4376411798ee083e69ff",
     "grade": false,
     "grade_id": "plot_scatter",
     "locked": false,
     "schema_version": 1,
     "solution": true
    }
   },
   "outputs": [
    {
     "data": {
      "image/png": "[encoded data removed]",
      "text/plain": [
       "<matplotlib.figure.Figure at 0x7f86b3e970f0>"
      ]
     },
     "metadata": {},
     "output_type": "display_data"
    }
   ],
   "source": [
    "# 3b) Plot the data using pandas scatter_matrix, saving it to output variable name 'fd'.\n",
    "# YOUR CODE HERE\n",
    "fd = pd.scatter_matrix(df)\n",
    "#raise NotImplementedError()"
   ]
  },
  {
   "cell_type": "code",
   "execution_count": 43,
   "metadata": {
    "deletable": false,
    "editable": false,
    "nbgrader": {
     "checksum": "71c61138c5b286376c4f5d31edf73b8a",
     "grade": true,
     "grade_id": "test_plot_scatter",
     "locked": true,
     "points": 0.5,
     "schema_version": 1,
     "solution": false
    }
   },
   "outputs": [
    {
     "data": {
      "text/plain": [
       "True"
      ]
     },
     "execution_count": 43,
     "metadata": {},
     "output_type": "execute_result"
    }
   ],
   "source": [
    "fd[0][0].axes.has_data()"
   ]
  },
  {
   "cell_type": "markdown",
   "metadata": {
    "deletable": false,
    "editable": false,
    "nbgrader": {
     "checksum": "5a94dcdcdaaebf7068dac9163801343e",
     "grade": false,
     "grade_id": "part4",
     "locked": true,
     "schema_version": 1,
     "solution": false
    }
   },
   "source": [
    "# Part 4 - Predictions\n",
    "\n",
    "Notes:\n",
    "- Use the polyfit function from np, in the way that we did in 'SectionMaterials/02-DataAnalysis\n",
    "- The predictions should be in dollars (so you'll have to 'un-log' the prediction)"
   ]
  },
  {
   "cell_type": "code",
   "execution_count": 44,
   "metadata": {
    "deletable": false,
    "nbgrader": {
     "checksum": "94dcee06cb9f655ec570061d32901256",
     "grade": false,
     "grade_id": "model_1",
     "locked": false,
     "schema_version": 1,
     "solution": true
    }
   },
   "outputs": [
    {
     "data": {
      "image/png": "[encoded data removed]",
      "text/plain": [
       "<matplotlib.figure.Figure at 0x7f86b3a7e400>"
      ]
     },
     "metadata": {},
     "output_type": "display_data"
    }
   ],
   "source": [
    "# 4a) Use polyfit to fit a 1-degree linear model, predicting income from age.\n",
    "#  Call the output parameters 'a1' and 'b1'\n",
    "# YOUR CODE HERE\n",
    "\n",
    "\n",
    "f, ax = plt.subplots()\n",
    "ax.plot(df['age'], df['income'] , '.')\n",
    "plt.xlabel('age ');\n",
    "plt.ylabel('income ');\n",
    "#df['income'] = df['income'].apply(np.power(df['income'], 10))\n",
    "# Polyfit (degree=1) will fit a linear fit to the data, of the form y = ax + b\n",
    "#  Once we fit this simple model to the data, we can use it to predict from new data points\n",
    "a1, b1 = np.polyfit(df['age'], df['income'], 1)\n",
    "#raise NotImplementedError()"
   ]
  },
  {
   "cell_type": "code",
   "execution_count": 416,
   "metadata": {
    "collapsed": true,
    "deletable": false,
    "editable": false,
    "nbgrader": {
     "checksum": "3df06d3f75ce5a17be2287c2b5d3e2cb",
     "grade": true,
     "grade_id": "test_model_1",
     "locked": true,
     "points": 0.5,
     "schema_version": 1,
     "solution": false
    }
   },
   "outputs": [],
   "source": [
    "assert(a1)\n",
    "assert(b1)\n"
   ]
  },
  {
   "cell_type": "code",
   "execution_count": 424,
   "metadata": {
    "deletable": false,
    "nbgrader": {
     "checksum": "902084fb9d8727c3a4ba89f0d99103f4",
     "grade": false,
     "grade_id": "pred_1",
     "locked": false,
     "schema_version": 1,
     "solution": true
    }
   },
   "outputs": [
    {
     "name": "stdout",
     "output_type": "stream",
     "text": [
      "Predicted weight for a new data point, weight  is 42811.254984\n"
     ]
    }
   ],
   "source": [
    "# 4b) Use the model parameters from 4a to predict the income of a 75 year old. Call your prediction 'pred1'.\n",
    "#  Note: Convert the prediction to be in real dollars (not log dollars)\n",
    "# YOUR CODE HERE\n",
    "# prediction\n",
    "new_age = 75\n",
    "pred1 = a1 * new_age + b1 \n",
    "#unlog\n",
    "pred1 = np.power(10, pred1)\n",
    "print('Predicted weight for a new data point, weight  is', pred1)\n",
    "#raise NotImplementedError()"
   ]
  },
  {
   "cell_type": "code",
   "execution_count": 425,
   "metadata": {
    "collapsed": true,
    "deletable": false,
    "editable": false,
    "nbgrader": {
     "checksum": "f793dd0d9cb1e9a0f0bfd8ee602f2a06",
     "grade": true,
     "grade_id": "test_pred_1",
     "locked": true,
     "points": 0.5,
     "schema_version": 1,
     "solution": false
    }
   },
   "outputs": [],
   "source": [
    "assert(pred1)\n"
   ]
  },
  {
   "cell_type": "code",
   "execution_count": 426,
   "metadata": {
    "collapsed": true,
    "deletable": false,
    "nbgrader": {
     "checksum": "cd51c7e00e87d1a985b317c46a42d45a",
     "grade": false,
     "grade_id": "model_2",
     "locked": false,
     "schema_version": 1,
     "solution": true
    }
   },
   "outputs": [],
   "source": [
    "# 4c) Use polyfit to fit a 1-degree linear model, predicting income from steps. \n",
    "#  Call the output parameters 'a2' and 'b2'\n",
    "# YOUR CODE HERE\n",
    "a2, b2 = np.polyfit(df['steps'], df['income'], 1)\n",
    "#raise NotImplementedError()"
   ]
  },
  {
   "cell_type": "code",
   "execution_count": 420,
   "metadata": {
    "collapsed": true,
    "deletable": false,
    "editable": false,
    "nbgrader": {
     "checksum": "885999f03208ba183000b8e34344a2bf",
     "grade": true,
     "grade_id": "test_model_2",
     "locked": true,
     "points": 0.25,
     "schema_version": 1,
     "solution": false
    }
   },
   "outputs": [],
   "source": [
    "assert(a2)\n",
    "assert(b2)\n"
   ]
  },
  {
   "cell_type": "code",
   "execution_count": 427,
   "metadata": {
    "deletable": false,
    "nbgrader": {
     "checksum": "1315fecfe04a0fd9c13d160ebe38b928",
     "grade": false,
     "grade_id": "pred_2",
     "locked": false,
     "schema_version": 1,
     "solution": true
    }
   },
   "outputs": [
    {
     "name": "stdout",
     "output_type": "stream",
     "text": [
      "18488.8913617\n"
     ]
    }
   ],
   "source": [
    "# 4d) Predict the income of someone who took 20,000 steps. Call your prediction 'pred2'.\n",
    "#  Note: Convert the prediction to be in real dollars (not log dollars)\n",
    "# YOUR CODE HERE\n",
    "new_steps = 20000\n",
    "pred2 = a2 * new_steps + b2\n",
    "pred2 = np.power(10, pred2)\n",
    "print(pred2)\n",
    "#raise NotImplementedError()"
   ]
  },
  {
   "cell_type": "code",
   "execution_count": 428,
   "metadata": {
    "collapsed": true,
    "deletable": false,
    "editable": false,
    "nbgrader": {
     "checksum": "7279eb6abd899e6070f0ba379fc94413",
     "grade": true,
     "grade_id": "test_pred_2",
     "locked": true,
     "points": 0.25,
     "schema_version": 1,
     "solution": false
    }
   },
   "outputs": [],
   "source": [
    "assert(pred2)\n"
   ]
  },
  {
   "cell_type": "code",
   "execution_count": 429,
   "metadata": {
    "collapsed": true,
    "deletable": false,
    "nbgrader": {
     "checksum": "3dd19a2275a23864be5fa456b0d4d1f6",
     "grade": false,
     "grade_id": "better_model",
     "locked": false,
     "schema_version": 1,
     "solution": true
    }
   },
   "outputs": [],
   "source": [
    "# 4e) Based on your analysis in Part 3, which model do you think is more likely to have made a good prediction?\n",
    "#  Create a variable called 'better_model', and set it equal to 'age' or 'steps', whichever your answer is.\n",
    "# YOUR CODE HERE\n",
    "better_model = \"steps\"\n",
    "#raise NotImplementedError()"
   ]
  },
  {
   "cell_type": "code",
   "execution_count": 367,
   "metadata": {
    "collapsed": true,
    "deletable": false,
    "editable": false,
    "nbgrader": {
     "checksum": "08b59e3cfd40623dae18307982421ef3",
     "grade": true,
     "grade_id": "test_better_model",
     "locked": true,
     "points": 0.5,
     "schema_version": 1,
     "solution": false
    }
   },
   "outputs": [],
   "source": [
    "assert better_model"
   ]
  },
  {
   "cell_type": "markdown",
   "metadata": {
    "deletable": false,
    "editable": false,
    "nbgrader": {
     "checksum": "9b5168bc14f9c46b924251367a45adff",
     "grade": false,
     "grade_id": "model_q",
     "locked": true,
     "schema_version": 1,
     "solution": false
    }
   },
   "source": [
    "### M4 - Why do you think (whichever model you answered) is better?"
   ]
  },
  {
   "cell_type": "markdown",
   "metadata": {
    "deletable": false,
    "nbgrader": {
     "checksum": "7b3180949c3c802092447f7c5c73860c",
     "grade": true,
     "grade_id": "model_ans",
     "locked": false,
     "points": 0,
     "schema_version": 1,
     "solution": true
    }
   },
   "source": [
    "I think that the model is better. The relation between age and income is more linear."
   ]
  },
  {
   "cell_type": "markdown",
   "metadata": {
    "deletable": false,
    "editable": false,
    "nbgrader": {
     "checksum": "134fe3be4538bbbba159c11171994d6c",
     "grade": false,
     "grade_id": "done",
     "locked": true,
     "schema_version": 1,
     "solution": false
    }
   },
   "source": [
    "## Done! Upload this notebook to TritonED"
   ]
  }
 ],
 "metadata": {
  "kernelspec": {
   "display_name": "Python 3",
   "language": "python",
   "name": "python3"
  },
  "language_info": {
   "codemirror_mode": {
    "name": "ipython",
    "version": 3
   },
   "file_extension": ".py",
   "mimetype": "text/x-python",
   "name": "python",
   "nbconvert_exporter": "python",
   "pygments_lexer": "ipython3",
   "version": "3.5.2"
  }
 },
 "nbformat": 4,
 "nbformat_minor": 2
}
