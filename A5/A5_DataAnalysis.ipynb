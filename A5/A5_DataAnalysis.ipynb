{
 "cells": [
  {
   "cell_type": "markdown",
   "metadata": {
    "deletable": false,
    "editable": false,
    "nbgrader": {
     "checksum": "d7c9dfbbe1ffcc36ccbc4be3af56e8a6",
     "grade": false,
     "grade_id": "title",
     "locked": true,
     "schema_version": 1,
     "solution": false
    }
   },
   "source": [
    "# COGS 108 - Assignment 5: Data Analysis"
   ]
  },
  {
   "cell_type": "markdown",
   "metadata": {
    "deletable": false,
    "editable": false,
    "nbgrader": {
     "checksum": "9f007a4da9b7016c4c537433e7d0ac56",
     "grade": false,
     "grade_id": "instr",
     "locked": true,
     "schema_version": 1,
     "solution": false
    }
   },
   "source": [
    "# Important\n",
    "- Rename this file to 'A5_A########.ipynb' (filled in with your student ID) before you submit it. Submit it to TritonED.\n",
    "- Do not change / update / delete any existing cells with 'assert' in them. These are the tests used to check your assignment.\n",
    "    - Changing these will be flagged for attempted cheating.\n",
    "- Import cells are read only. If you add extra imports, these will not be imported when grading your assignment. \n",
    "- This assignment has hidden tests: tests that are not visible here, but that will be run on your submitted assignment for grading.\n",
    "    - This means passing all the tests you can see in the notebook here does not guarantee you have the right answer!\n",
    "    - In particular many of the tests you can see simply check that the right variable names exist. Hidden tests check the actual values. \n",
    "        - It is up to you to check the values, and make sure they seem reasonable."
   ]
  },
  {
   "cell_type": "code",
<<<<<<< HEAD
   "execution_count": 2,
   "metadata": {
=======
   "execution_count": null,
   "metadata": {
    "collapsed": false,
>>>>>>> 11b3e78921b80bc305ad989d8e28f9997b9f5480
    "deletable": false,
    "editable": false,
    "nbgrader": {
     "checksum": "483c3b6ffb018e88202596631a4896cc",
     "grade": false,
     "grade_id": "imports",
     "locked": true,
     "schema_version": 1,
     "solution": false
    }
   },
<<<<<<< HEAD
   "outputs": [
    {
     "name": "stderr",
     "output_type": "stream",
     "text": [
      "/home/nicolas/.local/lib/python3.5/site-packages/statsmodels/compat/pandas.py:56: FutureWarning: The pandas.core.datetools module is deprecated and will be removed in a future version. Please use the pandas.tseries module instead.\n",
      "  from pandas.core import datetools\n"
     ]
    }
   ],
=======
   "outputs": [],
>>>>>>> 11b3e78921b80bc305ad989d8e28f9997b9f5480
   "source": [
    "# Imports -  These are all you need for the assignment: do not import additional packages\n",
    "%matplotlib inline\n",
    "\n",
    "import pandas as pd\n",
    "import numpy as np\n",
    "import matplotlib.pyplot as plt\n",
    "import patsy\n",
    "import statsmodels.api as sm\n",
    "from scipy.stats import ttest_ind"
   ]
  },
  {
   "cell_type": "markdown",
   "metadata": {
    "deletable": false,
    "editable": false,
    "nbgrader": {
     "checksum": "dcc031dde838bfcb1cc04e7cf28267e8",
     "grade": false,
     "grade_id": "notes",
     "locked": true,
     "schema_version": 1,
     "solution": false
    }
   },
   "source": [
    "### Notes\n",
    "\n",
    "Parts 1-5 of this assignment are modelled on showing you, and getting you to work through, a minimal example of a project notebook, mimicing what you will need for your final project.\n",
    "\n",
    "Parts 6-8 of this assignment are separate (and breaks from the project narrative), and serve as a series of quick one-offs to get you working with some other methods that might be useful to incorporate into your project."
   ]
  },
  {
   "cell_type": "markdown",
   "metadata": {
    "deletable": false,
    "editable": false,
    "nbgrader": {
     "checksum": "9681c3e151a874bd2922f28bbf3bdc6b",
     "grade": false,
     "grade_id": "setup",
     "locked": true,
     "schema_version": 1,
     "solution": false
    }
   },
   "source": [
    "## Setup\n",
    "\n",
    "Data: the responses collected from a survery of the COGS 108 class. \n",
    "- There are 377 observations in the data, covering 8 different 'features'.\n",
    "\n",
    "Research Question: Do students in different majors have different heights?\n",
    "\n",
    "Background: Physical height has previously shown to correlate with career choice, and career success. More recently it has been demonstrated that these correlations can actually be explained by height in high school, as opposed to height in adulthood (1). It is currently unclear whether height correlates with choice of major in university. \n",
    "\n",
    "Reference: 1) http://economics.sas.upenn.edu/~apostlew/paper/pdf/short.pdf\n",
    "\n",
    "Hypothesis: We hypothesize that there will be a relation between height and chosen major. "
   ]
  },
  {
   "cell_type": "markdown",
   "metadata": {
    "deletable": false,
    "editable": false,
    "nbgrader": {
     "checksum": "fb5ffeef2ec1c68c341cb216834c1fed",
     "grade": false,
     "grade_id": "part1",
     "locked": true,
     "schema_version": 1,
     "solution": false
    }
   },
   "source": [
    "## Part 1: Load & Clean the Data\n",
    "\n",
    "Note: for the purposes of the assignment we have provided you with an already cleaned version of the data, since cleaning the original response data would otherwise be a massive undertaking. "
   ]
  },
  {
   "cell_type": "code",
<<<<<<< HEAD
   "execution_count": 3,
   "metadata": {
=======
   "execution_count": null,
   "metadata": {
    "collapsed": false,
>>>>>>> 11b3e78921b80bc305ad989d8e28f9997b9f5480
    "deletable": false,
    "nbgrader": {
     "checksum": "7e47dd697f934da63620f12ff037495d",
     "grade": false,
     "grade_id": "1a",
     "locked": false,
     "schema_version": 1,
     "solution": true
    }
   },
<<<<<<< HEAD
   "outputs": [
    {
     "name": "stdout",
     "output_type": "stream",
     "text": [
      "     year       major   age gender  height  weight              ice_cream  \\\n",
      "0     1.0        math  18.0      m    68.0   140.0              choc_mint   \n",
      "1     1.0        cogs  19.0      m    69.0   141.0              choc_mint   \n",
      "2     1.0        cogs  24.0      m    70.0   210.0              choc_mint   \n",
      "3     1.0        cogs  19.0      f    64.0    63.0              choc_mint   \n",
      "4     1.0        cogs  19.0      m    70.0   155.0              choc_mint   \n",
      "5     1.0       undec  19.0      m    70.0   160.0              choc_mint   \n",
      "6     1.0          cs  18.0      f    61.0   124.0           chubby_hubby   \n",
      "7     1.0     math-cs  18.0      m    74.0   190.0          cookies_cream   \n",
      "8     1.0     math-cs  18.0      m    67.0   145.0          cookies_cream   \n",
      "9     1.0     math-cs  18.0      m    73.0    67.0              green_tea   \n",
      "10    1.0        cogs  18.0      f    65.0   110.0                  mango   \n",
      "11    1.0        cogs  18.0      f    67.0   154.0                   mint   \n",
      "12    1.0        cogs  19.0      m    74.0   155.0                   mint   \n",
      "13    1.0        cogs  19.0      m    74.0   155.0                   mint   \n",
      "14    1.0        cogs  19.0      m    72.0   175.0                   none   \n",
      "15    1.0        cogs  19.0      m    68.0   145.0          peanut_butter   \n",
      "16    1.0        cogs  18.0      f    63.0   120.0             rocky_road   \n",
      "17    1.0   cogs-dsgn  18.0      f    62.0   100.0         salted_caramel   \n",
      "18    1.0     math-cs  18.0      m    73.0   140.0             strawberry   \n",
      "19    1.0          cs  19.0      m     NaN     NaN             strawberry   \n",
      "20    1.0          cs  21.0      m    68.0   150.0                vanilla   \n",
      "21    1.0        cogs  21.0      m    70.0   156.0                vanilla   \n",
      "22    1.0         cse  19.0      m    70.0   139.0                vanilla   \n",
      "23    1.0        cogs  18.0      f    62.0   100.0                vanilla   \n",
      "24    1.0        cogs  19.0      m    66.0   155.0                vanilla   \n",
      "25    1.0   cogs-dsgn  19.0      m     NaN     NaN                    NaN   \n",
      "26    2.0     math-cs  21.0      m    73.0   165.0                    all   \n",
      "27    2.0     cogs-ml  20.0      m    72.0   140.0                    all   \n",
      "28    2.0          cs  19.0      m    74.0   160.0              choc_chip   \n",
      "29    2.0     cogs-ml  19.0      m    72.0   135.0              choc_mint   \n",
      "..    ...         ...   ...    ...     ...     ...                    ...   \n",
      "347   4.0         cse  20.0      m    72.0   138.0                vanilla   \n",
      "348   4.0    probstat  22.0      f    70.0   140.0                vanilla   \n",
      "349   4.0        cogs  21.0      f    63.0   120.0                vanilla   \n",
      "350   4.0         ece  21.0    NaN    70.0   140.0                vanilla   \n",
      "351   4.0          cs  23.0      m    71.0   170.0                vanilla   \n",
      "352   5.0         cse  22.0      m    69.0   145.0              choc_mint   \n",
      "353   5.0          cs  23.0      f    60.0   110.0              chocolate   \n",
      "354   5.0        math  23.0      m    73.0   155.0                 coffee   \n",
      "355   5.0        cogs  22.0      m    67.0   145.0          cookies_cream   \n",
      "356   5.0   cogs-dsgn  22.0      f    64.0   110.0              green_tea   \n",
      "357   5.0     cogs-ml  23.0      m    70.0   135.0                   mint   \n",
      "358   5.0        cogs  22.0      f    65.0   164.0        rainbow_sherbet   \n",
      "359   5.0     math-cs  22.0      f    59.0    78.0             strawberry   \n",
      "360   5.0        cogs  22.0      m    68.0   130.0             strawberry   \n",
      "361   5.0          cs  23.0      f    62.0   108.0             strawberry   \n",
      "362   5.0   cogs-dsgn  23.0      m    71.0   150.0  strawberry_cheesecake   \n",
      "363   5.0          cs  22.0      m    69.0   172.0                vanilla   \n",
      "364   5.0   cogs-dsgn  23.0      m    68.0   163.0                vanilla   \n",
      "365   6.0   cogs-dsgn  24.0      m    67.0   110.0                 coffee   \n",
      "366   6.0   cogs-dsgn  22.0      m    64.0   135.0         honey_lavender   \n",
      "367   6.0         cse  23.0      m    69.0   150.0                vanilla   \n",
      "368   7.0   cogs-dsgn  24.0      m     NaN     NaN              green_tea   \n",
      "369   NaN         NaN  25.0      m    68.0   160.0        black_raspberry   \n",
      "370   NaN  cogs-neuro  23.0      f    59.0    96.0              bubblegum   \n",
      "371   NaN        cogs  20.0      f    66.0   200.0              choc_mint   \n",
      "372   NaN         ece  24.0      m    69.0   120.0              chocolate   \n",
      "373   NaN   cogs-dsgn  22.0      m    65.0   105.0              chocolate   \n",
      "374   NaN          cs  22.0      f    63.0   116.0                 coffee   \n",
      "375   NaN        cogs  22.0      m    69.0   185.0         pecan_praline    \n",
      "376   NaN   cogs-dsgn  21.0      m    66.0   175.0                vanilla   \n",
      "\n",
      "           color  \n",
      "0          black  \n",
      "1           blue  \n",
      "2           blue  \n",
      "3           none  \n",
      "4         purple  \n",
      "5         purple  \n",
      "6         violet  \n",
      "7          black  \n",
      "8        rainbow  \n",
      "9    ultramarine  \n",
      "10          pink  \n",
      "11        orange  \n",
      "12        purple  \n",
      "13        purple  \n",
      "14        purple  \n",
      "15         green  \n",
      "16        purple  \n",
      "17          blue  \n",
      "18          blue  \n",
      "19          blue  \n",
      "20         black  \n",
      "21         black  \n",
      "22          blue  \n",
      "23     mint_blue  \n",
      "24     navy_blue  \n",
      "25          blue  \n",
      "26           red  \n",
      "27   transparent  \n",
      "28          blue  \n",
      "29         black  \n",
      "..           ...  \n",
      "347         none  \n",
      "348       orange  \n",
      "349         pink  \n",
      "350          red  \n",
      "351          red  \n",
      "352         blue  \n",
      "353         pink  \n",
      "354       orange  \n",
      "355        green  \n",
      "356         blue  \n",
      "357  ocean_green  \n",
      "358       purple  \n",
      "359         blue  \n",
      "360     lavender  \n",
      "361          red  \n",
      "362          red  \n",
      "363         blue  \n",
      "364        green  \n",
      "365       purple  \n",
      "366        white  \n",
      "367         blue  \n",
      "368         none  \n",
      "369     flamingo  \n",
      "370       purple  \n",
      "371    turquoise  \n",
      "372         blue  \n",
      "373          red  \n",
      "374       purple  \n",
      "375          red  \n",
      "376        black  \n",
      "\n",
      "[377 rows x 8 columns]\n"
     ]
    }
   ],
   "source": [
    "# 1a) Import the data in the file 'CleanedIntroResponses.csv' into a DataFrame, called 'df'.\n",
    "\n",
    "df = pd.read_csv(\"CleanedIntroResponses.csv\")\n",
    "print(df)\n",
    "#raise NotImplementedError()"
=======
   "outputs": [],
   "source": [
    "# 1a) Import the data in the file 'CleanedIntroResponses.csv' into a DataFrame, called 'df'.\n",
    "\n",
    "# YOUR CODE HERE\n",
    "raise NotImplementedError()"
>>>>>>> 11b3e78921b80bc305ad989d8e28f9997b9f5480
   ]
  },
  {
   "cell_type": "code",
<<<<<<< HEAD
   "execution_count": 4,
   "metadata": {
    "collapsed": true,
=======
   "execution_count": null,
   "metadata": {
    "collapsed": false,
>>>>>>> 11b3e78921b80bc305ad989d8e28f9997b9f5480
    "deletable": false,
    "editable": false,
    "nbgrader": {
     "checksum": "dda8eed84027b3f3e6d61c92f5d74b9e",
     "grade": true,
     "grade_id": "1a_ans",
     "locked": true,
     "points": 0.5,
     "schema_version": 1,
     "solution": false
    }
   },
   "outputs": [],
   "source": [
    "assert isinstance(df, pd.DataFrame)\n"
   ]
  },
  {
   "cell_type": "code",
<<<<<<< HEAD
   "execution_count": 5,
   "metadata": {
=======
   "execution_count": null,
   "metadata": {
    "collapsed": false,
>>>>>>> 11b3e78921b80bc305ad989d8e28f9997b9f5480
    "deletable": false,
    "nbgrader": {
     "checksum": "9aaf5abe18dc8ea96b1ff4b7f9741a08",
     "grade": false,
     "grade_id": "1b",
     "locked": false,
     "schema_version": 1,
     "solution": true
    }
   },
<<<<<<< HEAD
   "outputs": [
    {
     "name": "stdout",
     "output_type": "stream",
     "text": [
      "     year       major   age gender  height  weight              ice_cream  \\\n",
      "0     1.0        math  18.0      m    68.0   140.0              choc_mint   \n",
      "1     1.0        cogs  19.0      m    69.0   141.0              choc_mint   \n",
      "2     1.0        cogs  24.0      m    70.0   210.0              choc_mint   \n",
      "3     1.0        cogs  19.0      f    64.0    63.0              choc_mint   \n",
      "4     1.0        cogs  19.0      m    70.0   155.0              choc_mint   \n",
      "5     1.0       undec  19.0      m    70.0   160.0              choc_mint   \n",
      "6     1.0          cs  18.0      f    61.0   124.0           chubby_hubby   \n",
      "7     1.0     math-cs  18.0      m    74.0   190.0          cookies_cream   \n",
      "8     1.0     math-cs  18.0      m    67.0   145.0          cookies_cream   \n",
      "9     1.0     math-cs  18.0      m    73.0    67.0              green_tea   \n",
      "10    1.0        cogs  18.0      f    65.0   110.0                  mango   \n",
      "11    1.0        cogs  18.0      f    67.0   154.0                   mint   \n",
      "12    1.0        cogs  19.0      m    74.0   155.0                   mint   \n",
      "13    1.0        cogs  19.0      m    74.0   155.0                   mint   \n",
      "14    1.0        cogs  19.0      m    72.0   175.0                   none   \n",
      "15    1.0        cogs  19.0      m    68.0   145.0          peanut_butter   \n",
      "16    1.0        cogs  18.0      f    63.0   120.0             rocky_road   \n",
      "17    1.0   cogs-dsgn  18.0      f    62.0   100.0         salted_caramel   \n",
      "18    1.0     math-cs  18.0      m    73.0   140.0             strawberry   \n",
      "20    1.0          cs  21.0      m    68.0   150.0                vanilla   \n",
      "21    1.0        cogs  21.0      m    70.0   156.0                vanilla   \n",
      "22    1.0         cse  19.0      m    70.0   139.0                vanilla   \n",
      "23    1.0        cogs  18.0      f    62.0   100.0                vanilla   \n",
      "24    1.0        cogs  19.0      m    66.0   155.0                vanilla   \n",
      "26    2.0     math-cs  21.0      m    73.0   165.0                    all   \n",
      "27    2.0     cogs-ml  20.0      m    72.0   140.0                    all   \n",
      "28    2.0          cs  19.0      m    74.0   160.0              choc_chip   \n",
      "29    2.0     cogs-ml  19.0      m    72.0   135.0              choc_mint   \n",
      "30    2.0   cogs-dsgn  19.0      f    64.0   130.0              choc_mint   \n",
      "31    2.0     math-cs  19.0      m    69.0   170.0              choc_mint   \n",
      "..    ...         ...   ...    ...     ...     ...                    ...   \n",
      "336   4.0      bioeng  22.0      m    70.0   160.0        rainbow_sherbet   \n",
      "337   4.0     math-cs  21.0      m    74.0   165.0         salted_caramel   \n",
      "338   4.0          cs  21.0      f    68.0   160.0         salted_caramel   \n",
      "339   4.0          cs  22.0      m    71.0   220.0         salted_caramel   \n",
      "340   4.0         cse  22.0      m    66.0   155.0             strawberry   \n",
      "342   4.0        cogs  22.0      m    70.0   190.0                vanilla   \n",
      "343   4.0          cs  20.0      f    62.0   110.0                vanilla   \n",
      "344   4.0          cs  20.0      f    62.0   110.0                vanilla   \n",
      "345   4.0        cogs  24.0      f    70.0   140.0                vanilla   \n",
      "346   4.0  cogs-neuro  21.0      m    72.0   170.0                vanilla   \n",
      "347   4.0         cse  20.0      m    72.0   138.0                vanilla   \n",
      "348   4.0    probstat  22.0      f    70.0   140.0                vanilla   \n",
      "349   4.0        cogs  21.0      f    63.0   120.0                vanilla   \n",
      "351   4.0          cs  23.0      m    71.0   170.0                vanilla   \n",
      "352   5.0         cse  22.0      m    69.0   145.0              choc_mint   \n",
      "353   5.0          cs  23.0      f    60.0   110.0              chocolate   \n",
      "354   5.0        math  23.0      m    73.0   155.0                 coffee   \n",
      "355   5.0        cogs  22.0      m    67.0   145.0          cookies_cream   \n",
      "356   5.0   cogs-dsgn  22.0      f    64.0   110.0              green_tea   \n",
      "357   5.0     cogs-ml  23.0      m    70.0   135.0                   mint   \n",
      "358   5.0        cogs  22.0      f    65.0   164.0        rainbow_sherbet   \n",
      "359   5.0     math-cs  22.0      f    59.0    78.0             strawberry   \n",
      "360   5.0        cogs  22.0      m    68.0   130.0             strawberry   \n",
      "361   5.0          cs  23.0      f    62.0   108.0             strawberry   \n",
      "362   5.0   cogs-dsgn  23.0      m    71.0   150.0  strawberry_cheesecake   \n",
      "363   5.0          cs  22.0      m    69.0   172.0                vanilla   \n",
      "364   5.0   cogs-dsgn  23.0      m    68.0   163.0                vanilla   \n",
      "365   6.0   cogs-dsgn  24.0      m    67.0   110.0                 coffee   \n",
      "366   6.0   cogs-dsgn  22.0      m    64.0   135.0         honey_lavender   \n",
      "367   6.0         cse  23.0      m    69.0   150.0                vanilla   \n",
      "\n",
      "           color  \n",
      "0          black  \n",
      "1           blue  \n",
      "2           blue  \n",
      "3           none  \n",
      "4         purple  \n",
      "5         purple  \n",
      "6         violet  \n",
      "7          black  \n",
      "8        rainbow  \n",
      "9    ultramarine  \n",
      "10          pink  \n",
      "11        orange  \n",
      "12        purple  \n",
      "13        purple  \n",
      "14        purple  \n",
      "15         green  \n",
      "16        purple  \n",
      "17          blue  \n",
      "18          blue  \n",
      "20         black  \n",
      "21         black  \n",
      "22          blue  \n",
      "23     mint_blue  \n",
      "24     navy_blue  \n",
      "26           red  \n",
      "27   transparent  \n",
      "28          blue  \n",
      "29         black  \n",
      "30          blue  \n",
      "31          blue  \n",
      "..           ...  \n",
      "336       silver  \n",
      "337         blue  \n",
      "338         pink  \n",
      "339       purple  \n",
      "340          red  \n",
      "342        black  \n",
      "343         blue  \n",
      "344         blue  \n",
      "345         blue  \n",
      "346        green  \n",
      "347         none  \n",
      "348       orange  \n",
      "349         pink  \n",
      "351          red  \n",
      "352         blue  \n",
      "353         pink  \n",
      "354       orange  \n",
      "355        green  \n",
      "356         blue  \n",
      "357  ocean_green  \n",
      "358       purple  \n",
      "359         blue  \n",
      "360     lavender  \n",
      "361          red  \n",
      "362          red  \n",
      "363         blue  \n",
      "364        green  \n",
      "365       purple  \n",
      "366        white  \n",
      "367         blue  \n",
      "\n",
      "[335 rows x 8 columns]\n"
     ]
    }
   ],
   "source": [
    "# 1b) Drop any rows with 'NaN' values. Use the pandas 'dropna' method, inplace. \n",
    "\n",
    "df.dropna(inplace=True, axis=0, how='any')\n",
    "print(df)\n",
    "#raise NotImplementedError()"
=======
   "outputs": [],
   "source": [
    "# 1b) Drop any rows with 'NaN' values. Use the pandas 'dropna' method, inplace. \n",
    "\n",
    "# YOUR CODE HERE\n",
    "raise NotImplementedError()"
>>>>>>> 11b3e78921b80bc305ad989d8e28f9997b9f5480
   ]
  },
  {
   "cell_type": "code",
<<<<<<< HEAD
   "execution_count": 6,
=======
   "execution_count": null,
>>>>>>> 11b3e78921b80bc305ad989d8e28f9997b9f5480
   "metadata": {
    "collapsed": true,
    "deletable": false,
    "editable": false,
    "nbgrader": {
     "checksum": "27733266d1cf13a510baa5b51f9a8260",
     "grade": true,
     "grade_id": "1b_ans",
     "locked": true,
     "points": 0.25,
     "schema_version": 1,
     "solution": false
    }
   },
   "outputs": [],
   "source": [
    "assert df.shape == (335, 8)"
   ]
  },
  {
   "cell_type": "code",
<<<<<<< HEAD
   "execution_count": 7,
   "metadata": {
=======
   "execution_count": null,
   "metadata": {
    "collapsed": false,
>>>>>>> 11b3e78921b80bc305ad989d8e28f9997b9f5480
    "deletable": false,
    "nbgrader": {
     "checksum": "8efa32f5a07288d782c895be78e5da73",
     "grade": false,
     "grade_id": "1c",
     "locked": false,
     "schema_version": 1,
     "solution": true
    }
   },
<<<<<<< HEAD
   "outputs": [
    {
     "name": "stdout",
     "output_type": "stream",
     "text": [
      "    year    major   age gender  height  weight      ice_cream        color\n",
      "0    1.0     math  18.0      m    68.0   140.0      choc_mint        black\n",
      "1    1.0     cogs  19.0      m    69.0   141.0      choc_mint         blue\n",
      "2    1.0     cogs  24.0      m    70.0   210.0      choc_mint         blue\n",
      "3    1.0     cogs  19.0      f    64.0    63.0      choc_mint         none\n",
      "4    1.0     cogs  19.0      m    70.0   155.0      choc_mint       purple\n",
      "5    1.0    undec  19.0      m    70.0   160.0      choc_mint       purple\n",
      "6    1.0       cs  18.0      f    61.0   124.0   chubby_hubby       violet\n",
      "7    1.0  math-cs  18.0      m    74.0   190.0  cookies_cream        black\n",
      "8    1.0  math-cs  18.0      m    67.0   145.0  cookies_cream      rainbow\n",
      "9    1.0  math-cs  18.0      m    73.0    67.0      green_tea  ultramarine\n",
      "10   1.0     cogs  18.0      f    65.0   110.0          mango         pink\n",
      "11   1.0     cogs  18.0      f    67.0   154.0           mint       orange\n"
     ]
    }
   ],
=======
   "outputs": [],
>>>>>>> 11b3e78921b80bc305ad989d8e28f9997b9f5480
   "source": [
    "# 1c) Use the pandas 'head' function to grab the first 12 rows of data. \n",
    "#  Save the output to variable called 'head'\n",
    "\n",
<<<<<<< HEAD
    "head = df.head(12)\n",
    "print(head)\n",
    "#raise NotImplementedError()"
=======
    "# YOUR CODE HERE\n",
    "raise NotImplementedError()"
>>>>>>> 11b3e78921b80bc305ad989d8e28f9997b9f5480
   ]
  },
  {
   "cell_type": "code",
<<<<<<< HEAD
   "execution_count": 8,
=======
   "execution_count": null,
>>>>>>> 11b3e78921b80bc305ad989d8e28f9997b9f5480
   "metadata": {
    "collapsed": true,
    "deletable": false,
    "editable": false,
    "nbgrader": {
     "checksum": "347ea716611e9c1e296c7546b6ae20fb",
     "grade": true,
     "grade_id": "1c_ans",
     "locked": true,
     "points": 0.25,
     "schema_version": 1,
     "solution": false
    }
   },
   "outputs": [],
   "source": [
    "assert np.all(head)\n",
    "assert head.shape == (12, 8)"
   ]
  },
  {
   "cell_type": "code",
<<<<<<< HEAD
   "execution_count": 9,
   "metadata": {
=======
   "execution_count": null,
   "metadata": {
    "collapsed": false,
>>>>>>> 11b3e78921b80bc305ad989d8e28f9997b9f5480
    "deletable": false,
    "editable": false,
    "nbgrader": {
     "checksum": "9b26cee63843d099c4a652b437d84ab5",
     "grade": false,
     "grade_id": "print_head",
     "locked": true,
     "schema_version": 1,
     "solution": false
    }
   },
<<<<<<< HEAD
   "outputs": [
    {
     "data": {
      "text/html": [
       "<div>\n",
       "<style>\n",
       "    .dataframe thead tr:only-child th {\n",
       "        text-align: right;\n",
       "    }\n",
       "\n",
       "    .dataframe thead th {\n",
       "        text-align: left;\n",
       "    }\n",
       "\n",
       "    .dataframe tbody tr th {\n",
       "        vertical-align: top;\n",
       "    }\n",
       "</style>\n",
       "<table border=\"1\" class=\"dataframe\">\n",
       "  <thead>\n",
       "    <tr style=\"text-align: right;\">\n",
       "      <th></th>\n",
       "      <th>year</th>\n",
       "      <th>major</th>\n",
       "      <th>age</th>\n",
       "      <th>gender</th>\n",
       "      <th>height</th>\n",
       "      <th>weight</th>\n",
       "      <th>ice_cream</th>\n",
       "      <th>color</th>\n",
       "    </tr>\n",
       "  </thead>\n",
       "  <tbody>\n",
       "    <tr>\n",
       "      <th>0</th>\n",
       "      <td>1.0</td>\n",
       "      <td>math</td>\n",
       "      <td>18.0</td>\n",
       "      <td>m</td>\n",
       "      <td>68.0</td>\n",
       "      <td>140.0</td>\n",
       "      <td>choc_mint</td>\n",
       "      <td>black</td>\n",
       "    </tr>\n",
       "    <tr>\n",
       "      <th>1</th>\n",
       "      <td>1.0</td>\n",
       "      <td>cogs</td>\n",
       "      <td>19.0</td>\n",
       "      <td>m</td>\n",
       "      <td>69.0</td>\n",
       "      <td>141.0</td>\n",
       "      <td>choc_mint</td>\n",
       "      <td>blue</td>\n",
       "    </tr>\n",
       "    <tr>\n",
       "      <th>2</th>\n",
       "      <td>1.0</td>\n",
       "      <td>cogs</td>\n",
       "      <td>24.0</td>\n",
       "      <td>m</td>\n",
       "      <td>70.0</td>\n",
       "      <td>210.0</td>\n",
       "      <td>choc_mint</td>\n",
       "      <td>blue</td>\n",
       "    </tr>\n",
       "    <tr>\n",
       "      <th>3</th>\n",
       "      <td>1.0</td>\n",
       "      <td>cogs</td>\n",
       "      <td>19.0</td>\n",
       "      <td>f</td>\n",
       "      <td>64.0</td>\n",
       "      <td>63.0</td>\n",
       "      <td>choc_mint</td>\n",
       "      <td>none</td>\n",
       "    </tr>\n",
       "    <tr>\n",
       "      <th>4</th>\n",
       "      <td>1.0</td>\n",
       "      <td>cogs</td>\n",
       "      <td>19.0</td>\n",
       "      <td>m</td>\n",
       "      <td>70.0</td>\n",
       "      <td>155.0</td>\n",
       "      <td>choc_mint</td>\n",
       "      <td>purple</td>\n",
       "    </tr>\n",
       "    <tr>\n",
       "      <th>5</th>\n",
       "      <td>1.0</td>\n",
       "      <td>undec</td>\n",
       "      <td>19.0</td>\n",
       "      <td>m</td>\n",
       "      <td>70.0</td>\n",
       "      <td>160.0</td>\n",
       "      <td>choc_mint</td>\n",
       "      <td>purple</td>\n",
       "    </tr>\n",
       "    <tr>\n",
       "      <th>6</th>\n",
       "      <td>1.0</td>\n",
       "      <td>cs</td>\n",
       "      <td>18.0</td>\n",
       "      <td>f</td>\n",
       "      <td>61.0</td>\n",
       "      <td>124.0</td>\n",
       "      <td>chubby_hubby</td>\n",
       "      <td>violet</td>\n",
       "    </tr>\n",
       "    <tr>\n",
       "      <th>7</th>\n",
       "      <td>1.0</td>\n",
       "      <td>math-cs</td>\n",
       "      <td>18.0</td>\n",
       "      <td>m</td>\n",
       "      <td>74.0</td>\n",
       "      <td>190.0</td>\n",
       "      <td>cookies_cream</td>\n",
       "      <td>black</td>\n",
       "    </tr>\n",
       "    <tr>\n",
       "      <th>8</th>\n",
       "      <td>1.0</td>\n",
       "      <td>math-cs</td>\n",
       "      <td>18.0</td>\n",
       "      <td>m</td>\n",
       "      <td>67.0</td>\n",
       "      <td>145.0</td>\n",
       "      <td>cookies_cream</td>\n",
       "      <td>rainbow</td>\n",
       "    </tr>\n",
       "    <tr>\n",
       "      <th>9</th>\n",
       "      <td>1.0</td>\n",
       "      <td>math-cs</td>\n",
       "      <td>18.0</td>\n",
       "      <td>m</td>\n",
       "      <td>73.0</td>\n",
       "      <td>67.0</td>\n",
       "      <td>green_tea</td>\n",
       "      <td>ultramarine</td>\n",
       "    </tr>\n",
       "    <tr>\n",
       "      <th>10</th>\n",
       "      <td>1.0</td>\n",
       "      <td>cogs</td>\n",
       "      <td>18.0</td>\n",
       "      <td>f</td>\n",
       "      <td>65.0</td>\n",
       "      <td>110.0</td>\n",
       "      <td>mango</td>\n",
       "      <td>pink</td>\n",
       "    </tr>\n",
       "    <tr>\n",
       "      <th>11</th>\n",
       "      <td>1.0</td>\n",
       "      <td>cogs</td>\n",
       "      <td>18.0</td>\n",
       "      <td>f</td>\n",
       "      <td>67.0</td>\n",
       "      <td>154.0</td>\n",
       "      <td>mint</td>\n",
       "      <td>orange</td>\n",
       "    </tr>\n",
       "  </tbody>\n",
       "</table>\n",
       "</div>"
      ],
      "text/plain": [
       "    year    major   age gender  height  weight      ice_cream        color\n",
       "0    1.0     math  18.0      m    68.0   140.0      choc_mint        black\n",
       "1    1.0     cogs  19.0      m    69.0   141.0      choc_mint         blue\n",
       "2    1.0     cogs  24.0      m    70.0   210.0      choc_mint         blue\n",
       "3    1.0     cogs  19.0      f    64.0    63.0      choc_mint         none\n",
       "4    1.0     cogs  19.0      m    70.0   155.0      choc_mint       purple\n",
       "5    1.0    undec  19.0      m    70.0   160.0      choc_mint       purple\n",
       "6    1.0       cs  18.0      f    61.0   124.0   chubby_hubby       violet\n",
       "7    1.0  math-cs  18.0      m    74.0   190.0  cookies_cream        black\n",
       "8    1.0  math-cs  18.0      m    67.0   145.0  cookies_cream      rainbow\n",
       "9    1.0  math-cs  18.0      m    73.0    67.0      green_tea  ultramarine\n",
       "10   1.0     cogs  18.0      f    65.0   110.0          mango         pink\n",
       "11   1.0     cogs  18.0      f    67.0   154.0           mint       orange"
      ]
     },
     "execution_count": 9,
     "metadata": {},
     "output_type": "execute_result"
    }
   ],
=======
   "outputs": [],
>>>>>>> 11b3e78921b80bc305ad989d8e28f9997b9f5480
   "source": [
    "# Print out the data saved to 'head'\n",
    "head"
   ]
  },
  {
   "cell_type": "markdown",
   "metadata": {
    "deletable": false,
    "editable": false,
    "nbgrader": {
     "checksum": "ec3ec822434b84bd3c7dba440532d7d6",
     "grade": false,
     "grade_id": "part2",
     "locked": true,
     "schema_version": 1,
     "solution": false
    }
   },
   "source": [
    "## Part 2: Exploratory Data Vizualization\n",
    "\n",
    "First, we need to do some exploratory data visualization, to get a feel for the data. \n",
    "\n",
    "For plotting questions, do not change or move the 'plt.gcf()' lines. "
   ]
  },
  {
   "cell_type": "code",
<<<<<<< HEAD
   "execution_count": 10,
   "metadata": {
=======
   "execution_count": null,
   "metadata": {
    "collapsed": false,
>>>>>>> 11b3e78921b80bc305ad989d8e28f9997b9f5480
    "deletable": false,
    "nbgrader": {
     "checksum": "336844f08518dbd0fd40691447cd1623",
     "grade": false,
     "grade_id": "2a",
     "locked": false,
     "schema_version": 1,
     "solution": true
<<<<<<< HEAD
    },
    "scrolled": true
   },
   "outputs": [
    {
     "name": "stderr",
     "output_type": "stream",
     "text": [
      "/home/nicolas/.local/lib/python3.5/site-packages/ipykernel_launcher.py:3: FutureWarning: pandas.scatter_matrix is deprecated. Use pandas.plotting.scatter_matrix instead\n",
      "  This is separate from the ipykernel package so we can avoid doing imports until\n"
     ]
    },
    {
     "data": {
      "image/png": "iVBORw0KGgoAAAANSUhEUgAAAYQAAAEPCAYAAABCyrPIAAAABHNCSVQICAgIfAhkiAAAAAlwSFlz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\nEBwcHBwcAPj/ATbNIjzxZFJ8AAAAAElFTkSuQmCC\n",
      "text/plain": [
       "<matplotlib.figure.Figure at 0x7f86f5e4eb70>"
      ]
     },
     "metadata": {},
     "output_type": "display_data"
    }
   ],
   "source": [
    "# 2a) Plot the data, using scatter_matrix, from Pandas. Assign it to a variable called 'fig'.\n",
    "\n",
    "fig = pd.scatter_matrix(df)\n"
=======
    }
   },
   "outputs": [],
   "source": [
    "# 2a) Plot the data, using scatter_matrix, from Pandas. Assign it to a variable called 'fig'.\n",
    "\n",
    "# YOUR CODE HERE\n",
    "raise NotImplementedError()"
>>>>>>> 11b3e78921b80bc305ad989d8e28f9997b9f5480
   ]
  },
  {
   "cell_type": "code",
<<<<<<< HEAD
   "execution_count": 11,
   "metadata": {
    "collapsed": true,
=======
   "execution_count": null,
   "metadata": {
    "collapsed": false,
>>>>>>> 11b3e78921b80bc305ad989d8e28f9997b9f5480
    "deletable": false,
    "editable": false,
    "nbgrader": {
     "checksum": "f14b11cf1b7d831979da0920a94b5f2a",
     "grade": true,
     "grade_id": "2a_ans",
     "locked": true,
     "points": 0.5,
     "schema_version": 1,
     "solution": false
    }
   },
   "outputs": [],
   "source": [
    "assert np.all(fig)"
   ]
  },
  {
   "cell_type": "code",
<<<<<<< HEAD
   "execution_count": 12,
   "metadata": {
=======
   "execution_count": null,
   "metadata": {
    "collapsed": false,
>>>>>>> 11b3e78921b80bc305ad989d8e28f9997b9f5480
    "deletable": false,
    "nbgrader": {
     "checksum": "a1497f94569e78935882bea93c45582b",
     "grade": false,
     "grade_id": "2b",
     "locked": false,
     "schema_version": 1,
     "solution": true
    }
   },
<<<<<<< HEAD
   "outputs": [
    {
     "data": {
      "image/png": "iVBORw0KGgoAAAANSUhEUgAAAYgAAAE4CAYAAABBiWRTAAAABHNCSVQICAgIfAhkiAAAAAlwSFlz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\nG1PsRAAAAABJRU5ErkJggg==\n",
      "text/plain": [
       "<matplotlib.figure.Figure at 0x7f86f597d1d0>"
      ]
     },
     "metadata": {},
     "output_type": "display_data"
    }
   ],
=======
   "outputs": [],
>>>>>>> 11b3e78921b80bc305ad989d8e28f9997b9f5480
   "source": [
    "# 2b) Plot a bar chart showing the number of students in each majors. \n",
    "#  Hints: you can use 'value_counts' to get the counts for each major. \n",
    "#    You can then use the 'plot' method from pandas for plotting - you don't need matplotlib. \n",
    "\n",
<<<<<<< HEAD
    "\n",
    "#raise NotImplementedError()\n",
    "\n",
    "df2 = df['major'].value_counts()\n",
    "ax = df2.plot(kind='bar')\n",
    "ax.set_xlabel(\"major\")\n",
    "ax.set_ylabel(\"number of students\")\n",
    "\n",
    "\n",
=======
    "# YOUR CODE HERE\n",
    "raise NotImplementedError()\n",
>>>>>>> 11b3e78921b80bc305ad989d8e28f9997b9f5480
    "\n",
    "f1 = plt.gcf()"
   ]
  },
  {
   "cell_type": "code",
<<<<<<< HEAD
   "execution_count": 13,
   "metadata": {
    "collapsed": true,
=======
   "execution_count": null,
   "metadata": {
    "collapsed": false,
>>>>>>> 11b3e78921b80bc305ad989d8e28f9997b9f5480
    "deletable": false,
    "editable": false,
    "nbgrader": {
     "checksum": "7185d38733659185e168c86f351132f6",
     "grade": true,
     "grade_id": "2b_ans",
     "locked": true,
     "points": 0.5,
     "schema_version": 1,
     "solution": false
    }
   },
   "outputs": [],
   "source": [
    "assert f1.gca().has_data()"
   ]
  },
  {
   "cell_type": "code",
<<<<<<< HEAD
   "execution_count": 14,
   "metadata": {
=======
   "execution_count": null,
   "metadata": {
    "collapsed": false,
>>>>>>> 11b3e78921b80bc305ad989d8e28f9997b9f5480
    "deletable": false,
    "nbgrader": {
     "checksum": "93e83955d987e257f21122d632c0c7dc",
     "grade": false,
     "grade_id": "2c",
     "locked": false,
     "schema_version": 1,
     "solution": true
    }
   },
<<<<<<< HEAD
   "outputs": [
    {
     "name": "stdout",
     "output_type": "stream",
     "text": [
      "1      69.0\n",
      "2      70.0\n",
      "3      64.0\n",
      "4      70.0\n",
      "10     65.0\n",
      "11     67.0\n",
      "12     74.0\n",
      "13     74.0\n",
      "14     72.0\n",
      "15     68.0\n",
      "16     63.0\n",
      "21     70.0\n",
      "23     62.0\n",
      "24     66.0\n",
      "32     64.0\n",
      "35     64.0\n",
      "36     71.0\n",
      "44     66.0\n",
      "49     65.0\n",
      "56     60.0\n",
      "84     72.0\n",
      "89     64.0\n",
      "92     68.0\n",
      "94     68.0\n",
      "95     69.0\n",
      "101    69.0\n",
      "102    72.0\n",
      "108    67.0\n",
      "110    67.0\n",
      "114    60.0\n",
      "       ... \n",
      "262    66.0\n",
      "264    63.0\n",
      "265    64.0\n",
      "266    65.0\n",
      "268    73.0\n",
      "269    69.0\n",
      "273    77.0\n",
      "280    72.0\n",
      "285    70.0\n",
      "287    66.0\n",
      "289    65.0\n",
      "299    68.0\n",
      "301    72.0\n",
      "302    72.0\n",
      "306    70.0\n",
      "307    60.0\n",
      "308    69.0\n",
      "310    70.0\n",
      "314    62.0\n",
      "326    65.0\n",
      "329    67.0\n",
      "330    66.0\n",
      "331    70.0\n",
      "332    73.0\n",
      "342    70.0\n",
      "345    70.0\n",
      "349    63.0\n",
      "355    67.0\n",
      "358    65.0\n",
      "360    68.0\n",
      "Name: height, Length: 104, dtype: float64\n"
     ]
    },
    {
     "data": {
      "image/png": "iVBORw0KGgoAAAANSUhEUgAAAYMAAAD8CAYAAACVZ8iyAAAABHNCSVQICAgIfAhkiAAAAAlwSFlz\nAAALEgAACxIB0t1+/AAAD8pJREFUeJzt3X2MZXV9x/H3R1ajIuWhjNstso4YQkvaCnQ0bVBTi1IE\nRWhSKrG6VevaVFJpbdoNNpZ/mqAV7UMsdRF0tWp9AqUFqwuxGhMr7urq8qBdtGvdddlFpVlQIwW+\n/eOekes4d+bM7px77uy+X8nNnPO753fPNyc/9sPvnoebqkKSdHh7VN8FSJL6ZxhIkgwDSZJhIEnC\nMJAkYRhIkjAMJEl0GAZJTkzyqSR3JLk9yWub9suT7E6yrXmd21UNkqR20tVNZ0nWAGuq6otJjgK2\nAhcAFwH3V9WbO9mxJGnJVnX1wVW1B9jTLN+X5E7ghAP5rOOPP76mp6eXsTpJOvRt3br1O1U11Wbb\nzsJgWJJp4HTg88CZwCVJXgZsAV5XVfcu1H96epotW7Z0XaYkHVKSfLPttp2fQE7yBOAjwKVVtR+4\nCngqcBqDmcOVI/qtT7IlyZZ77rmn6zIl6bDWaRgkeTSDIHhvVV0HUFV7q+qhqnoYuBp4xnx9q2pj\nVc1U1czUVKtZjiTpAHV5NVGAa4A7q+otQ+1rhja7ELitqxokSe10ec7gTOClwPYk25q2y4CLk5wG\nFLATeHWHNUiSWujyaqLPApnnrZu62qck6cB4B7IkyTCQJBkGkiQMA0kSY7oDWeM1veHGXva784rz\netmvpIPnzECSZBhIkgwDSRKGgSQJw0CShGEgScIwkCRhGEiSMAwkSRgGkiQMA0kShoEkCcNAkoRh\nIEnCMJAkYRhIkjAMJEkYBpIkDANJEoaBJAnDQJKEYSBJwjCQJGEYSJIwDCRJGAaSJAwDSRKGgSQJ\nw0CShGEgSaLDMEhyYpJPJbkjye1JXtu0H5dkc5Idzd9ju6pBktROlzODB4HXVdWpwK8Br0lyKrAB\nuKWqTgZuadYlST3qLAyqak9VfbFZvg+4EzgBeBGwqdlsE3BBVzVIktpZNY6dJJkGTgc+D6yuqj3N\nW3cDq0f0WQ+sB1i7dm33RUoHYHrDjb3te+cV5/W2bx16Oj+BnOQJwEeAS6tq//B7VVVAzdevqjZW\n1UxVzUxNTXVdpiQd1joNgySPZhAE762q65rmvUnWNO+vAfZ1WYMkaXFdXk0U4Brgzqp6y9BbNwDr\nmuV1wMe6qkGS1E6X5wzOBF4KbE+yrWm7DLgC+GCSVwLfBC7qsAZJUgudhUFVfRbIiLfP6mq/kqSl\n8w5kSZJhIEkyDCRJGAaSJAwDSRKGgSQJw0CShGEgScIwkCRhGEiSMAwkSRgGkiQMA0kShoEkCcNA\nkoRhIEnCMJAkYRhIkjAMJEkYBpIkDANJEoaBJAnDQJKEYSBJwjCQJGEYSJIwDCRJGAaSJAwDSRKG\ngSQJw0CShGEgScIwkCRhGEiSaBkGSX55qR+c5Nok+5LcNtR2eZLdSbY1r3OX+rmSpOXXdmbwj0lu\nTfJHSY5u2eddwDnztL+1qk5rXje1/CxJUodahUFVPQt4CXAisDXJ+5I8b5E+nwG+d/AlSpK6tqrt\nhlW1I8lfAluAvwdOTxLgsqq6bgn7vCTJy5rPeV1V3TvfRknWA+sB1q5du4SP1+FoesONfZdw2Ojz\nWO+84rze9n2oa3vO4FeSvBW4E/hN4IVV9YvN8luXsL+rgKcCpwF7gCtHbVhVG6tqpqpmpqamlrAL\nSdJStZ0Z/APwDgazgB/ONlbVt5vZQitVtXd2OcnVwL+17StJ6k7bMDgP+GFVPQSQ5FHAY6vqB1X1\nnrY7S7KmqvY0qxcCty20vSRpPNpeTXQz8Lih9cc3bSMleT/wOeCUJLuSvBJ4U5LtSb4CPAf4kwOo\nWZK0zNrODB5bVffPrlTV/Ukev1CHqrp4nuZrllKcJGk82s4Mvp/kjNmVJL8K/HCB7SVJK0jbmcGl\nwIeSfBsI8HPA73ZWlSRprFqFQVV9IckvAKc0TV+rqv/rrixJ0ji1vukMeDow3fQ5IwlV9e5OqpIk\njVWrMEjyHgY3i20DHmqaCzAMJOkQ0HZmMAOcWlXVZTGSpH60vZroNgYnjSVJh6C2M4PjgTuS3Ar8\naLaxqs7vpCpJ0li1DYPLuyxCktSvtpeWfjrJk4GTq+rm5u7jI7otTZI0Lm0fYf0q4MPA25umE4CP\ndlWUJGm82p5Afg1wJrAfBj90Azyxq6IkSePVNgx+VFUPzK4kWcXgPgNJ0iGgbRh8OsllwOOa3z7+\nEPCv3ZUlSRqntmGwAbgH2A68GrgJaP0LZ5Kkydb2aqKHgaublyTpENP22UT/zTznCKrqpGWvSJI0\ndkt5NtGsxwK/Axy3/OVIkvrQ6pxBVX136LW7qv4WOK/j2iRJY9L2a6IzhlYfxWCmsJTfQpAkTbC2\n/6BfObT8ILATuGjZq5Ek9aLt1UTP6boQSVJ/2n5N9KcLvV9Vb1meciRJfVjK1URPB25o1l8I3Ars\n6KIoSdJ4tQ2DJwFnVNV9AEkuB26sqt/rqjBJ0vi0fRzFauCBofUHmjZJ0iGg7czg3cCtSa5v1i8A\nNnVTkiRp3NpeTfTXST4OPKtpenlVfam7siRJ49T2ayKAxwP7q+rvgF1JntJRTZKkMWt7aelfMbii\n6BTgncCjgX9m8OtnEgDTG27suwRJB6jtzOBC4Hzg+wBV9W3gqK6KkiSNV9sweKCqiuYx1kmO7K4k\nSdK4tQ2DDyZ5O3BMklcBN+MP3UjSIaPt1URvbn77eD+D8wZvqKrNnVYmSRqbRcMgyRHAzc3D6loH\nQJJrgRcA+6rql5q244APANM0Tz6tqnuXXrYkaTkt+jVRVT0EPJzk6CV+9ruAc+a0bQBuqaqTgVua\ndUlSz9regXw/sD3JZporigCq6o9HdaiqzySZntP8IuA3muVNwH8Af9GyBklSR9qGwXXN62Ctrqo9\nzfLd+HwjSZoIC4ZBkrVV9T9VtezPIaqqSlIL7Hs9sB5g7dq1y717SdKQxc4ZfHR2IclHlmF/e5Os\naT5vDbBv1IZVtbGqZqpqZmpqahl2LUkaZbEwyNDyScuwvxuAdc3yOuBjy/CZkqSDtFgY1IjlRSV5\nP/A54JQku5K8ErgCeF6SHcBzm3VJUs8WO4H8tCT7GcwQHtcs06xXVf3MqI5VdfGIt85aepmSpC4t\nGAZVdcS4CpEk9Wcpv2cgSTpEGQaSpNY3nekA+GMvklYKZwaSJMNAkmQYSJIwDCRJGAaSJAwDSRKG\ngSQJw0CShGEgScIwkCRhGEiSMAwkSRgGkiQMA0kShoEkCcNAkoRhIEnCMJAkYRhIkjAMJEkYBpIk\nDANJEoaBJAnDQJKEYSBJwjCQJGEYSJIwDCRJGAaSJAwDSRKwqo+dJtkJ3Ac8BDxYVTN91CFJGugl\nDBrPqarv9Lh/SVLDr4kkSb2FQQGfTLI1yfqeapAkNfr6muiZVbU7yROBzUm+WlWfGd6gCYn1AGvX\nru2jRkk6bPQyM6iq3c3ffcD1wDPm2WZjVc1U1czU1NS4S5Skw8rYwyDJkUmOml0GzgZuG3cdkqRH\n9PE10Wrg+iSz+39fVf17D3VIkhpjD4Oq+gbwtHHvV5I0mpeWSpIMA0mSYSBJot/HUUg6CNMbbuy7\nBB1CnBlIkgwDSZJhIEnCMJAkYRhIkjAMJEkYBpIkDANJEofBTWfemCNJi3NmIEkyDCRJhoEkCcNA\nkoRhIEnCMJAkYRhIkjAMJEkcBjedSTp09HUT6c4rzutlv+PkzECSZBhIkgwDSRKGgSQJw0CShGEg\nScIwkCThfQaStKg+fyRrXPc4ODOQJBkGkiTDQJKEYSBJoqcwSHJOkq8luSvJhj5qkCQ9YuxhkOQI\n4G3A84FTgYuTnDruOiRJj+hjZvAM4K6q+kZVPQD8C/CiHuqQJDX6CIMTgG8Nre9q2iRJPZnYm86S\nrAfWN6v3J/naAX7U8cB3lqeqsbHm7q20esGax2Wias4bF91koXqf3HY/fYTBbuDEofUnNW0/oao2\nAhsPdmdJtlTVzMF+zjhZc/dWWr1gzeOy0mpernr7+JroC8DJSZ6S5DHAi4EbeqhDktQY+8ygqh5M\ncgnwCeAI4Nqqun3cdUiSHtHLOYOqugm4aUy7O+ivmnpgzd1bafWCNY/LSqt5WepNVS3H50iSVjAf\nRyFJWtlhkOSYJB9O8tUkdyb59STHJdmcZEfz99gRfdc12+xIsq7Hev+mWf9KkuuTHDOi784k25Ns\nS7JlHPUuUPPlSXY3tWxLcu6Ivr08dmREzR8Yqndnkm0j+o79OCc5Zai2bUn2J7l0wsfyqJoncjwv\nUO/EjuUFau5mLFfVin0Bm4A/aJYfAxwDvAnY0LRtAN44T7/jgG80f49tlo/tqd6zgVVN2xvnq7d5\nbydw/IQc48uBP1uk3xHA14GTmn5fBk7tq+Y5718JvGGSjvOc43Y3g+vDJ3YsL1DzRI/neeqd6LE8\nX81z2pdtLK/YmUGSo4FnA9cAVNUDVfW/DB5tsanZbBNwwTzdfwvYXFXfq6p7gc3AOX3UW1WfrKoH\nm83+k8F9FxNhgWPcRi+PHVms5iQBLgLe33UtB+gs4OtV9U0mdCzP48c1T/J4HjJ8jNuYhEfo/FTN\nyz2WV2wYAE8B7gHemeRLSd6R5EhgdVXtaba5G1g9T98+Hokxqt5hrwA+PqJ/AZ9MsjWDu7PHYaGa\nL2m+Crh2xNcXfT12ZLHj/Cxgb1XtGNG/j+M87MU88h/3pI7luYZrHjZp43nW3HondSwPm+8YL+tY\nXslhsAo4A7iqqk4Hvs9gKv1jNZgrTcrlUgvWm+T1wIPAe0f0f2ZVncHgaa+vSfLsjuuF0TVfBTwV\nOA3Yw2CqOikWGxcXs/D/SfVxnAHI4CbM84EPzX1vwsbyj42qeULH83z1TvJYBhYcF8s6lldyGOwC\ndlXV55v1DzP4R2BvkjUAzd998/Rt9UiMZTaqXpL8PvAC4CXNf/Q/pap2N3/3AdczmLp2bd6aq2pv\nVT1UVQ8DV4+opY9jDAsf51XAbwMfGNW5p+M86/nAF6tqb7M+qWN52NyaJ3k8w5x6J3wsz5rvGC/7\nWF6xYVBVdwPfSnJK03QWcAeDR1vMXlGxDvjYPN0/AZyd5NhmWnh20zb2epOcA/w5cH5V/WC+vkmO\nTHLU7HJT721d1rtIzWuGNrtwRC29PHZkgXEB8Fzgq1W1a76+fR3nIXP/T28ix/IcP1HzJI/nxtx6\nJ3YsD5lvBrD8Y3mcZ8SX+8VgarcF+ArwUQZXU/wscAuwA7gZOK7ZdgZ4x1DfVwB3Na+X91jvXQy+\nj9zWvP6p2fbngZua5ZMYXMHwZeB24PU9H+P3ANubthuANXNrbtbPBf6LwZUYvdbctL8L+MM5207K\ncT4S+C5w9FDbxI7lBWqe2PE8ot5JH8s/VXNXY9k7kCVJK/drIknS8jEMJEmGgSTJMJAkYRhIkjAM\nJEkYBpIkDANJEvD/lVvzCStjXC4AAAAASUVORK5CYII=\n",
      "text/plain": [
       "<matplotlib.figure.Figure at 0x7f86f5c902b0>"
      ]
     },
     "metadata": {},
     "output_type": "display_data"
    }
   ],
   "source": [
    "# 2c) Plot a histogram of the height data for all students who wrote 'cogs' as their major.\n",
    "#ax = (df['major']=='cogs').sum(axis=1)\n",
    "df2 = df['major'].value_counts()\n",
    "\n",
    "\"\"\"\n",
    "ax = (df['major']=='cogs').value_counts()\n",
    "\"\"\"\n",
    "cogs = df.loc[df['major'] == 'cogs']\n",
    "cogs = cogs['height']\n",
    "cogs.plot(kind='hist')\n",
    "print(cogs)\n",
    "\n",
    "\n",
    "# YOUR CODE HERE\n",
    "#raise NotImplementedError()\n",
=======
   "outputs": [],
   "source": [
    "# 2c) Plot a histogram of the height data for all students who wrote 'cogs' as their major.\n",
    "\n",
    "# YOUR CODE HERE\n",
    "raise NotImplementedError()\n",
>>>>>>> 11b3e78921b80bc305ad989d8e28f9997b9f5480
    "\n",
    "f2 = plt.gcf()"
   ]
  },
  {
   "cell_type": "code",
<<<<<<< HEAD
   "execution_count": 15,
   "metadata": {
    "collapsed": true,
=======
   "execution_count": null,
   "metadata": {
    "collapsed": false,
>>>>>>> 11b3e78921b80bc305ad989d8e28f9997b9f5480
    "deletable": false,
    "editable": false,
    "nbgrader": {
     "checksum": "c87308acea51c09218a853f7a78d8a3b",
     "grade": true,
     "grade_id": "2c_ans",
     "locked": true,
     "points": 0.5,
     "schema_version": 1,
     "solution": false
    }
   },
   "outputs": [],
   "source": [
    "assert f2.gca().has_data()"
   ]
  },
  {
   "cell_type": "code",
<<<<<<< HEAD
   "execution_count": 16,
   "metadata": {
=======
   "execution_count": null,
   "metadata": {
    "collapsed": false,
>>>>>>> 11b3e78921b80bc305ad989d8e28f9997b9f5480
    "deletable": false,
    "nbgrader": {
     "checksum": "abd820492f68bb4c614a3656654b93c9",
     "grade": false,
     "grade_id": "2d",
     "locked": false,
     "schema_version": 1,
     "solution": true
    }
   },
<<<<<<< HEAD
   "outputs": [
    {
     "name": "stdout",
     "output_type": "stream",
     "text": [
      "     year major   age gender  height  weight             ice_cream       color\n",
      "6     1.0    cs  18.0      f    61.0   124.0          chubby_hubby      violet\n",
      "20    1.0    cs  21.0      m    68.0   150.0               vanilla       black\n",
      "28    2.0    cs  19.0      m    74.0   160.0             choc_chip        blue\n",
      "39    2.0    cs  23.0      m    71.0   142.0  chocchip_cookiedough  neon_green\n",
      "47    2.0    cs  22.0      m    71.0   137.0               coconut        blue\n",
      "53    2.0    cs  19.0      m    71.0   175.0          cookie_dough        blue\n",
      "57    2.0    cs  19.0      m    71.0   168.0         cookies_cream   evergreen\n",
      "58    2.0    cs  20.0      m    70.0   145.0         cookies_cream        grey\n",
      "60    2.0    cs  19.0      m    72.0   163.0         cookies_cream       green\n",
      "63    2.0    cs  19.0      f    63.0   106.0         cookies_cream      purple\n",
      "65    2.0    cs  20.0      m    69.0   133.0              earlgrey        blue\n",
      "68    2.0    cs  19.0      m    69.0   130.0             green_tea        grey\n",
      "71    2.0    cs  20.0      m    66.0   122.0             green_tea      orange\n",
      "74    2.0    cs  19.0      m    72.0   170.0               healthy        blue\n",
      "77    2.0    cs  19.0      m    69.0   160.0                  mint         red\n",
      "80    2.0    cs  19.0      m    70.0   180.0    mocha_almond_fudge      maroon\n",
      "83    2.0    cs  19.0      m    67.0   149.0                  none        pink\n",
      "86    2.0    cs  19.0      m    72.0   150.0             pistachio      purple\n",
      "88    2.0    cs  19.0      m    67.0   114.0             raspberry       green\n",
      "93    2.0    cs  19.0      m    70.0   142.0            strawberry       white\n",
      "98    2.0    cs  19.0      m    70.0   152.0               vanilla        blue\n",
      "99    2.0    cs  19.0      m    72.0   170.0               vanilla        blue\n",
      "100   2.0    cs  20.0      m    73.0   170.0               vanilla        blue\n",
      "103   2.0    cs  19.0      m    69.0   155.0               vanilla       green\n",
      "104   2.0    cs  20.0      m    70.0   145.0               vanilla       green\n",
      "124   3.0    cs  21.0      m    65.0   163.0             choc_chip        blue\n",
      "125   3.0    cs  20.0      f    70.0   135.0             choc_chip        grey\n",
      "130   3.0    cs  23.0      m    68.0   145.0             choc_mint       green\n",
      "131   3.0    cs  20.0      m    68.0   155.0             choc_mint       green\n",
      "135   3.0    cs  21.0      m    70.0   150.0             choc_mint      purple\n",
      "..    ...   ...   ...    ...     ...     ...                   ...         ...\n",
      "236   3.0    cs  21.0      m    71.0   165.0                   red         red\n",
      "241   3.0    cs  20.0      m    70.0   150.0            rocky_road         red\n",
      "246   3.0    cs  21.0      f    62.0   105.0            strawberry        blue\n",
      "249   3.0    cs  20.0      m    70.0   155.0            strawberry       green\n",
      "252   3.0    cs  20.0      m    74.0   225.0            strawberry      purple\n",
      "258   3.0    cs  21.0      m    67.0   125.0               vanilla        blue\n",
      "259   3.0    cs  20.0      m    72.0   134.0               vanilla        blue\n",
      "270   3.0    cs  20.0      m    73.0   170.0               vanilla      orange\n",
      "272   3.0    cs  20.0      m    66.0   138.0               vanilla        pink\n",
      "274   3.0    cs  20.0      m    67.0   150.0               vanilla      purple\n",
      "277   3.0    cs  21.0      m    69.0   180.0               vanilla   turquoise\n",
      "278   3.0    cs  21.0      m    67.0   143.0               vanilla       white\n",
      "296   4.0    cs  21.0      m    69.0   135.0             choc_mint        pink\n",
      "300   4.0    cs  26.0      m    66.0   130.0             chocolate       black\n",
      "304   4.0    cs  28.0      m    73.0   215.0             chocolate      purple\n",
      "305   4.0    cs  23.0      m    66.0   160.0             chocolate         red\n",
      "312   4.0    cs  22.0      m    68.0   130.0          cookie_dough         red\n",
      "313   4.0    cs  21.0      m    66.0   140.0         cookies_cream       black\n",
      "318   4.0    cs  21.0      m    65.0   140.0         cookies_cream         red\n",
      "319   4.0    cs  22.0      f    60.0   105.0         cookies_cream         red\n",
      "323   4.0    cs  22.0      m    69.0   143.0             green_tea       black\n",
      "334   4.0    cs  22.0      m    68.0   135.0             pistachio        blue\n",
      "338   4.0    cs  21.0      f    68.0   160.0        salted_caramel        pink\n",
      "339   4.0    cs  22.0      m    71.0   220.0        salted_caramel      purple\n",
      "343   4.0    cs  20.0      f    62.0   110.0               vanilla        blue\n",
      "344   4.0    cs  20.0      f    62.0   110.0               vanilla        blue\n",
      "351   4.0    cs  23.0      m    71.0   170.0               vanilla         red\n",
      "353   5.0    cs  23.0      f    60.0   110.0             chocolate        pink\n",
      "361   5.0    cs  23.0      f    62.0   108.0            strawberry         red\n",
      "363   5.0    cs  22.0      m    69.0   172.0               vanilla        blue\n",
      "\n",
      "[82 rows x 8 columns]\n",
      "6      61.0\n",
      "20     68.0\n",
      "28     74.0\n",
      "39     71.0\n",
      "47     71.0\n",
      "53     71.0\n",
      "57     71.0\n",
      "58     70.0\n",
      "60     72.0\n",
      "63     63.0\n",
      "65     69.0\n",
      "68     69.0\n",
      "71     66.0\n",
      "74     72.0\n",
      "77     69.0\n",
      "80     70.0\n",
      "83     67.0\n",
      "86     72.0\n",
      "88     67.0\n",
      "93     70.0\n",
      "98     70.0\n",
      "99     72.0\n",
      "100    73.0\n",
      "103    69.0\n",
      "104    70.0\n",
      "124    65.0\n",
      "125    70.0\n",
      "130    68.0\n",
      "131    68.0\n",
      "135    70.0\n",
      "       ... \n",
      "236    71.0\n",
      "241    70.0\n",
      "246    62.0\n",
      "249    70.0\n",
      "252    74.0\n",
      "258    67.0\n",
      "259    72.0\n",
      "270    73.0\n",
      "272    66.0\n",
      "274    67.0\n",
      "277    69.0\n",
      "278    67.0\n",
      "296    69.0\n",
      "300    66.0\n",
      "304    73.0\n",
      "305    66.0\n",
      "312    68.0\n",
      "313    66.0\n",
      "318    65.0\n",
      "319    60.0\n",
      "323    69.0\n",
      "334    68.0\n",
      "338    68.0\n",
      "339    71.0\n",
      "343    62.0\n",
      "344    62.0\n",
      "351    71.0\n",
      "353    60.0\n",
      "361    62.0\n",
      "363    69.0\n",
      "Name: height, Length: 82, dtype: float64\n"
     ]
    },
    {
     "data": {
      "image/png": "iVBORw0KGgoAAAANSUhEUgAAAYIAAAD8CAYAAAB6paOMAAAABHNCSVQICAgIfAhkiAAAAAlwSFlz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\nZxFIUuP+H6ROVp6gLEQZAAAAAElFTkSuQmCC\n",
      "text/plain": [
       "<matplotlib.figure.Figure at 0x7f86f59e7390>"
      ]
     },
     "metadata": {},
     "output_type": "display_data"
    }
   ],
   "source": [
    "# 2d) Plot a histogram of the height data for all students who wrote 'cs' as their major.\n",
    "\n",
    "cs = df.loc[df['major'] == 'cs']\n",
    "print(cs)\n",
    "cs = cs['height']\n",
    "cs.plot(kind='hist')\n",
    "print(cs)\n",
    "\n",
    "#raise NotImplementedError()\n",
=======
   "outputs": [],
   "source": [
    "# 2d) Plot a histogram of the height data for all students who wrote 'cs' as their major.\n",
    "\n",
    "# YOUR CODE HERE\n",
    "raise NotImplementedError()\n",
>>>>>>> 11b3e78921b80bc305ad989d8e28f9997b9f5480
    "\n",
    "f3 = plt.gcf()"
   ]
  },
  {
   "cell_type": "code",
<<<<<<< HEAD
   "execution_count": 17,
   "metadata": {
    "collapsed": true,
=======
   "execution_count": null,
   "metadata": {
    "collapsed": false,
>>>>>>> 11b3e78921b80bc305ad989d8e28f9997b9f5480
    "deletable": false,
    "editable": false,
    "nbgrader": {
     "checksum": "7f2d3bdceb13ded22ef7b66391a9e157",
     "grade": true,
     "grade_id": "2d_ans",
     "locked": true,
     "points": 0.5,
     "schema_version": 1,
     "solution": false
    }
   },
   "outputs": [],
   "source": [
    "assert f3.gca().has_data()"
   ]
  },
  {
   "cell_type": "markdown",
   "metadata": {
    "deletable": false,
    "editable": false,
    "nbgrader": {
     "checksum": "4c95123e847ab5c0b71765d0b28f2354",
     "grade": false,
     "grade_id": "part3",
     "locked": true,
     "schema_version": 1,
     "solution": false
    }
   },
   "source": [
    "## Part 3: Exploring The Data\n",
    "\n",
    "Beyond just plotting the data, we should check some other basic properties of the data. This serves both as a way to get a 'feel' for the data, and to look for any quirks or oddities about the data, that may indicate issues that need resolving. To do this, let's explore that data a bit (not limiting ourselves to only features that we plan to use - exploring the dataset as a whole can help us find any issues). \n",
    "\n",
    "Notes:\n",
    "- You answers should NOT be pandas objects (Series or DataFrames), extract answers so the variables are ints, floats or strings (as appropriate).\n",
    "- You must answer these questions programmatically: do not count / check and hard code particular values."
   ]
  },
  {
   "cell_type": "code",
<<<<<<< HEAD
   "execution_count": 18,
   "metadata": {
=======
   "execution_count": null,
   "metadata": {
    "collapsed": true,
>>>>>>> 11b3e78921b80bc305ad989d8e28f9997b9f5480
    "deletable": false,
    "nbgrader": {
     "checksum": "54e674714945bb012baaccc98d184976",
     "grade": false,
     "grade_id": "3a",
     "locked": false,
     "schema_version": 1,
     "solution": true
    }
   },
<<<<<<< HEAD
   "outputs": [
    {
     "name": "stdout",
     "output_type": "stream",
     "text": [
      "21\n"
     ]
    }
   ],
=======
   "outputs": [],
>>>>>>> 11b3e78921b80bc305ad989d8e28f9997b9f5480
   "source": [
    "# 3a) How many different majors are in the dataset?\n",
    "#  Save this number to a variable 'n_majors'. \n",
    "\n",
<<<<<<< HEAD
    "tab_major = []\n",
    "found = False\n",
    "for index, row in df.major.iteritems():\n",
    "    for element in tab_major:\n",
    "        if element == row:\n",
    "            found = True\n",
    "    if found == False:\n",
    "        tab_major.append(row)\n",
    "    found = False\n",
    "\n",
    "n_majors = len(tab_major)\n",
    "print(n_majors)\n",
    "    \n",
    "\n",
    "# YOUR CODE HERE\n",
    "#raise NotImplementedError()"
=======
    "# YOUR CODE HERE\n",
    "raise NotImplementedError()"
>>>>>>> 11b3e78921b80bc305ad989d8e28f9997b9f5480
   ]
  },
  {
   "cell_type": "code",
<<<<<<< HEAD
   "execution_count": 19,
=======
   "execution_count": null,
>>>>>>> 11b3e78921b80bc305ad989d8e28f9997b9f5480
   "metadata": {
    "collapsed": true,
    "deletable": false,
    "editable": false,
    "nbgrader": {
     "checksum": "67c12baf3effefa347593d313fdb656b",
     "grade": true,
     "grade_id": "3a_ans",
     "locked": true,
     "points": 0.5,
     "schema_version": 1,
     "solution": false
    }
   },
   "outputs": [],
   "source": [
    "assert n_majors\n"
   ]
  },
  {
   "cell_type": "code",
<<<<<<< HEAD
   "execution_count": 20,
   "metadata": {
=======
   "execution_count": null,
   "metadata": {
    "collapsed": false,
>>>>>>> 11b3e78921b80bc305ad989d8e28f9997b9f5480
    "deletable": false,
    "nbgrader": {
     "checksum": "f4ca0bfab45f5a05cc6b6f815d093481",
     "grade": false,
     "grade_id": "3b",
     "locked": false,
     "schema_version": 1,
     "solution": true
    }
   },
<<<<<<< HEAD
   "outputs": [
    {
     "name": "stdout",
     "output_type": "stream",
     "text": [
      "18.0\n",
      "19.0\n",
      "24.0\n",
      "19.0\n",
      "19.0\n",
      "19.0\n",
      "18.0\n",
      "18.0\n",
      "18.0\n",
      "18.0\n",
      "18.0\n",
      "18.0\n",
      "19.0\n",
      "19.0\n",
      "19.0\n",
      "19.0\n",
      "18.0\n",
      "18.0\n",
      "18.0\n",
      "21.0\n",
      "21.0\n",
      "19.0\n",
      "18.0\n",
      "19.0\n",
      "21.0\n",
      "20.0\n",
      "19.0\n",
      "19.0\n",
      "19.0\n",
      "19.0\n",
      "19.0\n",
      "20.0\n",
      "19.0\n",
      "19.0\n",
      "19.0\n",
      "20.0\n",
      "23.0\n",
      "19.0\n",
      "26.0\n",
      "20.0\n",
      "20.0\n",
      "19.0\n",
      "22.0\n",
      "19.0\n",
      "20.0\n",
      "19.0\n",
      "28.0\n",
      "19.0\n",
      "19.0\n",
      "20.0\n",
      "19.0\n",
      "20.0\n",
      "20.0\n",
      "19.0\n",
      "20.0\n",
      "20.0\n",
      "19.0\n",
      "19.0\n",
      "20.0\n",
      "19.0\n",
      "19.0\n",
      "19.0\n",
      "20.0\n",
      "19.0\n",
      "20.0\n",
      "19.0\n",
      "20.0\n",
      "19.0\n",
      "19.0\n",
      "19.0\n",
      "19.0\n",
      "20.0\n",
      "19.0\n",
      "19.0\n",
      "19.0\n",
      "23.0\n",
      "19.0\n",
      "20.0\n",
      "19.0\n",
      "19.0\n",
      "19.0\n",
      "19.0\n",
      "19.0\n",
      "19.0\n",
      "19.0\n",
      "19.0\n",
      "20.0\n",
      "20.0\n",
      "20.0\n",
      "19.0\n",
      "19.0\n",
      "19.0\n",
      "20.0\n",
      "20.0\n",
      "19.0\n",
      "19.0\n",
      "20.0\n",
      "19.0\n",
      "25.0\n",
      "19.0\n",
      "19.0\n",
      "19.0\n",
      "20.0\n",
      "21.0\n",
      "20.0\n",
      "21.0\n",
      "20.0\n",
      "21.0\n",
      "20.0\n",
      "20.0\n",
      "21.0\n",
      "21.0\n",
      "20.0\n",
      "22.0\n",
      "20.0\n",
      "21.0\n",
      "21.0\n",
      "23.0\n",
      "20.0\n",
      "20.0\n",
      "21.0\n",
      "21.0\n",
      "20.0\n",
      "20.0\n",
      "20.0\n",
      "20.0\n",
      "21.0\n",
      "26.0\n",
      "21.0\n",
      "20.0\n",
      "24.0\n",
      "21.0\n",
      "20.0\n",
      "21.0\n",
      "21.0\n",
      "21.0\n",
      "21.0\n",
      "20.0\n",
      "23.0\n",
      "21.0\n",
      "23.0\n",
      "20.0\n",
      "20.0\n",
      "20.0\n",
      "21.0\n",
      "20.0\n",
      "20.0\n",
      "20.0\n",
      "21.0\n",
      "23.0\n",
      "20.0\n",
      "20.0\n",
      "21.0\n",
      "20.0\n",
      "20.0\n",
      "20.0\n",
      "20.0\n",
      "20.0\n",
      "21.0\n",
      "21.0\n",
      "21.0\n",
      "22.0\n",
      "20.0\n",
      "21.0\n",
      "23.0\n",
      "21.0\n",
      "20.0\n",
      "21.0\n",
      "20.0\n",
      "20.0\n",
      "21.0\n",
      "20.0\n",
      "20.0\n",
      "21.0\n",
      "20.0\n",
      "22.0\n",
      "24.0\n",
      "20.0\n",
      "32.0\n",
      "20.0\n",
      "20.0\n",
      "20.0\n",
      "21.0\n",
      "21.0\n",
      "20.0\n",
      "20.0\n",
      "20.0\n",
      "21.0\n",
      "20.0\n",
      "20.0\n",
      "20.0\n",
      "20.0\n",
      "20.0\n",
      "21.0\n",
      "20.0\n",
      "21.0\n",
      "21.0\n",
      "20.0\n",
      "20.0\n",
      "20.0\n",
      "23.0\n",
      "25.0\n",
      "21.0\n",
      "20.0\n",
      "20.0\n",
      "21.0\n",
      "20.0\n",
      "22.0\n",
      "20.0\n",
      "20.0\n",
      "22.0\n",
      "21.0\n",
      "19.0\n",
      "21.0\n",
      "21.0\n",
      "21.0\n",
      "20.0\n",
      "20.0\n",
      "20.0\n",
      "20.0\n",
      "20.0\n",
      "20.0\n",
      "20.0\n",
      "20.0\n",
      "21.0\n",
      "21.0\n",
      "20.0\n",
      "21.0\n",
      "20.0\n",
      "21.0\n",
      "21.0\n",
      "20.0\n",
      "20.0\n",
      "20.0\n",
      "26.0\n",
      "21.0\n",
      "21.0\n",
      "21.0\n",
      "20.0\n",
      "21.0\n",
      "20.0\n",
      "20.0\n",
      "21.0\n",
      "21.0\n",
      "24.0\n",
      "20.0\n",
      "20.0\n",
      "20.0\n",
      "21.0\n",
      "20.0\n",
      "21.0\n",
      "20.0\n",
      "20.0\n",
      "20.0\n",
      "21.0\n",
      "21.0\n",
      "21.0\n",
      "21.0\n",
      "21.0\n",
      "27.0\n",
      "21.0\n",
      "22.0\n",
      "22.0\n",
      "21.0\n",
      "22.0\n",
      "25.0\n",
      "22.0\n",
      "22.0\n",
      "22.0\n",
      "21.0\n",
      "21.0\n",
      "21.0\n",
      "21.0\n",
      "26.0\n",
      "21.0\n",
      "24.0\n",
      "22.0\n",
      "28.0\n",
      "23.0\n",
      "22.0\n",
      "22.0\n",
      "24.0\n",
      "27.0\n",
      "21.0\n",
      "21.0\n",
      "22.0\n",
      "21.0\n",
      "22.0\n",
      "21.0\n",
      "21.0\n",
      "21.0\n",
      "22.0\n",
      "21.0\n",
      "21.0\n",
      "21.0\n",
      "22.0\n",
      "21.0\n",
      "21.0\n",
      "21.0\n",
      "21.0\n",
      "21.0\n",
      "28.0\n",
      "21.0\n",
      "22.0\n",
      "22.0\n",
      "22.0\n",
      "21.0\n",
      "21.0\n",
      "22.0\n",
      "22.0\n",
      "22.0\n",
      "20.0\n",
      "20.0\n",
      "24.0\n",
      "21.0\n",
      "20.0\n",
      "22.0\n",
      "21.0\n",
      "23.0\n",
      "22.0\n",
      "23.0\n",
      "23.0\n",
      "22.0\n",
      "22.0\n",
      "23.0\n",
      "22.0\n",
      "22.0\n",
      "22.0\n",
      "23.0\n",
      "23.0\n",
      "22.0\n",
      "23.0\n",
      "24.0\n",
      "22.0\n",
      "23.0\n",
      "14.0\n"
     ]
    }
   ],
=======
   "outputs": [],
>>>>>>> 11b3e78921b80bc305ad989d8e28f9997b9f5480
   "source": [
    "# 3b) What is the range (max value - min value) of ages in the dataset?\n",
    "#  Save this number to a variable 'r_age'\n",
    "\n",
<<<<<<< HEAD
    "min_age = 0\n",
    "max_age = 0\n",
    "initialization = False\n",
    "for index, row in df.age.iteritems():\n",
    "    print(row)\n",
    "    #initialization min and max\n",
    "    if initialization == False:\n",
    "        min_age = max_age = row\n",
    "        initialization = True\n",
    "        \n",
    "    if row > max_age:\n",
    "            max_age = row\n",
    "    if row < min_age:\n",
    "            min_age = row\n",
    "\n",
    "r_age = max_age - min_age\n",
    "print(r_age)\n",
    "\n",
    "#raise NotImplementedError()"
=======
    "# YOUR CODE HERE\n",
    "raise NotImplementedError()"
>>>>>>> 11b3e78921b80bc305ad989d8e28f9997b9f5480
   ]
  },
  {
   "cell_type": "code",
<<<<<<< HEAD
   "execution_count": 21,
=======
   "execution_count": null,
>>>>>>> 11b3e78921b80bc305ad989d8e28f9997b9f5480
   "metadata": {
    "collapsed": true,
    "deletable": false,
    "editable": false,
    "nbgrader": {
     "checksum": "91df25cc963f0580210035efb8ebbb3c",
     "grade": true,
     "grade_id": "3b_ans",
     "locked": true,
     "points": 0.5,
     "schema_version": 1,
     "solution": false
    }
   },
   "outputs": [],
   "source": [
    "assert r_age\n"
   ]
  },
  {
   "cell_type": "code",
<<<<<<< HEAD
   "execution_count": 22,
   "metadata": {
=======
   "execution_count": null,
   "metadata": {
    "collapsed": true,
>>>>>>> 11b3e78921b80bc305ad989d8e28f9997b9f5480
    "deletable": false,
    "nbgrader": {
     "checksum": "b2d0236211a0d78e64d354f039dafc3f",
     "grade": false,
     "grade_id": "3c",
     "locked": false,
     "schema_version": 1,
     "solution": true
    }
   },
<<<<<<< HEAD
   "outputs": [
    {
     "name": "stdout",
     "output_type": "stream",
     "text": [
      "vanilla 52\n"
     ]
    }
   ],
=======
   "outputs": [],
>>>>>>> 11b3e78921b80bc305ad989d8e28f9997b9f5480
   "source": [
    "# 3c) What is the most popular ice cream flavour?\n",
    "#  Save the ice cream name to the variable 'f_ice', and the number of people who like it to a variable 'n_ice'.\n",
    "#  Hint: you can get these values using the 'value_counts' method.\n",
    "\n",
<<<<<<< HEAD
    "ice_df = df['ice_cream'].value_counts()\n",
    "f_ice = ice_df.index[0]\n",
    "n_ice = ice_df[0]\n",
    "print(f_ice, n_ice)\n",
    "\n",
    "#raise NotImplementedError()"
=======
    "# YOUR CODE HERE\n",
    "raise NotImplementedError()"
>>>>>>> 11b3e78921b80bc305ad989d8e28f9997b9f5480
   ]
  },
  {
   "cell_type": "code",
<<<<<<< HEAD
   "execution_count": 23,
=======
   "execution_count": null,
>>>>>>> 11b3e78921b80bc305ad989d8e28f9997b9f5480
   "metadata": {
    "collapsed": true,
    "deletable": false,
    "editable": false,
    "nbgrader": {
     "checksum": "6d0975817496fddb8dfc88e4c8fb60c6",
     "grade": true,
     "grade_id": "3c_ans",
     "locked": true,
     "points": 0.5,
     "schema_version": 1,
     "solution": false
    }
   },
   "outputs": [],
   "source": [
    "assert n_ice\n",
    "assert f_ice\n"
   ]
  },
  {
   "cell_type": "code",
<<<<<<< HEAD
   "execution_count": 24,
   "metadata": {
=======
   "execution_count": null,
   "metadata": {
    "collapsed": true,
>>>>>>> 11b3e78921b80bc305ad989d8e28f9997b9f5480
    "deletable": false,
    "nbgrader": {
     "checksum": "c0ac160b80c121ef905bac02f9356e55",
     "grade": false,
     "grade_id": "3d",
     "locked": false,
     "schema_version": 1,
     "solution": true
    }
   },
<<<<<<< HEAD
   "outputs": [
    {
     "name": "stdout",
     "output_type": "stream",
     "text": [
      "vanilla                 52\n",
      "cookies_cream           39\n",
      "choc_mint               37\n",
      "chocolate               24\n",
      "strawberry              19\n",
      "green_tea               18\n",
      "coffee                  15\n",
      "mint                    12\n",
      "pistachio               11\n",
      "rocky_road               8\n",
      "cookie_dough             7\n",
      "choc_chip                5\n",
      "none                     5\n",
      "salted_caramel           4\n",
      "peanut_butter            4\n",
      "rainbow_sherbet          4\n",
      "halfbaked                3\n",
      "chocchip_cookiedough     3\n",
      "all                      3\n",
      "oreo                     2\n",
      "honey_lavender           2\n",
      "mango                    2\n",
      "black_cherry             2\n",
      "earlgrey                 2\n",
      "coconut                  2\n",
      "cotton_candy             2\n",
      "lactose intolerant       2\n",
      "cookie_butter            2\n",
      "raspberry                2\n",
      "cake_batter              2\n",
      "                        ..\n",
      "rose_water               1\n",
      "banana                   1\n",
      "lucky_charms             1\n",
      "mint                     1\n",
      "gold_medal_ribbon        1\n",
      "wild_n_wreckless         1\n",
      "phishfood                1\n",
      "moose_tracks             1\n",
      "blue_moon                1\n",
      "lychee                   1\n",
      "free                     1\n",
      "daiquiri_ice             1\n",
      "dont_know                1\n",
      "black_sesame             1\n",
      "mocha_almond_fudge       1\n",
      "flower_tea               1\n",
      "chubby_hubby             1\n",
      "pineapple                1\n",
      "tiramisu                 1\n",
      "butter_pecan             1\n",
      "raisin_rum               1\n",
      "red                      1\n",
      "taro                     1\n",
      "butterscotch             1\n",
      "red_bean                 1\n",
      "coconut_pineapple        1\n",
      "sherbet                  1\n",
      "all-nochoc               1\n",
      "smores                   1\n",
      "cucumber                 1\n",
      "Name: ice_cream, Length: 67, dtype: int64\n",
      "34\n"
     ]
    }
   ],
=======
   "outputs": [],
>>>>>>> 11b3e78921b80bc305ad989d8e28f9997b9f5480
   "source": [
    "# 3d) How many people have a unique favourite ice cream? (How many ice cream flavours are only 1 persons favourite?)\n",
    "#  Save this number to a variable 'u_ice'\n",
    "\n",
<<<<<<< HEAD
    "ice_df = df['ice_cream'].value_counts() == 1\n",
    "u_ice = ice_df.sum()\n",
    "\n",
    "print(df['ice_cream'].value_counts())\n",
    "print(u_ice)\n",
    "\n",
    "\n",
    "#raise NotImplementedError()"
=======
    "# YOUR CODE HERE\n",
    "raise NotImplementedError()"
>>>>>>> 11b3e78921b80bc305ad989d8e28f9997b9f5480
   ]
  },
  {
   "cell_type": "code",
<<<<<<< HEAD
   "execution_count": 25,
   "metadata": {
    "collapsed": true,
=======
   "execution_count": null,
   "metadata": {
    "collapsed": false,
>>>>>>> 11b3e78921b80bc305ad989d8e28f9997b9f5480
    "deletable": false,
    "editable": false,
    "nbgrader": {
     "checksum": "7ae4392f8699daebcf0a716319a3c069",
     "grade": true,
     "grade_id": "3d_ans",
     "locked": true,
     "points": 0.5,
     "schema_version": 1,
     "solution": false
    }
   },
   "outputs": [],
   "source": [
    "assert u_ice\n"
   ]
  },
  {
   "cell_type": "markdown",
   "metadata": {
    "deletable": false,
    "editable": false,
    "nbgrader": {
     "checksum": "9121cbb9f7490dea9bd9fe37ea12a276",
     "grade": false,
     "grade_id": "part4",
     "locked": true,
     "schema_version": 1,
     "solution": false
    }
   },
   "source": [
    "## Part 4: Data Analysis\n",
    "\n",
    "Now let's analyze the data, to address our research question.\n",
    "\n",
    "For the purposes of this analysis, let's assume we need at least 75 students per major to analyze the height data. \n",
    "\n",
    "This means we are only going to use data from people who wrote 'cogs' or 'cs' as their major. \n",
    "\n",
    "Note that there are people who reported similar majors, such as 'math-cs' or 'cogs-dsgn'. \n",
    "\n",
    "We could consider combining some of these groups, but, for the purpose of this assignment, do NOT combine any different major labels together. This assignment assumes you use only data marked specfically as 'cogs' or 'cs'. "
   ]
  },
  {
   "cell_type": "code",
<<<<<<< HEAD
   "execution_count": 26,
   "metadata": {
=======
   "execution_count": null,
   "metadata": {
    "collapsed": false,
>>>>>>> 11b3e78921b80bc305ad989d8e28f9997b9f5480
    "deletable": false,
    "nbgrader": {
     "checksum": "397cf67dd9b829ff8cf5bf9d72541578",
     "grade": false,
     "grade_id": "4a",
     "locked": false,
     "schema_version": 1,
     "solution": true
    }
   },
<<<<<<< HEAD
   "outputs": [
    {
     "name": "stdout",
     "output_type": "stream",
     "text": [
      "1      69.0\n",
      "2      70.0\n",
      "3      64.0\n",
      "4      70.0\n",
      "10     65.0\n",
      "11     67.0\n",
      "12     74.0\n",
      "13     74.0\n",
      "14     72.0\n",
      "15     68.0\n",
      "16     63.0\n",
      "21     70.0\n",
      "23     62.0\n",
      "24     66.0\n",
      "32     64.0\n",
      "35     64.0\n",
      "36     71.0\n",
      "44     66.0\n",
      "49     65.0\n",
      "56     60.0\n",
      "84     72.0\n",
      "89     64.0\n",
      "92     68.0\n",
      "94     68.0\n",
      "95     69.0\n",
      "101    69.0\n",
      "102    72.0\n",
      "108    67.0\n",
      "110    67.0\n",
      "114    60.0\n",
      "       ... \n",
      "262    66.0\n",
      "264    63.0\n",
      "265    64.0\n",
      "266    65.0\n",
      "268    73.0\n",
      "269    69.0\n",
      "273    77.0\n",
      "280    72.0\n",
      "285    70.0\n",
      "287    66.0\n",
      "289    65.0\n",
      "299    68.0\n",
      "301    72.0\n",
      "302    72.0\n",
      "306    70.0\n",
      "307    60.0\n",
      "308    69.0\n",
      "310    70.0\n",
      "314    62.0\n",
      "326    65.0\n",
      "329    67.0\n",
      "330    66.0\n",
      "331    70.0\n",
      "332    73.0\n",
      "342    70.0\n",
      "345    70.0\n",
      "349    63.0\n",
      "355    67.0\n",
      "358    65.0\n",
      "360    68.0\n",
      "Name: height, Length: 104, dtype: float64 6      61.0\n",
      "20     68.0\n",
      "28     74.0\n",
      "39     71.0\n",
      "47     71.0\n",
      "53     71.0\n",
      "57     71.0\n",
      "58     70.0\n",
      "60     72.0\n",
      "63     63.0\n",
      "65     69.0\n",
      "68     69.0\n",
      "71     66.0\n",
      "74     72.0\n",
      "77     69.0\n",
      "80     70.0\n",
      "83     67.0\n",
      "86     72.0\n",
      "88     67.0\n",
      "93     70.0\n",
      "98     70.0\n",
      "99     72.0\n",
      "100    73.0\n",
      "103    69.0\n",
      "104    70.0\n",
      "124    65.0\n",
      "125    70.0\n",
      "130    68.0\n",
      "131    68.0\n",
      "135    70.0\n",
      "       ... \n",
      "236    71.0\n",
      "241    70.0\n",
      "246    62.0\n",
      "249    70.0\n",
      "252    74.0\n",
      "258    67.0\n",
      "259    72.0\n",
      "270    73.0\n",
      "272    66.0\n",
      "274    67.0\n",
      "277    69.0\n",
      "278    67.0\n",
      "296    69.0\n",
      "300    66.0\n",
      "304    73.0\n",
      "305    66.0\n",
      "312    68.0\n",
      "313    66.0\n",
      "318    65.0\n",
      "319    60.0\n",
      "323    69.0\n",
      "334    68.0\n",
      "338    68.0\n",
      "339    71.0\n",
      "343    62.0\n",
      "344    62.0\n",
      "351    71.0\n",
      "353    60.0\n",
      "361    62.0\n",
      "363    69.0\n",
      "Name: height, Length: 82, dtype: float64\n"
     ]
    }
   ],
=======
   "outputs": [],
>>>>>>> 11b3e78921b80bc305ad989d8e28f9997b9f5480
   "source": [
    "# 4a) Pull out the data we are going to use:\n",
    "#  Save the height data for all 'cogs' majors to a variable called 'h_co'\n",
    "#  Save the height data for all 'cs' majors to a variable called 'h_cs'\n",
    "\n",
<<<<<<< HEAD
    "cogs = df.loc[df['major'] == 'cogs']\n",
    "h_co = cogs['height']\n",
    "\n",
    "cs = df.loc[df['major'] == 'cs']\n",
    "h_cs = cs['height']\n",
    "print(h_co, h_cs)\n",
    "\n",
    "#raise NotImplementedError()"
=======
    "# YOUR CODE HERE\n",
    "raise NotImplementedError()"
>>>>>>> 11b3e78921b80bc305ad989d8e28f9997b9f5480
   ]
  },
  {
   "cell_type": "code",
<<<<<<< HEAD
   "execution_count": 27,
   "metadata": {
    "collapsed": true,
=======
   "execution_count": null,
   "metadata": {
    "collapsed": false,
>>>>>>> 11b3e78921b80bc305ad989d8e28f9997b9f5480
    "deletable": false,
    "editable": false,
    "nbgrader": {
     "checksum": "05e5e23327e4c8322910890efa5b0a59",
     "grade": true,
     "grade_id": "4a_ans",
     "locked": true,
     "points": 0.5,
     "schema_version": 1,
     "solution": false
    }
   },
   "outputs": [],
   "source": [
    "assert np.all(h_co)\n",
    "assert np.all(h_cs)\n"
   ]
  },
  {
   "cell_type": "code",
<<<<<<< HEAD
   "execution_count": 28,
   "metadata": {
=======
   "execution_count": null,
   "metadata": {
    "collapsed": false,
>>>>>>> 11b3e78921b80bc305ad989d8e28f9997b9f5480
    "deletable": false,
    "nbgrader": {
     "checksum": "48d7444cdc54c769634fa9414ce348fa",
     "grade": false,
     "grade_id": "4b",
     "locked": false,
     "schema_version": 1,
     "solution": true
    }
   },
<<<<<<< HEAD
   "outputs": [
    {
     "name": "stdout",
     "output_type": "stream",
     "text": [
      "67.4519230769 68.5\n"
     ]
    }
   ],
=======
   "outputs": [],
>>>>>>> 11b3e78921b80bc305ad989d8e28f9997b9f5480
   "source": [
    "# 4b) What is the average (mean) height for students from each major?\n",
    "#  Save these values to 'avg_h_co' for cogs students, and 'avg_h_cs' for cs students. \n",
    "\n",
<<<<<<< HEAD
    "avg_h_co = h_co.mean()\n",
    "avg_h_cs = h_cs.mean()\n",
    "\n",
    "print(avg_h_co, avg_h_cs)\n",
    "\n",
    "#raise NotImplementedError()"
=======
    "# YOUR CODE HERE\n",
    "raise NotImplementedError()"
>>>>>>> 11b3e78921b80bc305ad989d8e28f9997b9f5480
   ]
  },
  {
   "cell_type": "code",
<<<<<<< HEAD
   "execution_count": 29,
=======
   "execution_count": null,
>>>>>>> 11b3e78921b80bc305ad989d8e28f9997b9f5480
   "metadata": {
    "collapsed": true,
    "deletable": false,
    "editable": false,
    "nbgrader": {
     "checksum": "2f6d24a003d0104b9deb85befc08f643",
     "grade": true,
     "grade_id": "4b_ans",
     "locked": true,
     "points": 0.5,
     "schema_version": 1,
     "solution": false
    }
   },
   "outputs": [],
   "source": [
    "assert avg_h_co\n",
    "assert avg_h_cs\n"
   ]
  },
  {
   "cell_type": "code",
<<<<<<< HEAD
   "execution_count": 30,
   "metadata": {
=======
   "execution_count": null,
   "metadata": {
    "collapsed": false,
>>>>>>> 11b3e78921b80bc305ad989d8e28f9997b9f5480
    "deletable": false,
    "editable": false,
    "nbgrader": {
     "checksum": "c2ad6cfdd5a318afbbd523a561ed65e0",
     "grade": false,
     "grade_id": "print_avgs",
     "locked": true,
     "schema_version": 1,
     "solution": false
    }
   },
<<<<<<< HEAD
   "outputs": [
    {
     "name": "stdout",
     "output_type": "stream",
     "text": [
      "Average height of cogs majors: \t 67.4519230769\n",
      "Average height of cs majors: \t 68.5\n"
     ]
    }
   ],
=======
   "outputs": [],
>>>>>>> 11b3e78921b80bc305ad989d8e28f9997b9f5480
   "source": [
    "# Print out the average heights - this code provided\n",
    "print('Average height of cogs majors: \\t', avg_h_co)\n",
    "print('Average height of cs majors: \\t', avg_h_cs)"
   ]
  },
  {
   "cell_type": "markdown",
   "metadata": {
    "deletable": false,
    "editable": false,
    "nbgrader": {
     "checksum": "918af4fa15a268d112340ef50c404ba9",
     "grade": false,
     "grade_id": "ttest_instr",
     "locked": true,
     "schema_version": 1,
     "solution": false
    }
   },
   "source": [
    "Based on the cell above, it looks like there might indeed be a different in the average height for students in cogs vs cs majors. \n",
    "\n",
    "Now we want to statistically test this difference. To do so, we will use a t-test. "
   ]
  },
  {
   "cell_type": "code",
<<<<<<< HEAD
   "execution_count": 31,
   "metadata": {
    "collapsed": true,
=======
   "execution_count": null,
   "metadata": {
    "collapsed": false,
>>>>>>> 11b3e78921b80bc305ad989d8e28f9997b9f5480
    "deletable": false,
    "nbgrader": {
     "checksum": "c3d4f7ffabb4980f64dfdfe9e3f0b0b2",
     "grade": false,
     "grade_id": "4c",
     "locked": false,
     "schema_version": 1,
     "solution": true
    }
   },
   "outputs": [],
   "source": [
    "# 4c) Use a t-test ('ttest_ind' function) to compare the two height distributions ('h_co' vs 'h_cs')\n",
    "#  'ttest_ind' returns a t-statistic, and a p-value. Save these outputs to 't' and 'p' respectively. \n",
    "\n",
<<<<<<< HEAD
    "t,p = ttest_ind(h_co,h_cs)\n",
    "\n",
    "\n",
    "#raise NotImplementedError()"
=======
    "# YOUR CODE HERE\n",
    "raise NotImplementedError()"
>>>>>>> 11b3e78921b80bc305ad989d8e28f9997b9f5480
   ]
  },
  {
   "cell_type": "code",
<<<<<<< HEAD
   "execution_count": 32,
   "metadata": {
    "collapsed": true,
=======
   "execution_count": null,
   "metadata": {
    "collapsed": false,
>>>>>>> 11b3e78921b80bc305ad989d8e28f9997b9f5480
    "deletable": false,
    "editable": false,
    "nbgrader": {
     "checksum": "c88a63b14c43f4caffc773471a3c8bb9",
     "grade": true,
     "grade_id": "4c_ans",
     "locked": true,
     "points": 0.5,
     "schema_version": 1,
     "solution": false
    }
   },
   "outputs": [],
   "source": [
    "assert t\n",
    "assert p\n"
   ]
  },
  {
   "cell_type": "code",
<<<<<<< HEAD
   "execution_count": 33,
   "metadata": {
=======
   "execution_count": null,
   "metadata": {
    "collapsed": false,
>>>>>>> 11b3e78921b80bc305ad989d8e28f9997b9f5480
    "deletable": false,
    "editable": false,
    "nbgrader": {
     "checksum": "2f1af953413f754b7702348f7dda9180",
     "grade": false,
     "grade_id": "print_p",
     "locked": true,
     "schema_version": 1,
     "solution": false
    }
   },
<<<<<<< HEAD
   "outputs": [
    {
     "name": "stdout",
     "output_type": "stream",
     "text": [
      "Data Science accomplished, there is a significant difference!\n"
     ]
    }
   ],
=======
   "outputs": [],
>>>>>>> 11b3e78921b80bc305ad989d8e28f9997b9f5480
   "source": [
    "# Check if statistical test passes significance - this code provided.\n",
    "if p < 0.05:\n",
    "    print('Data Science accomplished, there is a significant difference!')"
   ]
  },
  {
   "cell_type": "markdown",
   "metadata": {
    "deletable": false,
    "editable": false,
    "nbgrader": {
     "checksum": "df5db60be9fafb0fd7681c2a303bd2ef",
     "grade": false,
     "grade_id": "break",
     "locked": true,
     "schema_version": 1,
     "solution": false
    }
   },
   "source": [
    "Note: this test should pass significance. If it doesn't, check your code up until this point.\n",
    "\n",
    "So - our research question has support! We're done right!?\n",
    "\n",
    "#### We have a potentially interesting result: let's try and break it.\n",
    "\n",
    "In particular, we should be worried about confounds. Correlation does not equal causation, and we should be asking whether this relationship can be better explained by some other variable. For example, we also have data on gender: let's see if differences in the gender ratio of the two majors can explain the different in height. "
   ]
  },
  {
   "cell_type": "code",
<<<<<<< HEAD
   "execution_count": 34,
   "metadata": {
=======
   "execution_count": null,
   "metadata": {
    "collapsed": false,
>>>>>>> 11b3e78921b80bc305ad989d8e28f9997b9f5480
    "deletable": false,
    "nbgrader": {
     "checksum": "dce137beef27f3d34ce776ced38e1c40",
     "grade": false,
     "grade_id": "4d",
     "locked": false,
     "schema_version": 1,
     "solution": true
    }
   },
<<<<<<< HEAD
   "outputs": [
    {
     "name": "stdout",
     "output_type": "stream",
     "text": [
      "m    62\n",
      "f    42\n",
      "Name: gender, dtype: int64 m    68\n",
      "f    14\n",
      "Name: gender, dtype: int64\n"
     ]
    }
   ],
=======
   "outputs": [],
>>>>>>> 11b3e78921b80bc305ad989d8e28f9997b9f5480
   "source": [
    "# 4d) Using 'value_counts' from pandas, extract the number of 'm' and 'f', separately for cogs and cs students. \n",
    "#  Save the counts for each gender for 'cogs' majors to a variable called 'g_co'\n",
    "#  Save the counts for each gender for 'cs' majors to a variable called 'g_cs'\n",
    "\n",
<<<<<<< HEAD
    "cogs = df.loc[df['major'] == 'cogs']\n",
    "g_co = cogs['gender'].value_counts()\n",
    "\n",
    "cs = df.loc[df['major'] == 'cs']\n",
    "g_cs = cs['gender'].value_counts()\n",
    "print(g_co, g_cs)\n",
    "\n",
    "#raise NotImplementedError()"
=======
    "# YOUR CODE HERE\n",
    "raise NotImplementedError()"
>>>>>>> 11b3e78921b80bc305ad989d8e28f9997b9f5480
   ]
  },
  {
   "cell_type": "code",
<<<<<<< HEAD
   "execution_count": 35,
   "metadata": {
    "collapsed": true,
=======
   "execution_count": null,
   "metadata": {
    "collapsed": false,
>>>>>>> 11b3e78921b80bc305ad989d8e28f9997b9f5480
    "deletable": false,
    "editable": false,
    "nbgrader": {
     "checksum": "7d6502dbe587edc3dd208f71c07a27b2",
     "grade": true,
     "grade_id": "4d_ans",
     "locked": true,
     "points": 0.5,
     "schema_version": 1,
     "solution": false
    }
   },
   "outputs": [],
   "source": [
    "assert np.all(g_co)\n",
    "assert np.all(g_cs)\n"
   ]
  },
  {
   "cell_type": "code",
<<<<<<< HEAD
   "execution_count": 46,
   "metadata": {
=======
   "execution_count": null,
   "metadata": {
    "collapsed": true,
>>>>>>> 11b3e78921b80bc305ad989d8e28f9997b9f5480
    "deletable": false,
    "nbgrader": {
     "checksum": "bd4925ce447244db60e6ac2331c27f30",
     "grade": false,
     "grade_id": "4e",
     "locked": false,
     "schema_version": 1,
     "solution": true
    }
   },
<<<<<<< HEAD
   "outputs": [
    {
     "name": "stdout",
     "output_type": "stream",
     "text": [
      "m\n",
      "f\n",
      "m\n",
      "f\n",
      "0.403846153846 0.170731707317\n"
     ]
    }
   ],
=======
   "outputs": [],
>>>>>>> 11b3e78921b80bc305ad989d8e28f9997b9f5480
   "source": [
    "# 4e) What is the ratio of women in each major? Use the 'g_co' and 'g_cs' variables to do so. \n",
    "#  Save the ratio of women in cogs to a variable 'r_co'\n",
    "#  Save the ratio of women in cs to a variable 'r_cs'\n",
    "#  Note: keep these numbers as ratios (they should be decimal numbers, less than 1)\n",
    "\n",
<<<<<<< HEAD
    "male=0\n",
    "female=0\n",
    "for i in g_co.index:\n",
    "    print(i)\n",
    "    if i == 'm':\n",
    "        male = g_co[i]\n",
    "    if i == 'f':\n",
    "        female = g_co[i]\n",
    "        \n",
    "r_co = female/(male+female)\n",
    "\n",
    "male=0\n",
    "female=0\n",
    "for i in g_cs.index:\n",
    "    print(i)\n",
    "    if i == 'm':\n",
    "        male = g_cs[i]\n",
    "    if i == 'f':\n",
    "        female = g_cs[i]\n",
    "\n",
    "r_cs = female/(male+female)\n",
    "print(r_co, r_cs)\n",
    "\n",
    "#raise NotImplementedError()"
=======
    "# YOUR CODE HERE\n",
    "raise NotImplementedError()"
>>>>>>> 11b3e78921b80bc305ad989d8e28f9997b9f5480
   ]
  },
  {
   "cell_type": "code",
<<<<<<< HEAD
   "execution_count": 47,
   "metadata": {
    "collapsed": true,
=======
   "execution_count": null,
   "metadata": {
    "collapsed": false,
>>>>>>> 11b3e78921b80bc305ad989d8e28f9997b9f5480
    "deletable": false,
    "editable": false,
    "nbgrader": {
     "checksum": "08fa378ff3c30c998bfe79c6d2ea250e",
     "grade": true,
     "grade_id": "4e_ans",
     "locked": true,
     "points": 0.5,
     "schema_version": 1,
     "solution": false
    }
   },
   "outputs": [],
   "source": [
    "assert r_co\n",
    "assert r_cs\n"
   ]
  },
  {
   "cell_type": "code",
<<<<<<< HEAD
   "execution_count": 55,
   "metadata": {
=======
   "execution_count": null,
   "metadata": {
    "collapsed": false,
>>>>>>> 11b3e78921b80bc305ad989d8e28f9997b9f5480
    "deletable": false,
    "nbgrader": {
     "checksum": "b262d0432fdcccdbcbadaf4fb16b3157",
     "grade": false,
     "grade_id": "4f",
     "locked": false,
     "schema_version": 1,
     "solution": true
    }
   },
<<<<<<< HEAD
   "outputs": [
    {
     "name": "stdout",
     "output_type": "stream",
     "text": [
      "     year major   age gender  height  weight             ice_cream       color\n",
      "1     1.0  cogs  19.0      m    69.0   141.0             choc_mint        blue\n",
      "2     1.0  cogs  24.0      m    70.0   210.0             choc_mint        blue\n",
      "3     1.0  cogs  19.0      f    64.0    63.0             choc_mint        none\n",
      "4     1.0  cogs  19.0      m    70.0   155.0             choc_mint      purple\n",
      "6     1.0    cs  18.0      f    61.0   124.0          chubby_hubby      violet\n",
      "10    1.0  cogs  18.0      f    65.0   110.0                 mango        pink\n",
      "11    1.0  cogs  18.0      f    67.0   154.0                  mint      orange\n",
      "12    1.0  cogs  19.0      m    74.0   155.0                  mint      purple\n",
      "13    1.0  cogs  19.0      m    74.0   155.0                  mint      purple\n",
      "14    1.0  cogs  19.0      m    72.0   175.0                  none      purple\n",
      "15    1.0  cogs  19.0      m    68.0   145.0         peanut_butter       green\n",
      "16    1.0  cogs  18.0      f    63.0   120.0            rocky_road      purple\n",
      "20    1.0    cs  21.0      m    68.0   150.0               vanilla       black\n",
      "21    1.0  cogs  21.0      m    70.0   156.0               vanilla       black\n",
      "23    1.0  cogs  18.0      f    62.0   100.0               vanilla   mint_blue\n",
      "24    1.0  cogs  19.0      m    66.0   155.0               vanilla   navy_blue\n",
      "28    2.0    cs  19.0      m    74.0   160.0             choc_chip        blue\n",
      "32    2.0  cogs  19.0      f    64.0   107.0             choc_mint        blue\n",
      "35    2.0  cogs  19.0      f    64.0   120.0             choc_mint        grey\n",
      "36    2.0  cogs  19.0      m    71.0   145.0             choc_mint       green\n",
      "39    2.0    cs  23.0      m    71.0   142.0  chocchip_cookiedough  neon_green\n",
      "44    2.0  cogs  20.0      f    66.0   130.0             chocolate        pink\n",
      "47    2.0    cs  22.0      m    71.0   137.0               coconut        blue\n",
      "49    2.0  cogs  19.0      f    65.0   120.0                coffee       green\n",
      "53    2.0    cs  19.0      m    71.0   175.0          cookie_dough        blue\n",
      "56    2.0  cogs  20.0      f    60.0   130.0         cookies_cream        blue\n",
      "57    2.0    cs  19.0      m    71.0   168.0         cookies_cream   evergreen\n",
      "58    2.0    cs  20.0      m    70.0   145.0         cookies_cream        grey\n",
      "60    2.0    cs  19.0      m    72.0   163.0         cookies_cream       green\n",
      "63    2.0    cs  19.0      f    63.0   106.0         cookies_cream      purple\n",
      "..    ...   ...   ...    ...     ...     ...                   ...         ...\n",
      "306   4.0  cogs  22.0      m    70.0   160.0             chocolate         red\n",
      "307   4.0  cogs  22.0      f    60.0    90.0     coconut_pineapple      yellow\n",
      "308   4.0  cogs  24.0      m    69.0   155.0                coffee         red\n",
      "310   4.0  cogs  21.0      m    70.0   160.0          cookie_dough        gold\n",
      "312   4.0    cs  22.0      m    68.0   130.0          cookie_dough         red\n",
      "313   4.0    cs  21.0      m    66.0   140.0         cookies_cream       black\n",
      "314   4.0  cogs  22.0      f    62.0   130.0         cookies_cream        blue\n",
      "318   4.0    cs  21.0      m    65.0   140.0         cookies_cream         red\n",
      "319   4.0    cs  22.0      f    60.0   105.0         cookies_cream         red\n",
      "323   4.0    cs  22.0      m    69.0   143.0             green_tea       black\n",
      "326   4.0  cogs  21.0      f    65.0   115.0        honey_lavender       white\n",
      "329   4.0  cogs  21.0      m    67.0   133.0                  mint        blue\n",
      "330   4.0  cogs  21.0      m    66.0   177.0                  mint        none\n",
      "331   4.0  cogs  28.0      f    70.0   150.0                  none      orange\n",
      "332   4.0  cogs  21.0      m    73.0   175.0             phishfood   navy_blue\n",
      "334   4.0    cs  22.0      m    68.0   135.0             pistachio        blue\n",
      "338   4.0    cs  21.0      f    68.0   160.0        salted_caramel        pink\n",
      "339   4.0    cs  22.0      m    71.0   220.0        salted_caramel      purple\n",
      "342   4.0  cogs  22.0      m    70.0   190.0               vanilla       black\n",
      "343   4.0    cs  20.0      f    62.0   110.0               vanilla        blue\n",
      "344   4.0    cs  20.0      f    62.0   110.0               vanilla        blue\n",
      "345   4.0  cogs  24.0      f    70.0   140.0               vanilla        blue\n",
      "349   4.0  cogs  21.0      f    63.0   120.0               vanilla        pink\n",
      "351   4.0    cs  23.0      m    71.0   170.0               vanilla         red\n",
      "353   5.0    cs  23.0      f    60.0   110.0             chocolate        pink\n",
      "355   5.0  cogs  22.0      m    67.0   145.0         cookies_cream       green\n",
      "358   5.0  cogs  22.0      f    65.0   164.0       rainbow_sherbet      purple\n",
      "360   5.0  cogs  22.0      m    68.0   130.0            strawberry    lavender\n",
      "361   5.0    cs  23.0      f    62.0   108.0            strawberry         red\n",
      "363   5.0    cs  22.0      m    69.0   172.0               vanilla        blue\n",
      "\n",
      "[186 rows x 8 columns]\n"
     ]
    }
   ],
   "source": [
    "# 4f) Create a new dataframe, called 'df2', which only includes data from 'cogs' and 'cs' majors.\n",
    "#  Hint: you can do this using the or operate '|', with loc. \n",
    "df2 = df.loc[(df['major'] == 'cogs')|(df['major'] == 'cs')]\n",
    "\n",
    "print(df2)\n",
    "\n",
    "#raise NotImplementedError()"
=======
   "outputs": [],
   "source": [
    "# 4f) Create a new dataframe, called 'df2', which only includes data from 'cogs' and 'cs' majors.\n",
    "#  Hint: you can do this using the or operate '|', with loc. \n",
    "\n",
    "# YOUR CODE HERE\n",
    "raise NotImplementedError()"
>>>>>>> 11b3e78921b80bc305ad989d8e28f9997b9f5480
   ]
  },
  {
   "cell_type": "code",
<<<<<<< HEAD
   "execution_count": 56,
   "metadata": {
    "collapsed": true,
=======
   "execution_count": null,
   "metadata": {
    "collapsed": false,
>>>>>>> 11b3e78921b80bc305ad989d8e28f9997b9f5480
    "deletable": false,
    "editable": false,
    "nbgrader": {
     "checksum": "50637d03d8c7595f80d0cba764fa6597",
     "grade": true,
     "grade_id": "4f_ans",
     "locked": true,
     "points": 0.5,
     "schema_version": 1,
     "solution": false
    }
   },
   "outputs": [],
   "source": [
    "assert isinstance(df2, pd.DataFrame)\n",
    "assert df2.shape == (186, 8)\n",
    "assert df2.isnull().sum().sum() == 0\n"
   ]
  },
  {
   "cell_type": "code",
<<<<<<< HEAD
   "execution_count": 59,
   "metadata": {
=======
   "execution_count": null,
   "metadata": {
    "collapsed": false,
>>>>>>> 11b3e78921b80bc305ad989d8e28f9997b9f5480
    "deletable": false,
    "nbgrader": {
     "checksum": "97d8db4747024da6586d0297be54fd5e",
     "grade": false,
     "grade_id": "4g",
     "locked": false,
     "schema_version": 1,
     "solution": true
    }
   },
<<<<<<< HEAD
   "outputs": [
    {
     "name": "stdout",
     "output_type": "stream",
     "text": [
      "                 height\n",
      "gender major           \n",
      "f      cogs   64.571429\n",
      "       cs     64.285714\n",
      "m      cogs   69.403226\n",
      "       cs     69.367647\n"
     ]
    }
   ],
=======
   "outputs": [],
>>>>>>> 11b3e78921b80bc305ad989d8e28f9997b9f5480
   "source": [
    "# 4g) Another way to look at these kinds of comparisons is pivot tables. \n",
    "#  Use the pandas 'pivot_table' method to create pivot table, assign it to a variable 'pv'\n",
    "#  Set the values as'height', and the indices as 'gender' and 'major' in the pivot table.\n",
    "#  Make sure you do this using 'df2'. \n",
<<<<<<< HEAD
    "pv = pd.pivot_table(df2, values='height',index=['gender', 'major'])\n",
    "print(pv)\n",
    "\n",
    "#raise NotImplementedError()"
=======
    "\n",
    "# YOUR CODE HERE\n",
    "raise NotImplementedError()"
>>>>>>> 11b3e78921b80bc305ad989d8e28f9997b9f5480
   ]
  },
  {
   "cell_type": "code",
<<<<<<< HEAD
   "execution_count": 60,
   "metadata": {
    "collapsed": true,
=======
   "execution_count": null,
   "metadata": {
    "collapsed": false,
>>>>>>> 11b3e78921b80bc305ad989d8e28f9997b9f5480
    "deletable": false,
    "editable": false,
    "nbgrader": {
     "checksum": "b8b6d0e3fb61030fa119c70439750d4f",
     "grade": true,
     "grade_id": "4g_ans",
     "locked": true,
     "points": 0.5,
     "schema_version": 1,
     "solution": false
    }
   },
   "outputs": [],
   "source": [
    "assert np.all(pv)\n"
   ]
  },
  {
   "cell_type": "code",
<<<<<<< HEAD
   "execution_count": 61,
   "metadata": {
=======
   "execution_count": null,
   "metadata": {
    "collapsed": false,
>>>>>>> 11b3e78921b80bc305ad989d8e28f9997b9f5480
    "deletable": false,
    "editable": false,
    "nbgrader": {
     "checksum": "b04f2e70815689da3af7b89cb448f92e",
     "grade": false,
     "grade_id": "print_pv",
     "locked": true,
     "schema_version": 1,
     "solution": false
    }
   },
<<<<<<< HEAD
   "outputs": [
    {
     "data": {
      "text/html": [
       "<div>\n",
       "<style>\n",
       "    .dataframe thead tr:only-child th {\n",
       "        text-align: right;\n",
       "    }\n",
       "\n",
       "    .dataframe thead th {\n",
       "        text-align: left;\n",
       "    }\n",
       "\n",
       "    .dataframe tbody tr th {\n",
       "        vertical-align: top;\n",
       "    }\n",
       "</style>\n",
       "<table border=\"1\" class=\"dataframe\">\n",
       "  <thead>\n",
       "    <tr style=\"text-align: right;\">\n",
       "      <th></th>\n",
       "      <th></th>\n",
       "      <th>height</th>\n",
       "    </tr>\n",
       "    <tr>\n",
       "      <th>gender</th>\n",
       "      <th>major</th>\n",
       "      <th></th>\n",
       "    </tr>\n",
       "  </thead>\n",
       "  <tbody>\n",
       "    <tr>\n",
       "      <th rowspan=\"2\" valign=\"top\">f</th>\n",
       "      <th>cogs</th>\n",
       "      <td>64.571429</td>\n",
       "    </tr>\n",
       "    <tr>\n",
       "      <th>cs</th>\n",
       "      <td>64.285714</td>\n",
       "    </tr>\n",
       "    <tr>\n",
       "      <th rowspan=\"2\" valign=\"top\">m</th>\n",
       "      <th>cogs</th>\n",
       "      <td>69.403226</td>\n",
       "    </tr>\n",
       "    <tr>\n",
       "      <th>cs</th>\n",
       "      <td>69.367647</td>\n",
       "    </tr>\n",
       "  </tbody>\n",
       "</table>\n",
       "</div>"
      ],
      "text/plain": [
       "                 height\n",
       "gender major           \n",
       "f      cogs   64.571429\n",
       "       cs     64.285714\n",
       "m      cogs   69.403226\n",
       "       cs     69.367647"
      ]
     },
     "execution_count": 61,
     "metadata": {},
     "output_type": "execute_result"
    }
   ],
=======
   "outputs": [],
>>>>>>> 11b3e78921b80bc305ad989d8e28f9997b9f5480
   "source": [
    "# Print out the pivot table you just created. \n",
    "#  Compare the average height values, split up by major and gender.\n",
    "#  Does it look like there are differences in heights by major, when spit up by major?\n",
    "pv"
   ]
  },
  {
   "cell_type": "markdown",
   "metadata": {
    "deletable": false,
    "editable": false,
    "nbgrader": {
     "checksum": "c47cecba213375225fdfc3cb4c13dea9",
     "grade": false,
     "grade_id": "lm_instr",
     "locked": true,
     "schema_version": 1,
     "solution": false
    }
   },
   "source": [
    "For the following question you will need to make some linear models, using Ordinary Least Squares (OLS).\n",
    "\n",
    "There is more than one way to do this in Python. For the purposes of this assignment, you must use the method that is outlined in SectionMaterials 'LinearModels'. \n",
    "\n",
    "That is: \n",
    "- Create design matrices with 'patsy.dmatrices'\n",
    "- Iniliaize an OLS model with 'sm.OLS'\n",
    "- Fit the OLS model\n",
    "- Check the summary for results. "
   ]
  },
  {
   "cell_type": "code",
<<<<<<< HEAD
   "execution_count": 71,
   "metadata": {
    "collapsed": true,
=======
   "execution_count": null,
   "metadata": {
    "collapsed": false,
>>>>>>> 11b3e78921b80bc305ad989d8e28f9997b9f5480
    "deletable": false,
    "nbgrader": {
     "checksum": "9ef88f4ff20f6d181756eb35edbeb470",
     "grade": false,
     "grade_id": "4h",
     "locked": false,
     "schema_version": 1,
     "solution": true
    }
   },
   "outputs": [],
   "source": [
    "# 4h) Create a linear model to predict height from major (using df2 as data).\n",
    "#  Use patsy.dmatrices to create the design matrices, calling the outputs 'outcome_1', 'predictors_1'\n",
    "#  Create an OLS model (sm.OLS) using 'outcome_1' and 'predictors_1'. Call it 'mod_1'.\n",
    "#  Fit the model, assigning it to 'res_1'\n",
    "\n",
<<<<<<< HEAD
    "\n",
    "outcome_1, predictors_1 = patsy.dmatrices('height~major', df2)\n",
    "\n",
    "# Use statsmodels to intialize the OLS model\n",
    "mod_1 = sm.OLS(outcome_1, predictors_1)\n",
    "\n",
    "# Fit the model\n",
    "res_1 = mod.fit()\n",
    "\n",
    "#raise NotImplementedError()"
=======
    "# YOUR CODE HERE\n",
    "raise NotImplementedError()"
>>>>>>> 11b3e78921b80bc305ad989d8e28f9997b9f5480
   ]
  },
  {
   "cell_type": "code",
<<<<<<< HEAD
   "execution_count": 72,
   "metadata": {
    "collapsed": true,
=======
   "execution_count": null,
   "metadata": {
    "collapsed": false,
>>>>>>> 11b3e78921b80bc305ad989d8e28f9997b9f5480
    "deletable": false,
    "editable": false,
    "nbgrader": {
     "checksum": "3544ec379647264dc40bcd7b14142101",
     "grade": true,
     "grade_id": "4h_ans",
     "locked": true,
     "points": 0.75,
     "schema_version": 1,
     "solution": false
    }
   },
   "outputs": [],
   "source": [
    "assert isinstance(outcome_1, patsy.design_info.DesignMatrix)\n",
    "assert isinstance(predictors_1, patsy.design_info.DesignMatrix)\n",
    "assert isinstance(mod_1, sm.regression.linear_model.OLS)\n",
    "assert isinstance(res_1, sm.regression.linear_model.RegressionResultsWrapper)\n"
   ]
  },
  {
   "cell_type": "code",
<<<<<<< HEAD
   "execution_count": 73,
   "metadata": {
=======
   "execution_count": null,
   "metadata": {
    "collapsed": false,
>>>>>>> 11b3e78921b80bc305ad989d8e28f9997b9f5480
    "deletable": false,
    "editable": false,
    "nbgrader": {
     "checksum": "60838c1d7fea9c0f6b34cee79d2af426",
     "grade": false,
     "grade_id": "print_lm1",
     "locked": true,
     "schema_version": 1,
     "solution": false
    }
   },
<<<<<<< HEAD
   "outputs": [
    {
     "name": "stdout",
     "output_type": "stream",
     "text": [
      "                            OLS Regression Results                            \n",
      "==============================================================================\n",
      "Dep. Variable:                 height   R-squared:                       0.023\n",
      "Model:                            OLS   Adj. R-squared:                  0.017\n",
      "Method:                 Least Squares   F-statistic:                     4.286\n",
      "Date:                Wed, 24 May 2017   Prob (F-statistic):             0.0398\n",
      "Time:                        18:40:08   Log-Likelihood:                -492.07\n",
      "No. Observations:                 186   AIC:                             988.1\n",
      "Df Residuals:                     184   BIC:                             994.6\n",
      "Df Model:                           1                                         \n",
      "Covariance Type:            nonrobust                                         \n",
      "===============================================================================\n",
      "                  coef    std err          t      P>|t|      [0.025      0.975]\n",
      "-------------------------------------------------------------------------------\n",
      "Intercept      67.4519      0.336    200.662      0.000      66.789      68.115\n",
      "major[T.cs]     1.0481      0.506      2.070      0.040       0.049       2.047\n",
      "==============================================================================\n",
      "Omnibus:                        2.724   Durbin-Watson:                   2.086\n",
      "Prob(Omnibus):                  0.256   Jarque-Bera (JB):                2.782\n",
      "Skew:                          -0.272   Prob(JB):                        0.249\n",
      "Kurtosis:                       2.747   Cond. No.                         2.50\n",
      "==============================================================================\n",
      "\n",
      "Warnings:\n",
      "[1] Standard Errors assume that the covariance matrix of the errors is correctly specified.\n"
     ]
    }
   ],
=======
   "outputs": [],
>>>>>>> 11b3e78921b80bc305ad989d8e28f9997b9f5480
   "source": [
    "# Print out the summary results of the model fitting\n",
    "print(res_1.summary())"
   ]
  },
  {
   "cell_type": "code",
<<<<<<< HEAD
   "execution_count": 111,
   "metadata": {
=======
   "execution_count": null,
   "metadata": {
    "collapsed": true,
>>>>>>> 11b3e78921b80bc305ad989d8e28f9997b9f5480
    "deletable": false,
    "nbgrader": {
     "checksum": "6f1cbca22d4392a6b75caa0f8d29746f",
     "grade": false,
     "grade_id": "4i",
     "locked": false,
     "schema_version": 1,
     "solution": true
    }
   },
<<<<<<< HEAD
   "outputs": [
    {
     "name": "stdout",
     "output_type": "stream",
     "text": [
      "True\n"
     ]
    }
   ],
=======
   "outputs": [],
>>>>>>> 11b3e78921b80bc305ad989d8e28f9997b9f5480
   "source": [
    "# 4i) Based on the model you ran above (using alpha value of 0.05), does major significantly predict height?\n",
    "#  Set your answer as a boolean (True / False) to a variable called 'lm_1'.\n",
    "\n",
<<<<<<< HEAD
    "lm_1 = False\n",
    "\n",
    "if res_1.pvalues[1] < 0.05:\n",
    "        lm_1 = True\n",
    "\n",
    "print(lm_1)\n",
    "#raise NotImplementedError()"
=======
    "# YOUR CODE HERE\n",
    "raise NotImplementedError()"
>>>>>>> 11b3e78921b80bc305ad989d8e28f9997b9f5480
   ]
  },
  {
   "cell_type": "code",
<<<<<<< HEAD
   "execution_count": 93,
=======
   "execution_count": null,
>>>>>>> 11b3e78921b80bc305ad989d8e28f9997b9f5480
   "metadata": {
    "collapsed": true,
    "deletable": false,
    "editable": false,
    "nbgrader": {
     "checksum": "b7346a220050f8ad7eea4a57ed004ee0",
     "grade": true,
     "grade_id": "4i_ans",
     "locked": true,
     "points": 0.5,
     "schema_version": 1,
     "solution": false
    }
   },
   "outputs": [],
   "source": [
    "assert isinstance(lm_1, bool)\n"
   ]
  },
  {
   "cell_type": "code",
<<<<<<< HEAD
   "execution_count": 96,
   "metadata": {
    "collapsed": true,
=======
   "execution_count": null,
   "metadata": {
    "collapsed": false,
>>>>>>> 11b3e78921b80bc305ad989d8e28f9997b9f5480
    "deletable": false,
    "nbgrader": {
     "checksum": "23e03b5071678b303687c78d6bd0f3a9",
     "grade": false,
     "grade_id": "4j",
     "locked": false,
     "schema_version": 1,
     "solution": true
    }
   },
   "outputs": [],
   "source": [
    "# 4j) Create a linear model to predict height from both major and gender (using df2 as data).\n",
    "#  Use patsy.dmatrices to create the design matrices, calling the outputs 'outcome_2', 'predictors_2'\n",
    "#  Create an OLS model (sm.OLS) using 'outcome_2' and 'predictors_2'.  Call it 'mod_2'.\n",
    "#  Fit the model, assigning it to 'res_2'\n",
    "\n",
<<<<<<< HEAD
    "outcome_2, predictors_2 = patsy.dmatrices('height~major + gender', df2)\n",
    "\n",
    "# Use statsmodels to intialize the OLS model\n",
    "mod_2 = sm.OLS(outcome_2, predictors_2)\n",
    "\n",
    "# Fit the model\n",
    "res_2 = mod_2.fit()\n",
    "\n",
    "\n",
    "#raise NotImplementedError()"
=======
    "# YOUR CODE HERE\n",
    "raise NotImplementedError()"
>>>>>>> 11b3e78921b80bc305ad989d8e28f9997b9f5480
   ]
  },
  {
   "cell_type": "code",
<<<<<<< HEAD
   "execution_count": 97,
   "metadata": {
    "collapsed": true,
=======
   "execution_count": null,
   "metadata": {
    "collapsed": false,
>>>>>>> 11b3e78921b80bc305ad989d8e28f9997b9f5480
    "deletable": false,
    "editable": false,
    "nbgrader": {
     "checksum": "bfc573d0deaaa618f449f5b9f4d240e4",
     "grade": true,
     "grade_id": "4j_ans",
     "locked": true,
     "points": 0.75,
     "schema_version": 1,
     "solution": false
    }
   },
   "outputs": [],
   "source": [
    "assert isinstance(outcome_2, patsy.design_info.DesignMatrix)\n",
    "assert isinstance(predictors_2, patsy.design_info.DesignMatrix)\n",
    "assert isinstance(mod_2, sm.regression.linear_model.OLS)\n",
    "assert isinstance(res_2, sm.regression.linear_model.RegressionResultsWrapper)\n"
   ]
  },
  {
   "cell_type": "code",
<<<<<<< HEAD
   "execution_count": 98,
   "metadata": {
=======
   "execution_count": null,
   "metadata": {
    "collapsed": false,
>>>>>>> 11b3e78921b80bc305ad989d8e28f9997b9f5480
    "deletable": false,
    "editable": false,
    "nbgrader": {
     "checksum": "5f50ad244b3bd379017fda0dcb36e7ba",
     "grade": false,
     "grade_id": "print_lm2",
     "locked": true,
     "schema_version": 1,
     "solution": false
    }
   },
<<<<<<< HEAD
   "outputs": [
    {
     "name": "stdout",
     "output_type": "stream",
     "text": [
      "                            OLS Regression Results                            \n",
      "==============================================================================\n",
      "Dep. Variable:                 height   R-squared:                       0.422\n",
      "Model:                            OLS   Adj. R-squared:                  0.416\n",
      "Method:                 Least Squares   F-statistic:                     66.87\n",
      "Date:                Wed, 24 May 2017   Prob (F-statistic):           1.58e-22\n",
      "Time:                        19:18:52   Log-Likelihood:                -443.19\n",
      "No. Observations:                 186   AIC:                             892.4\n",
      "Df Residuals:                     183   BIC:                             902.1\n",
      "Df Model:                           2                                         \n",
      "Covariance Type:            nonrobust                                         \n",
      "===============================================================================\n",
      "                  coef    std err          t      P>|t|      [0.025      0.975]\n",
      "-------------------------------------------------------------------------------\n",
      "Intercept      64.5242      0.367    175.669      0.000      63.799      65.249\n",
      "major[T.cs]    -0.0968      0.403     -0.240      0.811      -0.893       0.699\n",
      "gender[T.m]     4.9110      0.437     11.249      0.000       4.050       5.772\n",
      "==============================================================================\n",
      "Omnibus:                        2.073   Durbin-Watson:                   2.085\n",
      "Prob(Omnibus):                  0.355   Jarque-Bera (JB):                2.145\n",
      "Skew:                           0.240   Prob(JB):                        0.342\n",
      "Kurtosis:                       2.784   Cond. No.                         3.67\n",
      "==============================================================================\n",
      "\n",
      "Warnings:\n",
      "[1] Standard Errors assume that the covariance matrix of the errors is correctly specified.\n"
     ]
    }
   ],
=======
   "outputs": [],
>>>>>>> 11b3e78921b80bc305ad989d8e28f9997b9f5480
   "source": [
    "# Print out the results \n",
    "print(res_2.summary())"
   ]
  },
  {
   "cell_type": "code",
<<<<<<< HEAD
   "execution_count": 112,
   "metadata": {
=======
   "execution_count": null,
   "metadata": {
    "collapsed": true,
>>>>>>> 11b3e78921b80bc305ad989d8e28f9997b9f5480
    "deletable": false,
    "nbgrader": {
     "checksum": "a10c745bb1e1da5951dad61c3f5c5704",
     "grade": false,
     "grade_id": "4k",
     "locked": false,
     "schema_version": 1,
     "solution": true
    }
   },
<<<<<<< HEAD
   "outputs": [
    {
     "name": "stdout",
     "output_type": "stream",
     "text": [
      "False\n"
     ]
    }
   ],
=======
   "outputs": [],
>>>>>>> 11b3e78921b80bc305ad989d8e28f9997b9f5480
   "source": [
    "# 4k) Based on the model you ran above (using alpha value of 0.05), does major significantly predict height?\n",
    "#  Set your answer as a boolean (True / False) to a variable called 'lm_2'\n",
    "\n",
<<<<<<< HEAD
    "lm_2 = False\n",
    "\n",
    "if res_2.pvalues[1] < 0.05:\n",
    "        lm_2 = True\n",
    "\n",
    "print(lm_2)\n",
    "\n",
    "#raise NotImplementedError()"
=======
    "# YOUR CODE HERE\n",
    "raise NotImplementedError()"
>>>>>>> 11b3e78921b80bc305ad989d8e28f9997b9f5480
   ]
  },
  {
   "cell_type": "code",
<<<<<<< HEAD
   "execution_count": 113,
   "metadata": {
    "collapsed": true,
=======
   "execution_count": null,
   "metadata": {
    "collapsed": false,
>>>>>>> 11b3e78921b80bc305ad989d8e28f9997b9f5480
    "deletable": false,
    "editable": false,
    "nbgrader": {
     "checksum": "c54d9743bed32adaa8bc7e572a035c92",
     "grade": true,
     "grade_id": "4k_ans",
     "locked": true,
     "points": 0.5,
     "schema_version": 1,
     "solution": false
    }
   },
   "outputs": [],
   "source": [
    "assert isinstance(lm_2, bool)\n"
   ]
  },
  {
   "cell_type": "markdown",
   "metadata": {
    "deletable": false,
    "editable": false,
    "nbgrader": {
     "checksum": "6a2725893d88a14cb07a659b839aaec8",
     "grade": false,
     "grade_id": "part5",
     "locked": true,
     "schema_version": 1,
     "solution": false
    }
   },
   "source": [
    "## Part 5: Discussion & Conclusions"
   ]
  },
  {
   "cell_type": "code",
<<<<<<< HEAD
   "execution_count": 114,
=======
   "execution_count": null,
>>>>>>> 11b3e78921b80bc305ad989d8e28f9997b9f5480
   "metadata": {
    "collapsed": true,
    "deletable": false,
    "nbgrader": {
     "checksum": "ed317104ec95c75dc52d7fb5788b3e67",
     "grade": false,
     "grade_id": "5a",
     "locked": false,
     "schema_version": 1,
     "solution": true
    }
   },
   "outputs": [],
   "source": [
    "# 5a) Set a boolean variables, called 'ans', as True or False as the answer to the following question:\n",
    "#  We have evidence supporting our research question:\n",
    "#    People in different majors have systematically different heights. \n",
    "\n",
<<<<<<< HEAD
    "ans = False \n",
    "\n",
    "#raise NotImplementedError()"
=======
    "# YOUR CODE HERE\n",
    "raise NotImplementedError()"
>>>>>>> 11b3e78921b80bc305ad989d8e28f9997b9f5480
   ]
  },
  {
   "cell_type": "code",
<<<<<<< HEAD
   "execution_count": 115,
=======
   "execution_count": null,
>>>>>>> 11b3e78921b80bc305ad989d8e28f9997b9f5480
   "metadata": {
    "collapsed": true,
    "deletable": false,
    "editable": false,
    "nbgrader": {
     "checksum": "657b13f33f5b94c830917548601dbb3d",
     "grade": true,
     "grade_id": "5a_ans",
     "locked": true,
     "points": 1,
     "schema_version": 1,
     "solution": false
    }
   },
   "outputs": [],
   "source": [
    "assert isinstance(ans, bool)\n"
   ]
  },
  {
   "cell_type": "code",
<<<<<<< HEAD
   "execution_count": 116,
=======
   "execution_count": null,
>>>>>>> 11b3e78921b80bc305ad989d8e28f9997b9f5480
   "metadata": {
    "collapsed": true
   },
   "outputs": [],
   "source": [
    "# 5b) Write a short response (1 sentence) summarizing the results.\n",
    "#  Did we support our hypothesis? Why or why not?\n",
<<<<<<< HEAD
    "#  Not really beacuse there are more girls in COGS than in CS and in average girls are smaller than men that's why the second prediction taking gender into account was not relevant\n"
=======
    "\n",
    "# YOUR ANSWER HERE"
>>>>>>> 11b3e78921b80bc305ad989d8e28f9997b9f5480
   ]
  },
  {
   "cell_type": "markdown",
   "metadata": {
    "deletable": false,
    "editable": false,
    "nbgrader": {
     "checksum": "16353140f5dd20c3f50d9e28a2020ddc",
     "grade": false,
     "grade_id": "other_parts",
     "locked": true,
     "schema_version": 1,
     "solution": false
    }
   },
   "source": [
    "## Parts 6-8: Other Stuff\n",
    "\n",
    "This part of the assignment breaks from the project narrative we've using above. \n",
    "\n",
    "In the following questions, we will briefly explore some other topics, approaches and techniques that have (or will) be addressed in the class, and may be useful for you projects. These are 'toy' examples of these methods, used to get you working with these methods. \n",
    "\n",
    "Watch the class lectures for an overview of how these methods actually work, and go through the SectionMaterials notebooks (linked below) to see examples and guides as to how to use these methods in Python."
   ]
  },
  {
   "cell_type": "code",
<<<<<<< HEAD
   "execution_count": 117,
   "metadata": {
    "collapsed": true,
=======
   "execution_count": null,
   "metadata": {
    "collapsed": false,
>>>>>>> 11b3e78921b80bc305ad989d8e28f9997b9f5480
    "deletable": false,
    "editable": false,
    "nbgrader": {
     "checksum": "610f5eac0686ec5e2111892e2ae664f5",
     "grade": false,
     "grade_id": "imports_2",
     "locked": true,
     "schema_version": 1,
     "solution": false
    }
   },
   "outputs": [],
   "source": [
    "# You will need the following functions for the last section of the assignment\n",
    "#  You should not import any other functions\n",
    "import scipy.stats as stats\n",
    "from scipy.stats import normaltest\n",
    "from sklearn.cluster import KMeans\n",
    "from scipy.cluster.vq import whiten\n",
    "from sklearn.decomposition import PCA"
   ]
  },
  {
   "cell_type": "markdown",
   "metadata": {
    "deletable": false,
    "editable": false,
    "nbgrader": {
     "checksum": "c13d436f535f1886e255d9522dbb2f35",
     "grade": false,
     "grade_id": "part6",
     "locked": true,
     "schema_version": 1,
     "solution": false
    }
   },
   "source": [
    "### Part 6: Testing Distributions\n",
    "\n",
    "Above, we used a t-test, which assumes normal distributions. \n",
    "\n",
    "However, we did not check if our data are indeed normally distributed! When using methods / statistical tests that make certain assumptions, it's always best to explicitly check if your data meet those assumptions (otherwise the results may be invalid). Let's test if our data are in fact normally distributed.  \n",
    "\n",
    "See an example of how to test the disributions of data in the 'TestingDistributions' notebook in SectionMaterials. "
   ]
  },
  {
   "cell_type": "code",
<<<<<<< HEAD
   "execution_count": 118,
=======
   "execution_count": null,
>>>>>>> 11b3e78921b80bc305ad989d8e28f9997b9f5480
   "metadata": {
    "collapsed": true,
    "deletable": false,
    "editable": false,
    "nbgrader": {
     "checksum": "20261d1e42565c594740d2b2e9a2aa77",
     "grade": false,
     "grade_id": "6_load",
     "locked": true,
     "schema_version": 1,
     "solution": false
    }
   },
   "outputs": [],
   "source": [
    "# For convenience, and consistency, we're providing this code to pull out the required data\n",
    "h_co = df[df['major'] == 'cogs']['height'].values\n",
    "h_cs = df[df['major'] == 'cs']['height'].values"
   ]
  },
  {
   "cell_type": "code",
<<<<<<< HEAD
   "execution_count": 121,
   "metadata": {
=======
   "execution_count": null,
   "metadata": {
    "collapsed": false,
>>>>>>> 11b3e78921b80bc305ad989d8e28f9997b9f5480
    "deletable": false,
    "nbgrader": {
     "checksum": "74e6c8cf6cec925e866b543784cc8e8c",
     "grade": false,
     "grade_id": "6a",
     "locked": false,
     "schema_version": 1,
     "solution": true
    }
   },
<<<<<<< HEAD
   "outputs": [
    {
     "name": "stdout",
     "output_type": "stream",
     "text": [
      "3.33466662937 0.188749731252\n",
      "11.5935889147 0.00303727527264\n"
     ]
    }
   ],
=======
   "outputs": [],
>>>>>>> 11b3e78921b80bc305ad989d8e28f9997b9f5480
   "source": [
    "# 6a) For each of 'h_co', and 'h_cs', use the 'normaltest' function to test for normality of the distribution.\n",
    "#  'normaltest' returns two values, a test statistic and a p-value\n",
    "#    Save these values as 'st_co', 'p_co', 'st_cs', and 'p_cs' respectively.\n",
    "\n",
<<<<<<< HEAD
    "st_co, p_co = normaltest(h_co)\n",
    "st_cs, p_cs = normaltest(h_cs)\n",
    "print(st_co, p_co)\n",
    "print(st_cs, p_cs)\n",
    "#raise NotImplementedError()"
=======
    "# YOUR CODE HERE\n",
    "raise NotImplementedError()"
>>>>>>> 11b3e78921b80bc305ad989d8e28f9997b9f5480
   ]
  },
  {
   "cell_type": "code",
<<<<<<< HEAD
   "execution_count": 122,
   "metadata": {
    "collapsed": true,
=======
   "execution_count": null,
   "metadata": {
    "collapsed": false,
>>>>>>> 11b3e78921b80bc305ad989d8e28f9997b9f5480
    "deletable": false,
    "editable": false,
    "nbgrader": {
     "checksum": "85020b3063939541e7e51f167aba9caa",
     "grade": true,
     "grade_id": "6a_ans",
     "locked": true,
     "points": 0.5,
     "schema_version": 1,
     "solution": false
    }
   },
   "outputs": [],
   "source": [
    "assert st_co\n",
    "assert p_co\n",
    "assert st_cs\n",
    "assert p_cs\n"
   ]
  },
  {
   "cell_type": "markdown",
   "metadata": {
    "deletable": false,
    "editable": false,
    "nbgrader": {
     "checksum": "250eb1b35e69f94a5bf83255d2d7a476",
     "grade": false,
     "grade_id": "6_check",
     "locked": true,
     "schema_version": 1,
     "solution": false
    }
   },
   "source": [
    "Have a look at the values returned. \n",
    "\n",
    "Based on these results (and using an alpha significance value of 0.5):\n",
    "\n",
    "Set boolean values (True, False) of whether each distribution can be considered to be normally distributed (set as True if the test supports it is normally distributed (or, more formally, we have not rejected the null hypothesis), and False if the test suggests the data is not normally distributed (we should reject the null hypothesis)."
   ]
  },
  {
   "cell_type": "code",
<<<<<<< HEAD
   "execution_count": 127,
   "metadata": {
=======
   "execution_count": null,
   "metadata": {
    "collapsed": true,
>>>>>>> 11b3e78921b80bc305ad989d8e28f9997b9f5480
    "deletable": false,
    "nbgrader": {
     "checksum": "89bb090ad3867279c377efaa0394ab74",
     "grade": false,
     "grade_id": "6b",
     "locked": false,
     "schema_version": 1,
     "solution": true
    }
   },
<<<<<<< HEAD
   "outputs": [
    {
     "name": "stdout",
     "output_type": "stream",
     "text": [
      "True False\n"
     ]
    }
   ],
=======
   "outputs": [],
>>>>>>> 11b3e78921b80bc305ad989d8e28f9997b9f5480
   "source": [
    "# 6b) Set boolean values, as specified above.\n",
    "#  For the 'h_co' data, set a boolean value to the var 'is_n_co'\n",
    "#  For the 'h_cs' data, set a boolean value to the var 'is_n_cs'\n",
    "\n",
<<<<<<< HEAD
    "is_n_co = False\n",
    "is_n_cs = False\n",
    "\n",
    "if p_co > 0.05:\n",
    "        is_n_co = True\n",
    "if p_cs > 0.05:\n",
    "        is_n_cs = True\n",
    "\n",
    "print(is_n_co, is_n_cs)\n",
    "\n",
    "\n",
    "#raise NotImplementedError()"
=======
    "# YOUR CODE HERE\n",
    "raise NotImplementedError()"
>>>>>>> 11b3e78921b80bc305ad989d8e28f9997b9f5480
   ]
  },
  {
   "cell_type": "code",
<<<<<<< HEAD
   "execution_count": 128,
=======
   "execution_count": null,
>>>>>>> 11b3e78921b80bc305ad989d8e28f9997b9f5480
   "metadata": {
    "collapsed": true,
    "deletable": false,
    "editable": false,
    "nbgrader": {
     "checksum": "85b00e0db6e752aaf07f5ec96abf7293",
     "grade": true,
     "grade_id": "6b_ans",
     "locked": true,
     "points": 0.5,
     "schema_version": 1,
     "solution": false
    }
   },
   "outputs": [],
   "source": [
    "assert isinstance(is_n_co, bool)\n",
    "assert isinstance(is_n_cs, bool)\n"
   ]
  },
  {
   "cell_type": "code",
<<<<<<< HEAD
   "execution_count": 129,
   "metadata": {
=======
   "execution_count": null,
   "metadata": {
    "collapsed": false,
>>>>>>> 11b3e78921b80bc305ad989d8e28f9997b9f5480
    "deletable": false,
    "editable": false,
    "nbgrader": {
     "checksum": "e598dac7a5255554c8145da7f1c66d33",
     "grade": false,
     "grade_id": "6_pl_1",
     "locked": true,
     "schema_version": 1,
     "solution": false
    }
   },
<<<<<<< HEAD
   "outputs": [
    {
     "data": {
      "image/png": "iVBORw0KGgoAAAANSUhEUgAAAX8AAAD8CAYAAACfF6SlAAAABHNCSVQICAgIfAhkiAAAAAlwSFlz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\nYpAWf6WUikFa/JVSKgZp8VdKqRj0//FitpB+zbW/AAAAAElFTkSuQmCC\n",
      "text/plain": [
       "<matplotlib.figure.Figure at 0x7f86ee262390>"
      ]
     },
     "metadata": {},
     "output_type": "display_data"
    }
   ],
=======
   "outputs": [],
>>>>>>> 11b3e78921b80bc305ad989d8e28f9997b9f5480
   "source": [
    "# CO data: plot the comparison to a normal distribution (this code provided)\n",
    "xs = np.arange(h_co.min(), h_co.max(), 0.1)\n",
    "fit = stats.norm.pdf(xs, np.mean(h_co), np.std(h_co))\n",
    "plt.plot(xs, fit, label='Normal Dist.', lw=3)\n",
    "plt.hist(h_co, normed=True, label='Actual Data');\n",
    "plt.legend();"
   ]
  },
  {
   "cell_type": "code",
<<<<<<< HEAD
   "execution_count": 130,
   "metadata": {
=======
   "execution_count": null,
   "metadata": {
    "collapsed": false,
>>>>>>> 11b3e78921b80bc305ad989d8e28f9997b9f5480
    "deletable": false,
    "editable": false,
    "nbgrader": {
     "checksum": "290a842b6184103bde10a45ffcb18581",
     "grade": false,
     "grade_id": "6_pl_2",
     "locked": true,
     "schema_version": 1,
     "solution": false
    }
   },
<<<<<<< HEAD
   "outputs": [
    {
     "data": {
      "image/png": "iVBORw0KGgoAAAANSUhEUgAAAX0AAAD8CAYAAACb4nSYAAAABHNCSVQICAgIfAhkiAAAAAlwSFlz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\niIa+UkqFkf8HOeqIjia7jPsAAAAASUVORK5CYII=\n",
      "text/plain": [
       "<matplotlib.figure.Figure at 0x7f86ee2e9c18>"
      ]
     },
     "metadata": {},
     "output_type": "display_data"
    }
   ],
=======
   "outputs": [],
>>>>>>> 11b3e78921b80bc305ad989d8e28f9997b9f5480
   "source": [
    "# CS data: plot the divergence from normal distribution (this code provided)\n",
    "xs = np.arange(h_cs.min(), h_cs.max(), 0.1)\n",
    "fit = stats.norm.pdf(xs, np.mean(h_cs), np.std(h_cs))\n",
    "plt.plot(xs, fit, label='Normal Dist.', lw=3)\n",
    "plt.hist(h_cs, normed=True, label='Actual Data');\n",
    "plt.legend();"
   ]
  },
  {
   "cell_type": "markdown",
   "metadata": {
    "deletable": false,
    "editable": false,
    "nbgrader": {
     "checksum": "70cc126c9dee83986f95e887a3a1ae88",
     "grade": false,
     "grade_id": "part7",
     "locked": true,
     "schema_version": 1,
     "solution": false
    }
   },
   "source": [
    "### Part 7: Clustering\n",
    "\n",
    "Suppose we have reason to believe there are distinct clusters of students in the class - a group of younger students, in earlier years, and a group of older students, closer to graduation. However, we do not know which students are in which group, nor the boundaries that define the groups. \n",
    "\n",
    "This is a clustering problem - here you will use KMeans to dry and find the clusters from the data. \n",
    "\n",
    "See an example of how to use sklearn, and specifically KMeans, for clustering in the 'Clustering' notebook in SectionMaterials."
   ]
  },
  {
   "cell_type": "code",
<<<<<<< HEAD
   "execution_count": 131,
=======
   "execution_count": null,
>>>>>>> 11b3e78921b80bc305ad989d8e28f9997b9f5480
   "metadata": {
    "collapsed": true,
    "deletable": false,
    "editable": false,
    "nbgrader": {
     "checksum": "9e9dbb55438e3a592b3368fd4a4a112d",
     "grade": false,
     "grade_id": "7_load",
     "locked": true,
     "schema_version": 1,
     "solution": false
    }
   },
   "outputs": [],
   "source": [
    "# For convenience, and consistency, we're providing this code to pull out the required data\n",
    "d1 = df[df['major'] == 'cogs']['year'].values\n",
    "d2 = df[df['major'] == 'cogs']['age'].values"
   ]
  },
  {
   "cell_type": "code",
<<<<<<< HEAD
   "execution_count": 132,
   "metadata": {
    "collapsed": true,
=======
   "execution_count": null,
   "metadata": {
    "collapsed": false,
>>>>>>> 11b3e78921b80bc305ad989d8e28f9997b9f5480
    "deletable": false,
    "nbgrader": {
     "checksum": "52f3fd856e3b4343b5b1f1896c1f8906",
     "grade": false,
     "grade_id": "7a",
     "locked": false,
     "schema_version": 1,
     "solution": true
    }
   },
   "outputs": [],
   "source": [
    "# 7a) For both 'd1', and 'd2' (separately) use the 'whiten' function to whiten the data. \n",
    "#  Save the outputs to 'd1w', and 'd2w' repectively. \n",
    "\n",
<<<<<<< HEAD
    "d1w = whiten(d1)\n",
    "d2w = whiten(d2)\n",
    "\n",
    "#raise NotImplementedError()"
=======
    "# YOUR CODE HERE\n",
    "raise NotImplementedError()"
>>>>>>> 11b3e78921b80bc305ad989d8e28f9997b9f5480
   ]
  },
  {
   "cell_type": "code",
<<<<<<< HEAD
   "execution_count": 136,
   "metadata": {
    "collapsed": true,
=======
   "execution_count": null,
   "metadata": {
    "collapsed": false,
>>>>>>> 11b3e78921b80bc305ad989d8e28f9997b9f5480
    "deletable": false,
    "editable": false,
    "nbgrader": {
     "checksum": "2b8db82b3fdcab09b4260012456593d7",
     "grade": true,
     "grade_id": "7a_ans",
     "locked": true,
     "points": 0.25,
     "schema_version": 1,
     "solution": false
    }
   },
   "outputs": [],
   "source": [
    "assert np.all(d1w)\n",
    "assert np.all(d2w)\n"
   ]
  },
  {
   "cell_type": "code",
<<<<<<< HEAD
   "execution_count": 137,
   "metadata": {
    "collapsed": true,
=======
   "execution_count": null,
   "metadata": {
    "collapsed": false,
>>>>>>> 11b3e78921b80bc305ad989d8e28f9997b9f5480
    "deletable": false,
    "nbgrader": {
     "checksum": "a22b39797180e85d0ffe86f202c1aa89",
     "grade": false,
     "grade_id": "7b",
     "locked": false,
     "schema_version": 1,
     "solution": true
    }
   },
   "outputs": [],
   "source": [
    "# 7b) Initialize a Kmeans model object. Call it 'km'.\n",
    "#  Initialize it with 'n_clusters' of 2, and 'random_state' of 42.\n",
    "\n",
<<<<<<< HEAD
    "km = KMeans(n_clusters=2, random_state=42)\n",
    "\n",
    "#raise NotImplementedError()"
=======
    "# YOUR CODE HERE\n",
    "raise NotImplementedError()"
>>>>>>> 11b3e78921b80bc305ad989d8e28f9997b9f5480
   ]
  },
  {
   "cell_type": "code",
<<<<<<< HEAD
   "execution_count": 138,
   "metadata": {
    "collapsed": true,
=======
   "execution_count": null,
   "metadata": {
    "collapsed": false,
>>>>>>> 11b3e78921b80bc305ad989d8e28f9997b9f5480
    "deletable": false,
    "editable": false,
    "nbgrader": {
     "checksum": "7d5f0211aca52612bcfc2541e6dc613c",
     "grade": true,
     "grade_id": "7b_ans",
     "locked": true,
     "points": 0.25,
     "schema_version": 1,
     "solution": false
    }
   },
   "outputs": [],
   "source": [
    "assert isinstance(km, KMeans)\n"
   ]
  },
  {
   "cell_type": "code",
<<<<<<< HEAD
   "execution_count": 139,
   "metadata": {
    "collapsed": true,
=======
   "execution_count": null,
   "metadata": {
    "collapsed": false,
>>>>>>> 11b3e78921b80bc305ad989d8e28f9997b9f5480
    "deletable": false,
    "editable": false,
    "nbgrader": {
     "checksum": "d8d9b7cc05cab6b096c68c1c7cc3209d",
     "grade": false,
     "grade_id": "7_comb",
     "locked": true,
     "schema_version": 1,
     "solution": false
    }
   },
   "outputs": [],
   "source": [
    "# For convenience, and consistency, we're providing this code to combine the data into required format.\n",
    "cl_dat = np.array([d1w, d2w]).T"
   ]
  },
  {
   "cell_type": "code",
<<<<<<< HEAD
   "execution_count": 140,
   "metadata": {
=======
   "execution_count": null,
   "metadata": {
    "collapsed": false,
>>>>>>> 11b3e78921b80bc305ad989d8e28f9997b9f5480
    "deletable": false,
    "nbgrader": {
     "checksum": "6bf2ec4970fa7d25062cf2c379e3f442",
     "grade": false,
     "grade_id": "7c",
     "locked": false,
     "schema_version": 1,
     "solution": true
    }
   },
<<<<<<< HEAD
   "outputs": [
    {
     "data": {
      "text/plain": [
       "KMeans(algorithm='auto', copy_x=True, init='k-means++', max_iter=300,\n",
       "    n_clusters=2, n_init=10, n_jobs=1, precompute_distances='auto',\n",
       "    random_state=42, tol=0.0001, verbose=0)"
      ]
     },
     "execution_count": 140,
     "metadata": {},
     "output_type": "execute_result"
    }
   ],
   "source": [
    "# 7c) Use the 'fit' method of the KMeans object (km) to fit the data ('cl_dat').\n",
    "\n",
    "km.fit(cl_dat)\n",
    "\n",
    "#raise NotImplementedError()"
=======
   "outputs": [],
   "source": [
    "# 7c) Use the 'fit' method of the KMeans object (km) to fit the data ('cl_dat').\n",
    "\n",
    "# YOUR CODE HERE\n",
    "raise NotImplementedError()"
>>>>>>> 11b3e78921b80bc305ad989d8e28f9997b9f5480
   ]
  },
  {
   "cell_type": "code",
<<<<<<< HEAD
   "execution_count": 141,
   "metadata": {
    "collapsed": true,
=======
   "execution_count": null,
   "metadata": {
    "collapsed": false,
>>>>>>> 11b3e78921b80bc305ad989d8e28f9997b9f5480
    "deletable": false,
    "editable": false,
    "nbgrader": {
     "checksum": "f7f9da8fe081fe2d97f96d8581c7857c",
     "grade": true,
     "grade_id": "7c_ans",
     "locked": true,
     "points": 0.5,
     "schema_version": 1,
     "solution": false
    }
   },
   "outputs": [],
   "source": [
    "assert np.any(km.labels_)\n"
   ]
  },
  {
   "cell_type": "code",
<<<<<<< HEAD
   "execution_count": 142,
   "metadata": {
=======
   "execution_count": null,
   "metadata": {
    "collapsed": false,
>>>>>>> 11b3e78921b80bc305ad989d8e28f9997b9f5480
    "deletable": false,
    "editable": false,
    "nbgrader": {
     "checksum": "34166910e7e0369e100e3ea4884745ed",
     "grade": false,
     "grade_id": "7_plt",
     "locked": true,
     "schema_version": 1,
     "solution": false
    }
   },
<<<<<<< HEAD
   "outputs": [
    {
     "data": {
      "image/png": "iVBORw0KGgoAAAANSUhEUgAAAYIAAAEKCAYAAAAfGVI8AAAABHNCSVQICAgIfAhkiAAAAAlwSFlz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\niIiknIpARCTlVAQiIimnIhARSbn/BzxGhZqo20wdAAAAAElFTkSuQmCC\n",
      "text/plain": [
       "<matplotlib.figure.Figure at 0x7f86ee31eb70>"
      ]
     },
     "metadata": {},
     "output_type": "display_data"
    }
   ],
=======
   "outputs": [],
>>>>>>> 11b3e78921b80bc305ad989d8e28f9997b9f5480
   "source": [
    "# Let's check out our clusters (this code provided).\n",
    "plt.scatter(d1, d2, c=km.labels_);\n",
    "plt.xlabel('Year');\n",
    "plt.ylabel('Age');"
   ]
  },
  {
   "cell_type": "markdown",
   "metadata": {
    "deletable": false,
    "editable": false,
    "nbgrader": {
     "checksum": "b542a4ef7856b13a51b72f70a8111ab1",
     "grade": false,
     "grade_id": "part8",
     "locked": true,
     "schema_version": 1,
     "solution": false
    }
   },
   "source": [
    "### Part 8: Dimensionality Reduction\n",
    "\n",
    "Sometimes we have data that have many dimensions, perhaps too many to deal with, and so we might need to try and use dimensionality reduction: that is to try and find a lower dimensional space that captures as much of the information as we can from the original, high-dimensional, dataset. \n",
    "\n",
    "As an example, in our data, we have height and weight that are quite correlated, and we could use Principal Components Analysis (PCA), in order to try and capture the most information about a persons' height and weight in a single number - projecting this 2D data down into 1 dimension. \n",
    "\n",
    "See an example of how to use sklearn, and specifcally PCA, for dimensionality reduction in the 'Dimensionality Reduction' notebook in SectionMaterials."
   ]
  },
  {
   "cell_type": "code",
<<<<<<< HEAD
   "execution_count": 143,
   "metadata": {
=======
   "execution_count": null,
   "metadata": {
    "collapsed": false,
>>>>>>> 11b3e78921b80bc305ad989d8e28f9997b9f5480
    "deletable": false,
    "editable": false,
    "nbgrader": {
     "checksum": "43d056a0910b48f140145989f3218d8d",
     "grade": false,
     "grade_id": "8_plot_1",
     "locked": true,
     "schema_version": 1,
     "solution": false
    }
   },
<<<<<<< HEAD
   "outputs": [
    {
     "data": {
      "text/plain": [
       "[<matplotlib.lines.Line2D at 0x7f86ee145fd0>]"
      ]
     },
     "execution_count": 143,
     "metadata": {},
     "output_type": "execute_result"
    },
    {
     "data": {
      "image/png": "iVBORw0KGgoAAAANSUhEUgAAAXoAAAD8CAYAAAB5Pm/hAAAABHNCSVQICAgIfAhkiAAAAAlwSFlz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\nAAAAAElFTkSuQmCC\n",
      "text/plain": [
       "<matplotlib.figure.Figure at 0x7f86ee1d6160>"
      ]
     },
     "metadata": {},
     "output_type": "display_data"
    }
   ],
=======
   "outputs": [],
>>>>>>> 11b3e78921b80bc305ad989d8e28f9997b9f5480
   "source": [
    "# Check out the height vs. weight data\n",
    "plt.plot(df['height'].values, df['weight'].values, '.')"
   ]
  },
  {
   "cell_type": "code",
<<<<<<< HEAD
   "execution_count": 144,
=======
   "execution_count": null,
>>>>>>> 11b3e78921b80bc305ad989d8e28f9997b9f5480
   "metadata": {
    "collapsed": true,
    "deletable": false,
    "editable": false,
    "nbgrader": {
     "checksum": "24387b99f4a0694af6e436defe543201",
     "grade": false,
     "grade_id": "8_load",
     "locked": true,
     "schema_version": 1,
     "solution": false
    }
   },
   "outputs": [],
   "source": [
    "# For convenience, and consistency, we're providing this code to pull out the required data\n",
    "d1_h = df['height'].values\n",
    "d2_w = df['weight'].values"
   ]
  },
  {
   "cell_type": "code",
<<<<<<< HEAD
   "execution_count": 145,
=======
   "execution_count": null,
>>>>>>> 11b3e78921b80bc305ad989d8e28f9997b9f5480
   "metadata": {
    "collapsed": true,
    "deletable": false,
    "nbgrader": {
     "checksum": "032a0a7acdf15eb8b76e18109e098eb9",
     "grade": false,
     "grade_id": "8a",
     "locked": false,
     "schema_version": 1,
     "solution": true
    }
   },
   "outputs": [],
   "source": [
    "# 8a) Initialize a PCA object. Call it 'dr'. \n",
    "#  Initialize it with 'n_components' of 1, and 'whiten' as True.\n",
    "\n",
<<<<<<< HEAD
    "dr = PCA(n_components=1, whiten=True)\n",
    "\n",
    "#raise NotImplementedError()"
=======
    "# YOUR CODE HERE\n",
    "raise NotImplementedError()"
>>>>>>> 11b3e78921b80bc305ad989d8e28f9997b9f5480
   ]
  },
  {
   "cell_type": "code",
<<<<<<< HEAD
   "execution_count": 146,
   "metadata": {
    "collapsed": true,
=======
   "execution_count": null,
   "metadata": {
    "collapsed": false,
>>>>>>> 11b3e78921b80bc305ad989d8e28f9997b9f5480
    "deletable": false,
    "editable": false,
    "nbgrader": {
     "checksum": "20fdbb9e9794b36a6f4e2478842ece5b",
     "grade": true,
     "grade_id": "8a_ans",
     "locked": true,
     "points": 0.5,
     "schema_version": 1,
     "solution": false
    }
   },
   "outputs": [],
   "source": [
    "assert isinstance(dr, PCA)\n"
   ]
  },
  {
   "cell_type": "code",
<<<<<<< HEAD
   "execution_count": 149,
   "metadata": {
    "collapsed": true,
=======
   "execution_count": null,
   "metadata": {
    "collapsed": false,
>>>>>>> 11b3e78921b80bc305ad989d8e28f9997b9f5480
    "deletable": false,
    "editable": false,
    "nbgrader": {
     "checksum": "f41c07d00ddbb57eb0731c585ef02c2a",
     "grade": false,
     "grade_id": "8_comb",
     "locked": true,
     "schema_version": 1,
     "solution": false
    }
   },
   "outputs": [],
   "source": [
    "# For convenience, and consistency, we're providing this code to combine the data into required format\n",
    "dr_dat = np.array([d1_h, d2_w]).T"
   ]
  },
  {
   "cell_type": "code",
<<<<<<< HEAD
   "execution_count": 150,
   "metadata": {
    "collapsed": true,
=======
   "execution_count": null,
   "metadata": {
    "collapsed": false,
>>>>>>> 11b3e78921b80bc305ad989d8e28f9997b9f5480
    "deletable": false,
    "nbgrader": {
     "checksum": "da1eaad3149f8ae32d518046514f0c5c",
     "grade": false,
     "grade_id": "8b",
     "locked": false,
     "schema_version": 1,
     "solution": true
    }
   },
   "outputs": [],
   "source": [
    "# 8b) Use the 'fit_transform' method of the PCA object (dr) on the data ('dr_dat')\n",
    "#  This method fits the dimensionality reduction model, and then transforms the data with it. \n",
    "#  Save the output (the transformed data) to 'out'\n",
    "\n",
<<<<<<< HEAD
    "out = dr.fit_transform(dr_dat)\n",
    "\n",
    "#raise NotImplementedError()"
=======
    "# YOUR CODE HERE\n",
    "raise NotImplementedError()"
>>>>>>> 11b3e78921b80bc305ad989d8e28f9997b9f5480
   ]
  },
  {
   "cell_type": "code",
<<<<<<< HEAD
   "execution_count": 151,
   "metadata": {
    "collapsed": true,
=======
   "execution_count": null,
   "metadata": {
    "collapsed": false,
>>>>>>> 11b3e78921b80bc305ad989d8e28f9997b9f5480
    "deletable": false,
    "editable": false,
    "nbgrader": {
     "checksum": "f04b156c8f280625043c2273d8e17b96",
     "grade": true,
     "grade_id": "8b_ans",
     "locked": true,
     "points": 0.5,
     "schema_version": 1,
     "solution": false
    }
   },
   "outputs": [],
   "source": [
    "assert np.all(out)\n",
    "assert out.shape == (335, 1)\n"
   ]
  },
  {
   "cell_type": "code",
<<<<<<< HEAD
   "execution_count": 152,
   "metadata": {
=======
   "execution_count": null,
   "metadata": {
    "collapsed": false,
>>>>>>> 11b3e78921b80bc305ad989d8e28f9997b9f5480
    "deletable": false,
    "editable": false,
    "nbgrader": {
     "checksum": "7348062ff4680d39c5fd8b40767ed558",
     "grade": false,
     "grade_id": "8_plot_2",
     "locked": true,
     "schema_version": 1,
     "solution": false
    }
   },
<<<<<<< HEAD
   "outputs": [
    {
     "data": {
      "image/png": "iVBORw0KGgoAAAANSUhEUgAAAXsAAAD8CAYAAACW/ATfAAAABHNCSVQICAgIfAhkiAAAAAlwSFlz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\n",
      "text/plain": [
       "<matplotlib.figure.Figure at 0x7f86ee18fa90>"
      ]
     },
     "metadata": {},
     "output_type": "display_data"
    }
   ],
=======
   "outputs": [],
>>>>>>> 11b3e78921b80bc305ad989d8e28f9997b9f5480
   "source": [
    "# Check the transformed data (this code provided)\n",
    "#  Since this data is now 1D, the x-axis is just index\n",
    "#  Now, for each student, we have a (whitened) single number representing combined height & weight \n",
    "plt.plot(out, '.');"
   ]
<<<<<<< HEAD
  },
  {
   "cell_type": "code",
   "execution_count": null,
   "metadata": {
    "collapsed": true
   },
   "outputs": [],
   "source": []
=======
>>>>>>> 11b3e78921b80bc305ad989d8e28f9997b9f5480
  }
 ],
 "metadata": {
  "kernelspec": {
   "display_name": "Python 3",
   "language": "python",
   "name": "python3"
  },
  "language_info": {
   "codemirror_mode": {
    "name": "ipython",
    "version": 3
   },
   "file_extension": ".py",
   "mimetype": "text/x-python",
   "name": "python",
   "nbconvert_exporter": "python",
   "pygments_lexer": "ipython3",
<<<<<<< HEAD
   "version": "3.5.2"
=======
   "version": "3.6.0"
>>>>>>> 11b3e78921b80bc305ad989d8e28f9997b9f5480
  }
 },
 "nbformat": 4,
 "nbformat_minor": 2
}
