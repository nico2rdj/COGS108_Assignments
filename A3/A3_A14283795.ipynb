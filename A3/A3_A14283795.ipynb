{
 "cells": [
  {
   "cell_type": "markdown",
   "metadata": {
    "deletable": false,
    "editable": false,
    "nbgrader": {
     "checksum": "abc339b6ca540d7920774ac4405f3f20",
     "grade": false,
     "grade_id": "title",
     "locked": true,
     "schema_version": 1,
     "solution": false
    }
   },
   "source": [
    "# COGS 108 - Assignment 3: Data Privacy\n",
    "\n",
    "### Written By: Liz Izhikevich and Harshita Mangal"
   ]
  },
  {
   "cell_type": "markdown",
   "metadata": {
    "deletable": false,
    "editable": false,
    "nbgrader": {
     "checksum": "e7ab4146bbbf02d8f48742dc8aec0a82",
     "grade": false,
     "grade_id": "important",
     "locked": true,
     "schema_version": 1,
     "solution": false
    }
   },
   "source": [
    "## Important\n",
    "\n",
    "- Rename this file to 'A3_A########.ipynb' (filled in with your student ID) before you submit it. Submit it to TritonED.\n",
    "- Do not change / update / delete any existing cells with 'assert' in them. These are the tests used to check your assignment. \n",
    "    - Changing these will be flagged for attempted cheating. \n",
    "- This assignment has hidden tests: tests that are not visible here, but that will be run on your submitted. \n",
    "    - This means passing all the tests you can see in the notebook here does not guarantee you have the right answer!"
   ]
  },
  {
   "cell_type": "markdown",
   "metadata": {
    "deletable": false,
    "editable": false,
    "nbgrader": {
     "checksum": "bf064578a1f8b26a3b5ac9a3e898c836",
     "grade": false,
     "grade_id": "overview",
     "locked": true,
     "schema_version": 1,
     "solution": false
    }
   },
   "source": [
    "## Overview\n",
    "\n",
    "We have discussed in lecture the importance and the mechanics of protecting individuals privacy when they are included in datasets. In particular, in Lecture 11 (April 26th) we introduced the concept of the Safe Harbor Method. The Safe Harbour method specifies how to protect individual's identities by telling us which tells us which information to remove from a dataset in order to avoid accidently disclosing personal information. \n",
    "\n",
    "In this assignment, we will explore how identity can be decoded from badly anonymized datasets, and also explore using Safe Harbour to anonymize datasets properly. "
   ]
  },
  {
   "cell_type": "markdown",
   "metadata": {
    "deletable": false,
    "editable": false,
    "nbgrader": {
     "checksum": "d920e67e4f7b02e6571cc534b15661f1",
     "grade": false,
     "grade_id": "imports",
     "locked": true,
     "schema_version": 1,
     "solution": false
    }
   },
   "source": [
    "### Import Statements"
   ]
  },
  {
   "cell_type": "code",
   "execution_count": 2,
   "metadata": {
    "collapsed": true,
    "deletable": false,
    "editable": false,
    "nbgrader": {
     "checksum": "791da343a26c1ddd9533c3c4b54336e4",
     "grade": false,
     "grade_id": "import-code",
     "locked": true,
     "schema_version": 1,
     "solution": false
    }
   },
   "outputs": [],
   "source": [
    "# Import Pandas\n",
    "# Note: Pandas is all you need! Do not import any other functions / packages.\n",
    "import pandas as pd"
   ]
  },
  {
   "cell_type": "markdown",
   "metadata": {
    "deletable": false,
    "editable": false,
    "nbgrader": {
     "checksum": "6a61ea7b5396a92e5eb17145fac8cb78",
     "grade": false,
     "grade_id": "p1-title",
     "locked": true,
     "schema_version": 1,
     "solution": false
    }
   },
   "source": [
    "## Part 1: Identifying Data"
   ]
  },
  {
   "cell_type": "markdown",
   "metadata": {
    "deletable": false,
    "editable": false,
    "nbgrader": {
     "checksum": "4296e9303d0b9997e5919024b4dc1734",
     "grade": false,
     "grade_id": "p1-desc",
     "locked": true,
     "schema_version": 1,
     "solution": false
    }
   },
   "source": [
    "Data Files:\n",
    "- anon_user_dat.json\n",
    "- employee_info.json\n",
    "\n",
    "You will first be working with a file called 'anon_user_dat.json'. This file that contains information about some (fake) Tinder users. When creating an account, each Tinder user was asked to provide their first name, last name, work email (to verify the disclosed workplace), age, gender, phone # and zip code. Before releasing this data, a data scientist cleaned the data to protect the privacy of Tinder's users by removing the obvious personal identifiers: phone #, zip code, and IP address. However, the data scientist chose to keep each users' email addresses because when they visually skimmed a couple of the email addresses none of them seemed to have any of the user's actual names in them. This is where the data scientist made a huge mistake!\n",
    "\n",
    "We will take advantage of having the work email addresses by finding the employee information of different companies and matching that employee information with the information we have, in order to identify the names of the secret Tinder users!"
   ]
  },
  {
   "cell_type": "code",
   "execution_count": 3,
   "metadata": {
    "deletable": false,
    "nbgrader": {
     "checksum": "ce17aa4fbf31c2dbf722d20e74e17d9b",
     "grade": false,
     "grade_id": "1a",
     "locked": false,
     "schema_version": 1,
     "solution": true
    }
   },
   "outputs": [
    {
     "name": "stdout",
     "output_type": "stream",
     "text": [
      "     age                           email  gender\n",
      "0     46     gshoreson0@seattletimes.com    Male\n",
      "1     56              eweaben1@salon.com  Female\n",
      "2     30         akillerby2@gravatar.com    Male\n",
      "3     87               gsainz3@zdnet.com    Male\n",
      "4     58        bdanilewicz4@4shared.com    Male\n",
      "5     39       sdeerness5@wikispaces.com  Female\n",
      "6     43          jstillwell6@ustream.tv  Female\n",
      "7     37          mpriestland7@opera.com    Male\n",
      "8     35        nerickssen8@hatena.ne.jp  Female\n",
      "9     40              hparsell9@xing.com    Male\n",
      "10     9                 acopasa@fda.gov    Male\n",
      "11    38        bdanielovitchb@jigsy.com    Male\n",
      "12    42              cwestbergc@psu.edu  Female\n",
      "13    39          jlarived@goodreads.com  Female\n",
      "14    37             mchallisse@ning.com  Female\n",
      "15    66            cbrognotf@ebay.co.uk    Male\n",
      "16    79              aphearg@tumblr.com    Male\n",
      "17    67             askogginsh@jugem.jp  Female\n",
      "18    30       eondraseki@deviantart.com  Female\n",
      "19    39                 kcaswallj@is.gd  Female\n",
      "20    22          cpetrillok@cbsnews.com    Male\n",
      "21    42             bstratfordl@ted.com  Female\n",
      "22    42     mandreichikm@shareasale.com    Male\n",
      "23    56              jsegarn@sfgate.com    Male\n",
      "24    64        aurridgeo@purevolume.com    Male\n",
      "25    58                njandap@ebay.com    Male\n",
      "26    44             lwathallq@exblog.jp  Female\n",
      "27    62      aoveringtonr@canalblog.com  Female\n",
      "28    45                dbrellins@ft.com  Female\n",
      "29    31              ebukact@toplist.cz  Female\n",
      "..   ...                             ...     ...\n",
      "970   62        dsessionsqy@sakura.ne.jp  Female\n",
      "971   32      vkondratenkoqz@cornell.edu    Male\n",
      "972   66         tbrethertonr0@lycos.com  Female\n",
      "973   67        srenfrewr1@shinystat.com  Female\n",
      "974   30       jjoiceyr2@theatlantic.com    Male\n",
      "975   13           bborleacer3@naver.com    Male\n",
      "976   30         lmackeer4@reference.com  Female\n",
      "977   64         mpaolicchir5@utexas.edu  Female\n",
      "978   63              lgaliar6@lycos.com  Female\n",
      "979   97  ldemcakr7@networksolutions.com  Female\n",
      "980   41            ide giorgior8@360.cn    Male\n",
      "981   85            mmctrustyr9@jugem.jp    Male\n",
      "982   42           ekohnra@amazonaws.com    Male\n",
      "983   73        mmillmorerb@hatena.ne.jp    Male\n",
      "984   24           lchaudrellerc@soup.io    Male\n",
      "985   41            iavramovitzrd@ft.com  Female\n",
      "986   35         rreaneyre@canalblog.com  Female\n",
      "987   54    sscawnrf@businessinsider.com    Male\n",
      "988   30         lharbronrg@slashdot.org    Male\n",
      "989   34              pgurnayrh@uiuc.edu    Male\n",
      "990   31                 ckyngeri@hp.com  Female\n",
      "991   64     cboothroydrj@yellowbook.com    None\n",
      "992   69             kbrunkerrk@hibu.com    Male\n",
      "993   34             sleallerl@wikia.com  Female\n",
      "994   38          kbeefonrm@vkontakte.ru  Female\n",
      "995   73           pstroulgerrn@time.com  Female\n",
      "996   46     kbasnettro@seattletimes.com  Female\n",
      "997   55     pmortlockrp@liveinternet.ru    Male\n",
      "998   58            sphetterq@toplist.cz    Male\n",
      "999   26           jtyresrr@slashdot.org    Male\n",
      "\n",
      "[1000 rows x 3 columns]\n"
     ]
    }
   ],
   "source": [
    "##################################\n",
    "# 1a) Load in the 'cleaned' data #\n",
    "##################################\n",
    "\n",
    "# Load the json file into a pandas dataframe. Call it 'df_personal'.\n",
    "\n",
    "df_personal = pd.read_json('anon_user_dat.json')\n",
    "print(df_personal)"
   ]
  },
  {
   "cell_type": "code",
   "execution_count": 4,
   "metadata": {
    "collapsed": true,
    "deletable": false,
    "editable": false,
    "nbgrader": {
     "checksum": "61909bf161ee3e26eaca9c2f1a52fd41",
     "grade": true,
     "grade_id": "1a-tests",
     "locked": true,
     "points": 0.5,
     "schema_version": 1,
     "solution": false
    }
   },
   "outputs": [],
   "source": [
    "assert isinstance(df_personal, pd.DataFrame)\n"
   ]
  },
  {
   "cell_type": "code",
   "execution_count": 5,
   "metadata": {
    "deletable": false,
    "nbgrader": {
     "checksum": "a4d2eeef6828d55c54ca8b44ef32c3eb",
     "grade": false,
     "grade_id": "1b",
     "locked": false,
     "schema_version": 1,
     "solution": true
    },
    "scrolled": true
   },
   "outputs": [
    {
     "name": "stdout",
     "output_type": "stream",
     "text": [
      "0    gshoreson0@seattletimes.com\n",
      "1             eweaben1@salon.com\n",
      "2        akillerby2@gravatar.com\n",
      "3              gsainz3@zdnet.com\n",
      "4       bdanilewicz4@4shared.com\n",
      "5      sdeerness5@wikispaces.com\n",
      "6         jstillwell6@ustream.tv\n",
      "7         mpriestland7@opera.com\n",
      "8       nerickssen8@hatena.ne.jp\n",
      "9             hparsell9@xing.com\n",
      "Name: email, dtype: object\n"
     ]
    }
   ],
   "source": [
    "#################################\n",
    "# 1b) Check the first 10 emails #\n",
    "#################################\n",
    "\n",
    "# Save the first 10 emails to a Series, and call it 'sample_emails'. \n",
    "# You should then and print out this Series. \n",
    "# The purpose of this is to get a sense of how these work emails are structured\n",
    "#   and how we could possibly extract where each anonymous user seems to work\n",
    "\n",
    "\n",
    "#sample_emails = pd.Series(df_personal.iloc[0:10, 1])\n",
    "sample_emails = df_personal['email'].head(10)\n",
    "print(sample_emails)"
   ]
  },
  {
   "cell_type": "code",
   "execution_count": 6,
   "metadata": {
    "collapsed": true,
    "deletable": false,
    "editable": false,
    "nbgrader": {
     "checksum": "2159c6a677909826c6dae27516ff8140",
     "grade": true,
     "grade_id": "1b-tests",
     "locked": true,
     "points": 1,
     "schema_version": 1,
     "solution": false
    }
   },
   "outputs": [],
   "source": [
    "assert isinstance(sample_emails, pd.Series)\n"
   ]
  },
  {
   "cell_type": "code",
   "execution_count": 7,
   "metadata": {
    "collapsed": true,
    "deletable": false,
    "nbgrader": {
     "checksum": "ef100fd5d742f37140f873d7b26ecdfa",
     "grade": false,
     "grade_id": "1c",
     "locked": false,
     "schema_version": 1,
     "solution": true
    }
   },
   "outputs": [],
   "source": [
    "###############################################\n",
    "# 1c) Extract the Company Name From the Email #\n",
    "###############################################\n",
    "\n",
    "# Create a function with the following specifications:\n",
    "#   Function Name: extract_company\n",
    "#   Purpose: to extract the company of the email \n",
    "#          (i.e., everything after the @ sign but before the .com )\n",
    "#   Parameter(s): email (string)\n",
    "#   Returns: The extracted part of the email (string)\n",
    "#   Hint: This should take 1 line of code. Look into the find('') method. \n",
    "#\n",
    "# You can start with this outline:\n",
    "#   def extract_company(email):\n",
    "#      return \n",
    "#\n",
    "# Example Usage: \n",
    "#   extract_company(\"larhe@uber.com\") should return \"uber\"\n",
    "\n",
    "\n",
    "def extract_company(email):\n",
    "    s_index = email.find('@') + 1\n",
    "    e_index = email.find(\".\")\n",
    "    return email[s_index:e_index]\n",
    "    "
   ]
  },
  {
   "cell_type": "code",
   "execution_count": 8,
   "metadata": {
    "collapsed": true,
    "deletable": false,
    "editable": false,
    "nbgrader": {
     "checksum": "06225023bd1fad52a5f8e084753af2fb",
     "grade": true,
     "grade_id": "1c-tests",
     "locked": true,
     "points": 1,
     "schema_version": 1,
     "solution": false
    }
   },
   "outputs": [],
   "source": [
    "assert extract_company(\"gshoreson0@seattletimes.com\") == \"seattletimes\"\n"
   ]
  },
  {
   "cell_type": "markdown",
   "metadata": {
    "deletable": false,
    "editable": false,
    "nbgrader": {
     "checksum": "2ef7d9e3ecb79343b5b35d3aa70891a8",
     "grade": false,
     "grade_id": "info",
     "locked": true,
     "schema_version": 1,
     "solution": false
    }
   },
   "source": [
    "With a little bit of basic sleuthing (aka googling) and web-scraping (aka selectively reading in html code) it turns out that you've been able to collect information about all the present employees/interns of the companies you are interested in. Specifically, on each company website, you have found the name, gender, and age of its employees. You have saved that info in employee_info.json and plan to see if, using this new information, you can match the Tinder accounts to actual names."
   ]
  },
  {
   "cell_type": "code",
   "execution_count": 9,
   "metadata": {
    "deletable": false,
    "nbgrader": {
     "checksum": "816309ca8d4491647357272e451d2d21",
     "grade": false,
     "grade_id": "1d",
     "locked": false,
     "schema_version": 1,
     "solution": true
    }
   },
   "outputs": [
    {
     "name": "stdout",
     "output_type": "stream",
     "text": [
      "     age      company first_name  gender        last_name\n",
      "0     40      123-reg  Inglebert    Male         Falconer\n",
      "1     32          163      Penny  Female          Pennone\n",
      "2     45          163       Elva  Female         Crighton\n",
      "3     49          163     Lemuel    Male             Lind\n",
      "4     79          163     Rafael    Male         Bedenham\n",
      "5     30         1688   Herminia  Female            Sisse\n",
      "6     31        1und1       Toby  Female           Nisuis\n",
      "7     54        1und1     Kylynn  Female         Vedikhov\n",
      "8     56        1und1     Mychal    None          Denison\n",
      "9     41          360     Ilario    Male          Mannagh\n",
      "10    44          360    Angelle  Female           Kupisz\n",
      "11    54          360     Farley    Male        Mullenger\n",
      "12    40      4shared   Ginnifer  Female           Jarret\n",
      "13    58      4shared      Brody    Male         Pinckard\n",
      "14    34           51     Samara    None           Soares\n",
      "15    37           51    Stanton    Male            Rehme\n",
      "16    55           51     Gillie  Female      Shillinglaw\n",
      "17    28          abc      Lukas    Male             Krol\n",
      "18    69          abc      Glory  Female      Silverthorn\n",
      "19    65        about    Isidora  Female       Yanyushkin\n",
      "20    66        about     Karita  Female           Cantos\n",
      "21    66        about      Marla  Female          Forsard\n",
      "22    55     aboutads   Nikolaus    Male         Haulkham\n",
      "23    51  accuweather   Sinclair    Male         Leverett\n",
      "24    80  accuweather     Ilyssa  Female         Ottewill\n",
      "25    58      addthis     Flossi  Female     Metheringham\n",
      "26    52        admin      Ashby    Male           Gwilym\n",
      "27    50        alexa     Carrol    Male        Terlinden\n",
      "28    48      alibaba     Celina  Female          Santoro\n",
      "29    58      alibaba    Zebulon    Male          Gasnoll\n",
      "..   ...          ...        ...     ...              ...\n",
      "970   51         yale   Violette  Female            Walsh\n",
      "971   56         yale       Mord    Male             Fant\n",
      "972   61         yale    Bobette  Female         Hurndall\n",
      "973   70         yale    Gwenore  Female            Arens\n",
      "974   18       yandex    Lennard    Male           Ducroe\n",
      "975   35       yandex    Pernell    Male           Reeman\n",
      "976   59       yandex    Garwood    Male          Prophet\n",
      "977   64       yandex       Alic    Male         Peachman\n",
      "978   37  ycombinator     Lenore  Female          Broxton\n",
      "979   64   yellowbook   Charlena    None          Johncey\n",
      "980   52  yellowpages        Rab    Male         Goldsack\n",
      "981   61  yellowpages     Moises    Male         Lansdale\n",
      "982   63  yellowpages     Berthe  Female     Valentinuzzi\n",
      "983   63  yellowpages    Elliott    Male              Oki\n",
      "984   12     yolasite       Gale    Male           Boorne\n",
      "985   61     yolasite     Briney  Female  Grafton-Herbert\n",
      "986   21        youku   Marchall    Male           Bilbee\n",
      "987   37        youku     Dianna  Female        Handyside\n",
      "988   39        youku        May  Female         Sellwood\n",
      "989   60        youku    Humfrey    Male         Wheelton\n",
      "990   61        youku  Philomena  Female        Cranstoun\n",
      "991   13        youtu      Tyler    Male       Giacovazzo\n",
      "992   57        youtu  Claudette  Female          Gabotti\n",
      "993   60        youtu    Carroll  Female       Bertwistle\n",
      "994   43      youtube     Herman    Male          Dhennin\n",
      "995   58        zdnet      Biron    Male        Malkinson\n",
      "996   87        zdnet      Guido    Male          Comfort\n",
      "997   33       zimbio     Jobyna  Female            Busek\n",
      "998   45       zimbio   Andreana  Female          Ladewig\n",
      "999   51       zimbio      Becka  Female            Waryk\n",
      "\n",
      "[1000 rows x 5 columns]\n"
     ]
    }
   ],
   "source": [
    "#############################\n",
    "# 1d) Load in employee data #\n",
    "#############################\n",
    "\n",
    "# Load the json file into a pandas dataframe. Call it 'df_employee'.\n",
    "\n",
    "df_employee = pd.read_json('employee_info.json')\n",
    "print(df_employee)"
   ]
  },
  {
   "cell_type": "code",
   "execution_count": 10,
   "metadata": {
    "collapsed": true,
    "deletable": false,
    "editable": false,
    "nbgrader": {
     "checksum": "b64b2af268605bdd46803cecda26a862",
     "grade": true,
     "grade_id": "1d-tests",
     "locked": true,
     "points": 0.5,
     "schema_version": 1,
     "solution": false
    }
   },
   "outputs": [],
   "source": [
    "assert isinstance(df_personal, pd.DataFrame)\n"
   ]
  },
  {
   "cell_type": "code",
   "execution_count": 11,
   "metadata": {
    "collapsed": true,
    "deletable": false,
    "nbgrader": {
     "checksum": "2ad1a50342907d01fad1e4ad55a8240c",
     "grade": false,
     "grade_id": "1e",
     "locked": false,
     "schema_version": 1,
     "solution": true
    }
   },
   "outputs": [],
   "source": [
    "#########################################################\n",
    "# 1e) Match the employee name with company, age, gender #\n",
    "#########################################################\n",
    "\n",
    "# Create a function with the following specifications:\n",
    "#   Function name: employee_matcher\n",
    "#   Purpose: to match the employee name with the provided company, age, and gender\n",
    "#   Parameter(s): company (string), age (int), gender (string)\n",
    "#   Returns: The employee first_name and last_name like this: return first_name, last_name \n",
    "#   Note: If there are multiple employees that fit the same description, first_name and \n",
    "#         last_name should return a list of all possible first names and last name\n",
    "#         i.e., ['Desmund', 'Kelby'], ['Shepley', 'Tichner']\n",
    "#\n",
    "# Hint:\n",
    "# There are many different ways to code this.\n",
    "# 1) An unelegant solution is to loop through df_employee \n",
    "#    and for each data item see if the company, age, and gender match\n",
    "#    i.e., for i in range(0, len(df_employee)):\n",
    "#              if (company == df_employee.ix[i,'company']):\n",
    "#\n",
    "# However! The solution above is very inefficient and long, \n",
    "# so you should try to look into this:\n",
    "# 2) Google the df.loc method: It extracts pieces of the dataframe\n",
    "#    if it fulfills a certain condition.\n",
    "#    i.e., df_employee.loc[df_employee['company'] == company]\n",
    "#    If you need to convert your pandas data series into a list,\n",
    "#    you can do list(result) where result is a pandas \"series\"\n",
    "# \n",
    "# You can start with this outline:\n",
    "#   def employee_matcher(company, age, gender):\n",
    "#      return first_name, last_name\n",
    "\n",
    "# YOUR CODE HERE\n",
    "\n",
    "def employee_matcher(company, age, gender):\n",
    "    df_company_set = df_employee.loc[df_employee['company'] == company]\n",
    "    df_age_set = df_company_set.loc[df_company_set['age'] == age]\n",
    "    df_gender_final_set = df_age_set.loc[df_age_set['gender'] == gender]\n",
    "    first_name = list(df_gender_final_set['first_name'])\n",
    "    last_name = list(df_gender_final_set['last_name'])\n",
    "    return first_name, last_name\n",
    "    "
   ]
  },
  {
   "cell_type": "code",
   "execution_count": 12,
   "metadata": {
    "collapsed": true,
    "deletable": false,
    "editable": false,
    "nbgrader": {
     "checksum": "18a1d86bfe31cc6dfd249caf6674c010",
     "grade": true,
     "grade_id": "1e-tests",
     "locked": true,
     "points": 1,
     "schema_version": 1,
     "solution": false
    }
   },
   "outputs": [],
   "source": [
    "assert employee_matcher(\"google\", 41, \"Male\") == (['Ab'], ['Tetley'])\n",
    "assert employee_matcher(\"google\", 42, \"Male\") == (['Desmund', 'Kelby'],\n",
    "                                                  ['Shepley', 'Tichner'])"
   ]
  },
  {
   "cell_type": "code",
   "execution_count": 13,
   "metadata": {
    "collapsed": true,
    "deletable": false,
    "nbgrader": {
     "checksum": "7f81dbbb78da6bcc76cda520aae395b2",
     "grade": false,
     "grade_id": "1f",
     "locked": false,
     "schema_version": 1,
     "solution": true
    }
   },
   "outputs": [],
   "source": [
    "####################################\n",
    "# 1f) Extract all the private Data #\n",
    "####################################\n",
    "\n",
    "# - Create 2 empty lists called 'first_names' and 'last_names'\n",
    "# - Loop through all the people we are trying to identify in df_personal\n",
    "# - Call the extract_company function (i.e., extract_company(df_personal.ix[i, 'email']) )\n",
    "# - Call the employee_matcher function \n",
    "# - Append the results of employee_matcher to the appropriate lists (first_names and last_names)\n",
    "\n",
    "# YOUR CODE HERE\n",
    "\n",
    "first_names = list()\n",
    "last_names = list()\n",
    "\n",
    "for index, row in df_personal.iterrows():\n",
    "    company = extract_company(df_personal.ix[index, 'email'])\n",
    "    first_names.append(employee_matcher(company, row['age'], row['gender'])[0])\n",
    "    last_names.append(employee_matcher(company, row['age'], row['gender'])[1])\n",
    "    \n",
    "\n",
    "\n"
   ]
  },
  {
   "cell_type": "code",
   "execution_count": 14,
   "metadata": {
    "collapsed": true,
    "deletable": false,
    "editable": false,
    "nbgrader": {
     "checksum": "60add6c068758eb6abcaa30879d2b7af",
     "grade": true,
     "grade_id": "1f-tests",
     "locked": true,
     "points": 1,
     "schema_version": 1,
     "solution": false
    }
   },
   "outputs": [],
   "source": [
    "assert first_names[45:50]== [['Justino'], ['Tadio'], ['Kennith'], ['Cedric'], ['Amargo']]\n",
    "assert last_names[45:50] == [['Corro'], ['Blackford'], ['Milton'], ['Yggo'], ['Grigor']]\n"
   ]
  },
  {
   "cell_type": "code",
   "execution_count": null,
   "metadata": {
    "collapsed": true,
    "deletable": false,
    "nbgrader": {
     "checksum": "11d3d80f6cc937d7fef82b222583b0d5",
     "grade": true,
     "grade_id": "1g",
     "locked": false,
     "points": 0,
     "schema_version": 1,
     "solution": true
    }
   },
   "outputs": [],
   "source": []
  },
  {
   "cell_type": "markdown",
   "metadata": {
    "deletable": false,
    "editable": false,
    "nbgrader": {
     "checksum": "220e03ead46597189f618c88f0088bcc",
     "grade": false,
     "grade_id": "wrap-p1",
     "locked": true,
     "schema_version": 1,
     "solution": false
    }
   },
   "source": [
    "We have now just discovered the 'anonymous' identities of all the registered Tinder users...awkward."
   ]
  },
  {
   "cell_type": "markdown",
   "metadata": {
    "deletable": false,
    "editable": false,
    "nbgrader": {
     "checksum": "df5a8bf96e2ca03c191c433784de2834",
     "grade": false,
     "grade_id": "p2-title",
     "locked": true,
     "schema_version": 1,
     "solution": false
    }
   },
   "source": [
    "## Part 2: Anonymize Data"
   ]
  },
  {
   "cell_type": "markdown",
   "metadata": {
    "deletable": false,
    "editable": false,
    "nbgrader": {
     "checksum": "28f7733eb649c467c1e05df6a0287439",
     "grade": false,
     "grade_id": "p2-desc",
     "locked": true,
     "schema_version": 1,
     "solution": false
    }
   },
   "source": [
    "You are hopefully now convinced that with some seemingly harmless data a hacker can pretty easily discover the identities of certain users. Thus, we will now clean the original Tinder data ourselves according to the Safe Harbor Method in order to make sure that it has been *properly* cleaned..."
   ]
  },
  {
   "cell_type": "code",
   "execution_count": 15,
   "metadata": {
    "deletable": false,
    "nbgrader": {
     "checksum": "28b5cfeca32300230f915a81aa2a9884",
     "grade": false,
     "grade_id": "2a",
     "locked": false,
     "schema_version": 1,
     "solution": true
    }
   },
   "outputs": [
    {
     "name": "stdout",
     "output_type": "stream",
     "text": [
      "     age                           email first_name  gender       ip_address  \\\n",
      "0     46     gshoreson0@seattletimes.com     Gordon    Male    230.97.219.70   \n",
      "1     56              eweaben1@salon.com    Elenore  Female   202.253.80.173   \n",
      "2     30         akillerby2@gravatar.com       Abbe    Male    15.120.128.79   \n",
      "3     87               gsainz3@zdnet.com      Guido    Male   71.234.147.178   \n",
      "4     58        bdanilewicz4@4shared.com      Brody    Male   68.192.188.136   \n",
      "5     39       sdeerness5@wikispaces.com     Shalne  Female    204.227.6.124   \n",
      "6     43          jstillwell6@ustream.tv      Joell  Female   37.146.221.194   \n",
      "7     37          mpriestland7@opera.com    Manfred    Male     67.64.181.77   \n",
      "8     35        nerickssen8@hatena.ne.jp     Neille  Female   180.183.192.79   \n",
      "9     40              hparsell9@xing.com      Henri    Male    32.181.36.170   \n",
      "10     9                 acopasa@fda.gov    Alyosha    Male   36.177.179.182   \n",
      "11    38        bdanielovitchb@jigsy.com     Berkie    Male    86.81.145.219   \n",
      "12    42              cwestbergc@psu.edu    Caresse  Female     28.243.72.29   \n",
      "13    39          jlarived@goodreads.com         Jo  Female     165.251.5.90   \n",
      "14    37             mchallisse@ning.com   Marcelia  Female   148.248.57.176   \n",
      "15    66            cbrognotf@ebay.co.uk       Clim    Male    39.47.253.182   \n",
      "16    79              aphearg@tumblr.com      Arnie    Male    88.180.58.248   \n",
      "17    67             askogginsh@jugem.jp     Astrix  Female    208.161.20.23   \n",
      "18    30       eondraseki@deviantart.com  Enriqueta  Female     1.26.229.204   \n",
      "19    39                 kcaswallj@is.gd    Kristen  Female    30.161.15.205   \n",
      "20    22          cpetrillok@cbsnews.com     Cletis    Male    205.38.38.180   \n",
      "21    42             bstratfordl@ted.com  Bernadine  Female    159.77.18.200   \n",
      "22    42     mandreichikm@shareasale.com       Mack    Male   37.233.225.215   \n",
      "23    56              jsegarn@sfgate.com      Jonas    Male   45.144.205.179   \n",
      "24    64        aurridgeo@purevolume.com    Antoine    Male    101.79.179.65   \n",
      "25    58                njandap@ebay.com    Nichols    Male    155.44.138.46   \n",
      "26    44             lwathallq@exblog.jp      Lorie  Female   79.106.191.247   \n",
      "27    62      aoveringtonr@canalblog.com     Alissa  Female     148.136.49.1   \n",
      "28    45                dbrellins@ft.com       Dona  Female     82.233.62.39   \n",
      "29    31              ebukact@toplist.cz       Essa  Female  191.180.218.203   \n",
      "..   ...                             ...        ...     ...              ...   \n",
      "970   62        dsessionsqy@sakura.ne.jp     Dehlia  Female      4.190.6.161   \n",
      "971   32      vkondratenkoqz@cornell.edu       Vick    Male  142.247.110.109   \n",
      "972   66         tbrethertonr0@lycos.com      Tilda  Female   110.232.61.135   \n",
      "973   67        srenfrewr1@shinystat.com     Stacey  Female  100.110.251.127   \n",
      "974   30       jjoiceyr2@theatlantic.com     Justin    Male   111.102.229.23   \n",
      "975   13           bborleacer3@naver.com       Beck    Male   235.145.58.208   \n",
      "976   30         lmackeer4@reference.com      Lilla  Female   134.25.245.204   \n",
      "977   64         mpaolicchir5@utexas.edu     Mellie  Female   134.131.44.209   \n",
      "978   63              lgaliar6@lycos.com    Laverne  Female    119.36.146.55   \n",
      "979   97  ldemcakr7@networksolutions.com        Lee  Female    62.235.73.154   \n",
      "980   41            ide giorgior8@360.cn     Ilario    Male  221.122.195.221   \n",
      "981   85            mmctrustyr9@jugem.jp     Merell    Male    27.180.39.146   \n",
      "982   42           ekohnra@amazonaws.com       Elia    Male  219.249.104.182   \n",
      "983   73        mmillmorerb@hatena.ne.jp      Minor    Male    28.203.151.80   \n",
      "984   24           lchaudrellerc@soup.io        Lon    Male   41.164.159.120   \n",
      "985   41            iavramovitzrd@ft.com        Ivy  Female  156.241.220.163   \n",
      "986   35         rreaneyre@canalblog.com       Rory  Female      88.61.92.34   \n",
      "987   54    sscawnrf@businessinsider.com    Sampson    Male    167.100.18.51   \n",
      "988   30         lharbronrg@slashdot.org      Levey    Male  247.242.143.144   \n",
      "989   34              pgurnayrh@uiuc.edu    Padgett    Male    232.159.28.11   \n",
      "990   31                 ckyngeri@hp.com    Chryste  Female   158.126.242.37   \n",
      "991   64     cboothroydrj@yellowbook.com   Charlena    None    164.13.253.57   \n",
      "992   69             kbrunkerrk@hibu.com       Keen    Male    228.227.8.245   \n",
      "993   34             sleallerl@wikia.com      Selle  Female     42.147.60.17   \n",
      "994   38          kbeefonrm@vkontakte.ru    Karylin  Female     22.178.83.93   \n",
      "995   73           pstroulgerrn@time.com   Penelopa  Female  116.139.135.110   \n",
      "996   46     kbasnettro@seattletimes.com      Kandy  Female    204.88.246.32   \n",
      "997   55     pmortlockrp@liveinternet.ru       Paco    Male   223.217.138.28   \n",
      "998   58            sphetterq@toplist.cz      Sammy    Male    30.133.159.63   \n",
      "999   26           jtyresrr@slashdot.org     Josiah    Male    82.208.90.242   \n",
      "\n",
      "       last_name          phone    zip  \n",
      "0      DelaField  (245)663-9899  48157  \n",
      "1        Gravett  (445)749-6402  88414  \n",
      "2      Stockdale  (312)997-8947  74026  \n",
      "3        Comfort  (530)815-7417  73002  \n",
      "4       Pinckard  (214)138-6981  41861  \n",
      "5          Smail  (918)972-0284  30045  \n",
      "6    Bowlesworth  (113)112-6771  82432  \n",
      "7        Bricket  (665)414-5000  80745  \n",
      "8        McCahey  (218)925-2761   1537  \n",
      "9     Scotchford  (433)404-7429   2559  \n",
      "10       Scollan  (375)464-4912  39480  \n",
      "11    Ciementini  (678)997-5536  98537  \n",
      "12       Cubbino  (920)742-0040  62916  \n",
      "13      Grangier  (928)244-7440  49415  \n",
      "14       Dimitru  (727)125-0315  13144  \n",
      "15        Roddam  (185)375-0188  10199  \n",
      "16         Raoux  (805)542-0438  50424  \n",
      "17        Grooby  (841)267-7102  41513  \n",
      "18       Raggles  (639)538-7115  85609  \n",
      "19       Vennart  (104)768-2999  95135  \n",
      "20      Gulliman  (274)183-1917  57030  \n",
      "21     La Padula  (981)342-5337  72945  \n",
      "22     Hanwright  (605)741-2122  29150  \n",
      "23        Checci  (460)335-2421  20141  \n",
      "24       Lukovic  (996)835-2682  19006  \n",
      "25     Flintoffe  (919)465-9344  95616  \n",
      "26        Jeskin  (517)796-3878  41819  \n",
      "27     Ganforthe  (175)703-9055  93592  \n",
      "28     Dumberell  (666)800-4626  76573  \n",
      "29       Kaveney  (802)233-2511  16201  \n",
      "..           ...            ...    ...  \n",
      "970         Ades  (877)340-3983  41041  \n",
      "971       Ketley  (691)781-9582   2905  \n",
      "972      Cossins  (323)288-9679  12770  \n",
      "973      Quinion  (452)309-2781  32334  \n",
      "974     Bockings  (498)521-4884  19129  \n",
      "975      Jerrand  (871)168-1695  52732  \n",
      "976        Pyffe  (646)378-6618  58503  \n",
      "977      Airdrie  (691)913-9932  24318  \n",
      "978        Flint  (792)766-3084  99011  \n",
      "979        Vasic  (626)210-9784  82838  \n",
      "980      Mannagh  (501)588-7995  79010  \n",
      "981          Kop  (532)164-3700  67103  \n",
      "982     Stedmond  (160)896-8551  50078  \n",
      "983     Kynaston  (312)645-4661  35766  \n",
      "984       Dyster  (142)357-9842   4478  \n",
      "985        Cardo  (690)781-2853  78234  \n",
      "986       Jersch  (461)911-4511  96705  \n",
      "987      Wrangle  (275)423-6242  68901  \n",
      "988        Towle  (828)103-0054  58272  \n",
      "989        Angus  (214)353-4128  14620  \n",
      "990   Kennington  (443)231-5097  95619  \n",
      "991      Johncey  (746)900-3948  95837  \n",
      "992    MacDermot  (602)869-5523  90720  \n",
      "993     Burleton  (320)646-8913  32502  \n",
      "994      Crosbie  (519)281-1309  52162  \n",
      "995        Roman  (267)574-3068  36064  \n",
      "996       Cossam  (790)556-4502  32216  \n",
      "997  Weatherburn  (267)644-8957  98572  \n",
      "998       Dymick  (146)538-5595   4941  \n",
      "999     Ayshford  (571)127-0586   6093  \n",
      "\n",
      "[1000 rows x 8 columns]\n"
     ]
    }
   ],
   "source": [
    "#############################\n",
    "# 2a) Load in personal data #\n",
    "#############################\n",
    "\n",
    "# Load the user_dat.json file into a pandas dataframe. Call it 'df_users'.\n",
    "# Note: You might find that using the same method as A2 (or above) leads to an error.\n",
    "# The file has a slightly different organization. \n",
    "#   Try googling the error and finding the fix for it.\n",
    "# Hint: you can still use 'pd.read_json', you just need to add another argument.\n",
    "\n",
    "\n",
    "df_users = pd.read_json('user_dat.json', lines=True)\n",
    "print(df_users)\n",
    "\n"
   ]
  },
  {
   "cell_type": "code",
   "execution_count": 16,
   "metadata": {
    "collapsed": true,
    "deletable": false,
    "editable": false,
    "nbgrader": {
     "checksum": "5ec60d4634be90d7f87fd0bd248755cd",
     "grade": true,
     "grade_id": "2a-tests",
     "locked": true,
     "points": 0.5,
     "schema_version": 1,
     "solution": false
    }
   },
   "outputs": [],
   "source": [
    "assert isinstance(df_users, pd.DataFrame)\n"
   ]
  },
  {
   "cell_type": "code",
   "execution_count": 17,
   "metadata": {
    "deletable": false,
    "nbgrader": {
     "checksum": "1504c254187561447a8ab44a7c5b889b",
     "grade": false,
     "grade_id": "2b",
     "locked": false,
     "schema_version": 1,
     "solution": true
    }
   },
   "outputs": [
    {
     "name": "stdout",
     "output_type": "stream",
     "text": [
      "     age  gender    zip\n",
      "0     46    Male  48157\n",
      "1     56  Female  88414\n",
      "2     30    Male  74026\n",
      "3     87    Male  73002\n",
      "4     58    Male  41861\n",
      "5     39  Female  30045\n",
      "6     43  Female  82432\n",
      "7     37    Male  80745\n",
      "8     35  Female   1537\n",
      "9     40    Male   2559\n",
      "10     9    Male  39480\n",
      "11    38    Male  98537\n",
      "12    42  Female  62916\n",
      "13    39  Female  49415\n",
      "14    37  Female  13144\n",
      "15    66    Male  10199\n",
      "16    79    Male  50424\n",
      "17    67  Female  41513\n",
      "18    30  Female  85609\n",
      "19    39  Female  95135\n",
      "20    22    Male  57030\n",
      "21    42  Female  72945\n",
      "22    42    Male  29150\n",
      "23    56    Male  20141\n",
      "24    64    Male  19006\n",
      "25    58    Male  95616\n",
      "26    44  Female  41819\n",
      "27    62  Female  93592\n",
      "28    45  Female  76573\n",
      "29    31  Female  16201\n",
      "..   ...     ...    ...\n",
      "970   62  Female  41041\n",
      "971   32    Male   2905\n",
      "972   66  Female  12770\n",
      "973   67  Female  32334\n",
      "974   30    Male  19129\n",
      "975   13    Male  52732\n",
      "976   30  Female  58503\n",
      "977   64  Female  24318\n",
      "978   63  Female  99011\n",
      "979   97  Female  82838\n",
      "980   41    Male  79010\n",
      "981   85    Male  67103\n",
      "982   42    Male  50078\n",
      "983   73    Male  35766\n",
      "984   24    Male   4478\n",
      "985   41  Female  78234\n",
      "986   35  Female  96705\n",
      "987   54    Male  68901\n",
      "988   30    Male  58272\n",
      "989   34    Male  14620\n",
      "990   31  Female  95619\n",
      "991   64    None  95837\n",
      "992   69    Male  90720\n",
      "993   34  Female  32502\n",
      "994   38  Female  52162\n",
      "995   73  Female  36064\n",
      "996   46  Female  32216\n",
      "997   55    Male  98572\n",
      "998   58    Male   4941\n",
      "999   26    Male   6093\n",
      "\n",
      "[1000 rows x 3 columns]\n"
     ]
    }
   ],
   "source": [
    "################################\n",
    "# 2b) Drop personal attributes #\n",
    "################################\n",
    "\n",
    "# Remove any personal information, following the Safe Harbour method.\n",
    "# Based on lecture 11, remove any columns from df_personal that contain personal information.\n",
    "\n",
    "\n",
    "df_users = df_users.drop(df_users.columns[[1,2,4,5,6]], axis = 1)\n",
    "print(df_users)\n"
   ]
  },
  {
   "cell_type": "code",
   "execution_count": 18,
   "metadata": {
    "collapsed": true,
    "deletable": false,
    "editable": false,
    "nbgrader": {
     "checksum": "aaaa4402b823f36919d4953dcd89ebba",
     "grade": true,
     "grade_id": "2b-tests",
     "locked": true,
     "points": 0.5,
     "schema_version": 1,
     "solution": false
    }
   },
   "outputs": [],
   "source": [
    "assert len(df_users.columns) == 3\n"
   ]
  },
  {
   "cell_type": "code",
   "execution_count": 19,
   "metadata": {
    "deletable": false,
    "nbgrader": {
     "checksum": "9480a63078de6ea4631359ea4cb832aa",
     "grade": false,
     "grade_id": "2c",
     "locked": false,
     "schema_version": 1,
     "solution": true
    }
   },
   "outputs": [
    {
     "name": "stdout",
     "output_type": "stream",
     "text": [
      "     age  gender    zip\n",
      "0     46    Male  48157\n",
      "1     56  Female  88414\n",
      "2     30    Male  74026\n",
      "3     87    Male  73002\n",
      "4     58    Male  41861\n",
      "5     39  Female  30045\n",
      "6     43  Female  82432\n",
      "7     37    Male  80745\n",
      "8     35  Female   1537\n",
      "9     40    Male   2559\n",
      "10     9    Male  39480\n",
      "11    38    Male  98537\n",
      "12    42  Female  62916\n",
      "13    39  Female  49415\n",
      "14    37  Female  13144\n",
      "15    66    Male  10199\n",
      "16    79    Male  50424\n",
      "17    67  Female  41513\n",
      "18    30  Female  85609\n",
      "19    39  Female  95135\n",
      "20    22    Male  57030\n",
      "21    42  Female  72945\n",
      "22    42    Male  29150\n",
      "23    56    Male  20141\n",
      "24    64    Male  19006\n",
      "25    58    Male  95616\n",
      "26    44  Female  41819\n",
      "27    62  Female  93592\n",
      "28    45  Female  76573\n",
      "29    31  Female  16201\n",
      "..   ...     ...    ...\n",
      "969   46  Female  12939\n",
      "970   62  Female  41041\n",
      "971   32    Male   2905\n",
      "972   66  Female  12770\n",
      "973   67  Female  32334\n",
      "974   30    Male  19129\n",
      "975   13    Male  52732\n",
      "976   30  Female  58503\n",
      "977   64  Female  24318\n",
      "978   63  Female  99011\n",
      "980   41    Male  79010\n",
      "981   85    Male  67103\n",
      "982   42    Male  50078\n",
      "983   73    Male  35766\n",
      "984   24    Male   4478\n",
      "985   41  Female  78234\n",
      "986   35  Female  96705\n",
      "987   54    Male  68901\n",
      "988   30    Male  58272\n",
      "989   34    Male  14620\n",
      "990   31  Female  95619\n",
      "991   64    None  95837\n",
      "992   69    Male  90720\n",
      "993   34  Female  32502\n",
      "994   38  Female  52162\n",
      "995   73  Female  36064\n",
      "996   46  Female  32216\n",
      "997   55    Male  98572\n",
      "998   58    Male   4941\n",
      "999   26    Male   6093\n",
      "\n",
      "[990 rows x 3 columns]\n"
     ]
    }
   ],
   "source": [
    "###################################\n",
    "# 2c) Drop ages that are above 90 #\n",
    "###################################\n",
    "\n",
    "# Safe Harbour rule C:\n",
    "#   Drop all the rows which have age greater than 90 from df_personal\n",
    "\n",
    "df_users = df_users[df_users['age']<=90]\n",
    "\n",
    "print(df_users)"
   ]
  },
  {
   "cell_type": "code",
   "execution_count": 20,
   "metadata": {
    "collapsed": true,
    "deletable": false,
    "editable": false,
    "nbgrader": {
     "checksum": "40311cde009d27dd616174d70e573fdc",
     "grade": true,
     "grade_id": "2c-tests",
     "locked": true,
     "points": 0.5,
     "schema_version": 1,
     "solution": false
    }
   },
   "outputs": [],
   "source": [
    "assert df_users.shape==(990, 3)\n"
   ]
  },
  {
   "cell_type": "code",
   "execution_count": 21,
   "metadata": {
    "deletable": false,
    "nbgrader": {
     "checksum": "14b98252a58fa9a1023dcb4a45d88031",
     "grade": false,
     "grade_id": "2d",
     "locked": false,
     "schema_version": 1,
     "solution": true
    }
   },
   "outputs": [
    {
     "name": "stdout",
     "output_type": "stream",
     "text": [
      "         zip  population\n",
      "0       1001       16769\n",
      "1       1002       29049\n",
      "2       1003       10372\n",
      "3       1005        5079\n",
      "4       1007       14649\n",
      "5       1008        1263\n",
      "6       1009         741\n",
      "7       1010        3609\n",
      "8       1011        1370\n",
      "9       1012         661\n",
      "10      1013       23188\n",
      "11      1020       29668\n",
      "12      1022        2451\n",
      "13      1026         946\n",
      "14      1027       17660\n",
      "15      1028       15720\n",
      "16      1029         789\n",
      "17      1030       11669\n",
      "18      1031        1308\n",
      "19      1032         570\n",
      "20      1033        6227\n",
      "21      1034        2021\n",
      "22      1035        5250\n",
      "23      1036        5109\n",
      "24      1037         838\n",
      "25      1038        2545\n",
      "26      1039        1336\n",
      "27      1040       39880\n",
      "28      1050        2530\n",
      "29      1053        1685\n",
      "...      ...         ...\n",
      "33062  99786         259\n",
      "33063  99788          69\n",
      "33064  99789         402\n",
      "33065  99790          20\n",
      "33066  99791         237\n",
      "33067  99801       29164\n",
      "33068  99820         479\n",
      "33069  99824        2111\n",
      "33070  99825         120\n",
      "33071  99826         442\n",
      "33072  99827        2602\n",
      "33073  99829         777\n",
      "33074  99830         561\n",
      "33075  99832         104\n",
      "33076  99833        3202\n",
      "33077  99835        8880\n",
      "33078  99836          52\n",
      "33079  99840         968\n",
      "33080  99841         133\n",
      "33081  99901       13508\n",
      "33082  99903          31\n",
      "33083  99918         231\n",
      "33084  99919         531\n",
      "33085  99921        1920\n",
      "33086  99922         384\n",
      "33087  99923          87\n",
      "33088  99925         819\n",
      "33089  99926        1460\n",
      "33090  99927          94\n",
      "33091  99929        2338\n",
      "\n",
      "[33092 rows x 2 columns]\n"
     ]
    }
   ],
   "source": [
    "#############################\n",
    "# 2d) Load in zip code data #\n",
    "#############################\n",
    "\n",
    "# Load the zip_pop.csv file into a (different) pandas dataframe. Call it 'df_zip'.\n",
    "\n",
    "df_zip = pd.read_csv('zip_pop.csv')\n",
    "print(df_zip)"
   ]
  },
  {
   "cell_type": "code",
   "execution_count": 22,
   "metadata": {
    "collapsed": true,
    "deletable": false,
    "editable": false,
    "nbgrader": {
     "checksum": "78a50c8e93d6577339c9611bdd7eaaa8",
     "grade": true,
     "grade_id": "2d-tests",
     "locked": true,
     "points": 0.5,
     "schema_version": 1,
     "solution": false
    }
   },
   "outputs": [],
   "source": [
    "assert isinstance(df_zip, pd.DataFrame)\n"
   ]
  },
  {
   "cell_type": "code",
   "execution_count": 23,
   "metadata": {
    "deletable": false,
    "nbgrader": {
     "checksum": "482c2543666a9ca6af043fc5f0ec096f",
     "grade": false,
     "grade_id": "2e",
     "locked": false,
     "schema_version": 1,
     "solution": true
    }
   },
   "outputs": [],
   "source": [
    "###################################################\n",
    "# 2e) Sort zipcodes into \"Geographic Subdivision\" #\n",
    "###################################################\n",
    "\n",
    "# The Safe Harbour Method applies to \"Geographic Subdivisions\"\n",
    "#   as opposed to each zipcode itself. \n",
    "# Geographic Subdivision:\n",
    "#   All areas which share the first 3 digits of a zip code\n",
    "#\n",
    "# Count the total population for each geographic subdivision\n",
    "# Warning: you have to be savy with a dictionary here\n",
    "# To understand how a dictionary works, check the section materials,\n",
    "#   use google and go to discussion sections!\n",
    "#\n",
    "# Instructions: \n",
    "# - Create an empty dictionary: zip_dict = {}\n",
    "# - Loop through all the zip_codes in df_zip\n",
    "# - Create a dictionary key for the first 3 digits of a zip_code in zip_dict\n",
    "# - Continually add population counts to the key that contains the \n",
    "#     same first 3 digits of the zip code\n",
    "#\n",
    "# To extract the population you will find this code useful:\n",
    "#   population = list(df_zip.loc[df_zip['zip'] == zip_code]['population'])\n",
    "# To extract the first 3 digits of a zip_code you will find this code useful:\n",
    "#   int(str(zip_code)[:3])\n",
    "\n",
    "\n",
    "\n",
    "\n",
    "\n",
    "\n",
    "zip_dict = {}\n",
    "for zip_code in df_zip['zip']:\n",
    "    key = int(str(zip_code)[:3])\n",
    "    population = list(df_zip.loc[df_zip['zip'] == zip_code]['population'])\n",
    "    if key in zip_dict:\n",
    "        zip_dict[key] += population\n",
    "    else:\n",
    "        zip_dict[key] = population"
   ]
  },
  {
   "cell_type": "code",
   "execution_count": 24,
   "metadata": {
    "deletable": false,
    "editable": false,
    "nbgrader": {
     "checksum": "ca4da8e9dd23d3339d5489e32dfcf0f0",
     "grade": true,
     "grade_id": "2e-tests",
     "locked": true,
     "points": 1.25,
     "schema_version": 1,
     "solution": false
    }
   },
   "outputs": [
    {
     "ename": "AssertionError",
     "evalue": "",
     "output_type": "error",
     "traceback": [
      "\u001b[0;31m---------------------------------------------------------------------------\u001b[0m",
      "\u001b[0;31mAssertionError\u001b[0m                            Traceback (most recent call last)",
      "\u001b[0;32m<ipython-input-24-0b606f6b8ac7>\u001b[0m in \u001b[0;36m<module>\u001b[0;34m()\u001b[0m\n\u001b[1;32m      1\u001b[0m \u001b[0;32massert\u001b[0m \u001b[0misinstance\u001b[0m\u001b[0;34m(\u001b[0m\u001b[0mzip_dict\u001b[0m\u001b[0;34m,\u001b[0m \u001b[0mdict\u001b[0m\u001b[0;34m)\u001b[0m\u001b[0;34m\u001b[0m\u001b[0m\n\u001b[0;32m----> 2\u001b[0;31m \u001b[0;32massert\u001b[0m \u001b[0mzip_dict\u001b[0m\u001b[0;34m[\u001b[0m\u001b[0;36m100\u001b[0m\u001b[0;34m]\u001b[0m \u001b[0;34m==\u001b[0m \u001b[0;36m1580423\u001b[0m\u001b[0;34m\u001b[0m\u001b[0m\n\u001b[0m",
      "\u001b[0;31mAssertionError\u001b[0m: "
     ]
    }
   ],
   "source": [
    "assert isinstance(zip_dict, dict)\n",
    "assert zip_dict[100] == 1580423\n"
   ]
  },
  {
   "cell_type": "code",
   "execution_count": null,
   "metadata": {
    "collapsed": true,
    "deletable": false,
    "editable": false,
    "nbgrader": {
     "checksum": "8ac6161713eab97c3bd8b8589aab70e4",
     "grade": false,
     "grade_id": "2f",
     "locked": true,
     "schema_version": 1,
     "solution": false
    }
   },
   "outputs": [],
   "source": [
    "#################################\n",
    "# 2f) Explain this Code Excerpt #\n",
    "#################################\n",
    "\n",
    "# In the cell below, explain in words what what the following line of code is doing:\n",
    "population = list(df_zip.loc[df_zip['zip'] == zip_code]['population'])"
   ]
  },
  {
   "cell_type": "code",
   "execution_count": null,
   "metadata": {
    "collapsed": true,
    "deletable": false,
    "nbgrader": {
     "checksum": "17b0f60a5dbbbe38079a280347b8c6a3",
     "grade": true,
     "grade_id": "2f-write",
     "locked": false,
     "points": 0,
     "schema_version": 1,
     "solution": true
    }
   },
   "outputs": [],
   "source": [
    "# first of all it looks in the zip column of the df_zip dataframe to find if a row contain the value of zip_code\n",
    "# if this is the case we grab the value in the same row in the population column \n",
    "# then the value is converted into a list value and returned"
   ]
  },
  {
   "cell_type": "code",
   "execution_count": null,
   "metadata": {
    "collapsed": true,
    "deletable": false,
    "nbgrader": {
     "checksum": "23cc413061868af6fa45d11007a430a2",
     "grade": false,
     "grade_id": "2g",
     "locked": false,
     "schema_version": 1,
     "solution": true
    }
   },
   "outputs": [],
   "source": [
    "#############################\n",
    "# 2g) Masking the Zip Codes #\n",
    "#############################\n",
    "\n",
    "# Go through each user, and update their zip-code, to Safe Harbour specifications:\n",
    "#   If the user is from a zip code for the which the\n",
    "#     \"Geographic Subdivision\" is less than equal to 20000:\n",
    "#        - Change the zip code to 0 \n",
    "#   Otherwise:\n",
    "#         - Change the zip code to be only the first 3 numbers of the full zip cide\n",
    "# Do all this re-writting the zip_code columns of the 'df_users' DataFrame\n",
    "#\n",
    "# Hints:\n",
    "#  - This will be several lines of code, looping through the DataFrame, \n",
    "#      getting each zip code, checking the geographic subdivision with \n",
    "#      the population in zip_dict, and settig the zip_code accordingly. \n",
    "\n",
    "\n",
    "for index, row in df_users.iterrows():\n",
    "    first_three = int(str(zip_code)[3:])\n",
    "    print(first_three)\n",
    "    if (zip_dict[first_three] <= 20000):\n",
    "        df_users.set_value(index, 'zip', 0)\n",
    "    else:\n",
    "        df_users.set_value(index, 'zip', first_three)"
   ]
  },
  {
   "cell_type": "code",
   "execution_count": null,
   "metadata": {
    "collapsed": true,
    "deletable": false,
    "editable": false,
    "nbgrader": {
     "checksum": "d473dbc119ea6380f28821d47b742d55",
     "grade": true,
     "grade_id": "2g-tests",
     "locked": true,
     "points": 1.25,
     "schema_version": 1,
     "solution": false
    }
   },
   "outputs": [],
   "source": [
    "assert len(df_users) == 990\n",
    "assert sum(df_users.zip == 0) == 2\n",
    "assert df_users.ix[671, 'zip'] == 0\n"
   ]
  },
  {
   "cell_type": "code",
   "execution_count": null,
   "metadata": {
    "collapsed": true,
    "deletable": false,
    "nbgrader": {
     "checksum": "771d37a03c03fbaf4ce75134398259c8",
     "grade": false,
     "grade_id": "2h",
     "locked": false,
     "schema_version": 1,
     "solution": true
    }
   },
   "outputs": [],
   "source": [
    "##########################################################\n",
    "# 2h) Save out the properly anonymized data to json file #\n",
    "##########################################################\n",
    "\n",
    "# Save out df_users as a json file, called 'real_anon_user_dat.json'\n",
    "df_users.to_json('real_anon_user_dat.json')"
   ]
  },
  {
   "cell_type": "code",
   "execution_count": null,
   "metadata": {
    "collapsed": true,
    "deletable": false,
    "editable": false,
    "nbgrader": {
     "checksum": "5f1b809a9d61919bc0dd68fda1aedc1b",
     "grade": true,
     "grade_id": "2h-tests",
     "locked": true,
     "points": 0.5,
     "schema_version": 1,
     "solution": false
    }
   },
   "outputs": [],
   "source": [
    "assert isinstance(pd.read_json('real_anon_user_dat.json'), pd.DataFrame)"
   ]
  },
  {
   "cell_type": "markdown",
   "metadata": {
    "deletable": false,
    "editable": false,
    "nbgrader": {
     "checksum": "d2d93ad8046edf965c498ec0bf27f765",
     "grade": false,
     "grade_id": "finish",
     "locked": true,
     "schema_version": 1,
     "solution": false
    }
   },
   "source": [
    "Congrats, you're done! The users identities are much more protected now. \n",
    "\n",
    "Submit this notebook file to TritonED."
   ]
  },
  {
   "cell_type": "code",
   "execution_count": null,
   "metadata": {
    "collapsed": true
   },
   "outputs": [],
   "source": []
  },
  {
   "cell_type": "code",
   "execution_count": null,
   "metadata": {
    "collapsed": true
   },
   "outputs": [],
   "source": []
  }
 ],
 "metadata": {
  "kernelspec": {
   "display_name": "Python 3",
   "language": "python",
   "name": "python3"
  },
  "language_info": {
   "codemirror_mode": {
    "name": "ipython",
    "version": 3
   },
   "file_extension": ".py",
   "mimetype": "text/x-python",
   "name": "python",
   "nbconvert_exporter": "python",
   "pygments_lexer": "ipython3",
   "version": "3.5.2"
  }
 },
 "nbformat": 4,
 "nbformat_minor": 2
}
